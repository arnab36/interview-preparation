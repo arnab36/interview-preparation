{
 "cells": [
  {
   "cell_type": "code",
   "execution_count": 1,
   "id": "b9c0facb",
   "metadata": {},
   "outputs": [
    {
     "data": {
      "text/plain": [
       "\"\\nYou are given an integer array nums. You are initially positioned at the array's first index, and each element in the array\\nrepresents your maximum jump length at that position.\\n\\nReturn true if you can reach the last index, or false otherwise.\\n\\n\""
      ]
     },
     "execution_count": 1,
     "metadata": {},
     "output_type": "execute_result"
    }
   ],
   "source": [
    "'''\n",
    "You are given an integer array nums. You are initially positioned at the array's first index, and each element in the array\n",
    "represents your maximum jump length at that position.\n",
    "\n",
    "Return true if you can reach the last index, or false otherwise.\n",
    "\n",
    "'''"
   ]
  },
  {
   "cell_type": "code",
   "execution_count": 5,
   "id": "dc7c8ad4",
   "metadata": {},
   "outputs": [],
   "source": [
    " nums = [3,2,1,0,4]"
   ]
  },
  {
   "cell_type": "code",
   "execution_count": 8,
   "id": "75082b6e",
   "metadata": {},
   "outputs": [],
   "source": [
    "def jump_index(nums):\n",
    "    l = len(nums)\n",
    "    max_index = l-1\n",
    "    idx = 0\n",
    "    \n",
    "    if l == 0:\n",
    "        if nums[0] == 0:\n",
    "            return True\n",
    "        else:\n",
    "            return False\n",
    "        \n",
    "    while True:\n",
    "        cur_num = nums[idx]\n",
    "        if cur_num == 0:\n",
    "            return False\n",
    "        elif idx+cur_num  == max_index:\n",
    "            return True\n",
    "        elif idx+cur_num > max_index:\n",
    "            return False\n",
    "        else:\n",
    "            idx = idx+cur_num\n",
    "            "
   ]
  },
  {
   "cell_type": "code",
   "execution_count": 9,
   "id": "674a0b89",
   "metadata": {},
   "outputs": [
    {
     "data": {
      "text/plain": [
       "False"
      ]
     },
     "execution_count": 9,
     "metadata": {},
     "output_type": "execute_result"
    }
   ],
   "source": [
    "jump_index(nums)"
   ]
  },
  {
   "cell_type": "code",
   "execution_count": null,
   "id": "3b29ad41",
   "metadata": {},
   "outputs": [],
   "source": []
  }
 ],
 "metadata": {
  "kernelspec": {
   "display_name": "Python 3 (ipykernel)",
   "language": "python",
   "name": "python3"
  },
  "language_info": {
   "codemirror_mode": {
    "name": "ipython",
    "version": 3
   },
   "file_extension": ".py",
   "mimetype": "text/x-python",
   "name": "python",
   "nbconvert_exporter": "python",
   "pygments_lexer": "ipython3",
   "version": "3.11.5"
  }
 },
 "nbformat": 4,
 "nbformat_minor": 5
}
