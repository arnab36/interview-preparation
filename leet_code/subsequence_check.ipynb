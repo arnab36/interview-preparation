{
 "cells": [
  {
   "cell_type": "code",
   "execution_count": 1,
   "id": "1f4517cc",
   "metadata": {},
   "outputs": [],
   "source": [
    "# Given two strings s and t, return true if t is a subsequence of s, or false otherwise.\n",
    "\n",
    "# A subsequence of a string is a new string that is formed from the original string by deleting some (can be none) of \n",
    "# the characters without disturbing the relative positions of the remaining characters.\n",
    "# (i.e., \"ace\" is a subsequence of \"abcde\" while \"aec\" is not)."
   ]
  },
  {
   "cell_type": "code",
   "execution_count": 11,
   "id": "52228afa",
   "metadata": {},
   "outputs": [],
   "source": [
    "s = \"abcde\"\n",
    "t = \"aec\""
   ]
  },
  {
   "cell_type": "code",
   "execution_count": 12,
   "id": "4819b000",
   "metadata": {},
   "outputs": [],
   "source": [
    "def isSubsequence(s, t):\n",
    "    index1, index2 = 0, 0\n",
    "    l = len(s)\n",
    "    if len(t) == 0:\n",
    "        return True\n",
    "    while index1 < l:\n",
    "        if t[index2] == s[index1]:\n",
    "            if index2 == len(t) -1:\n",
    "                return True\n",
    "            else:\n",
    "                index2 += 1\n",
    "        index1 += 1\n",
    "    return False            "
   ]
  },
  {
   "cell_type": "code",
   "execution_count": 13,
   "id": "53a8c6ce",
   "metadata": {},
   "outputs": [
    {
     "data": {
      "text/plain": [
       "False"
      ]
     },
     "execution_count": 13,
     "metadata": {},
     "output_type": "execute_result"
    }
   ],
   "source": [
    "isSubsequence(s, t)"
   ]
  },
  {
   "cell_type": "code",
   "execution_count": null,
   "id": "13342cf9",
   "metadata": {},
   "outputs": [],
   "source": []
  }
 ],
 "metadata": {
  "kernelspec": {
   "display_name": "Python 3 (ipykernel)",
   "language": "python",
   "name": "python3"
  },
  "language_info": {
   "codemirror_mode": {
    "name": "ipython",
    "version": 3
   },
   "file_extension": ".py",
   "mimetype": "text/x-python",
   "name": "python",
   "nbconvert_exporter": "python",
   "pygments_lexer": "ipython3",
   "version": "3.11.5"
  }
 },
 "nbformat": 4,
 "nbformat_minor": 5
}
