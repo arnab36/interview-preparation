{
 "cells": [
  {
   "cell_type": "code",
   "execution_count": 15,
   "id": "3d7e87eb",
   "metadata": {},
   "outputs": [],
   "source": [
    "def productExceptSelf(nums):\n",
    "        \"\"\"\n",
    "        :type nums: List[int]\n",
    "        :rtype: List[int]\n",
    "        \"\"\"\n",
    "        ntotal = 1\n",
    "        count_zeros = 0\n",
    "        zero_idx = 0\n",
    "        counter = 0\n",
    "        for i in nums:\n",
    "            if i == 0:\n",
    "                count_zeros += 1\n",
    "                if count_zeros == 1:\n",
    "                    zero_idx = counter\n",
    "                else:\n",
    "                    break\n",
    "            else: \n",
    "                ntotal *= i\n",
    "                \n",
    "            counter+= 1\n",
    "        \n",
    "        print(ntotal)\n",
    "        print(zero_idx)\n",
    "        \n",
    "        result = [0] * len(nums)\n",
    "        if count_zeros > 1:\n",
    "            return result\n",
    "\n",
    "        if count_zeros == 1:\n",
    "            result.insert(zero_idx,ntotal)\n",
    "            return result\n",
    "\n",
    "        result = []\n",
    "        for i in nums:\n",
    "            result.append(ntotal/i)\n",
    "        return result"
   ]
  },
  {
   "cell_type": "code",
   "execution_count": 16,
   "id": "5de67d5b",
   "metadata": {},
   "outputs": [
    {
     "name": "stdout",
     "output_type": "stream",
     "text": [
      "9\n",
      "2\n",
      "[0, 0, 9, 0, 0, 0]\n"
     ]
    }
   ],
   "source": [
    "print(productExceptSelf([-1,1,0,-3,3]))"
   ]
  },
  {
   "cell_type": "code",
   "execution_count": null,
   "id": "09e9b798",
   "metadata": {},
   "outputs": [],
   "source": []
  }
 ],
 "metadata": {
  "kernelspec": {
   "display_name": "Python 3 (ipykernel)",
   "language": "python",
   "name": "python3"
  },
  "language_info": {
   "codemirror_mode": {
    "name": "ipython",
    "version": 3
   },
   "file_extension": ".py",
   "mimetype": "text/x-python",
   "name": "python",
   "nbconvert_exporter": "python",
   "pygments_lexer": "ipython3",
   "version": "3.11.5"
  }
 },
 "nbformat": 4,
 "nbformat_minor": 5
}
