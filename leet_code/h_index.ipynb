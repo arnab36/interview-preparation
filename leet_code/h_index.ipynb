{
 "cells": [
  {
   "cell_type": "code",
   "execution_count": 1,
   "id": "00bd1931",
   "metadata": {},
   "outputs": [
    {
     "data": {
      "text/plain": [
       "\"\\n\\nGiven an array of integers citations where citations[i] is the number of citations a researcher received for their ith \\npaper, return the researcher's h-index.\\n\\nAccording to the definition of h-index on Wikipedia: The h-index is defined as the maximum value of h such that the given \\nresearcher has published at least h papers that have each been cited at least h times.\\n\\n\""
      ]
     },
     "execution_count": 1,
     "metadata": {},
     "output_type": "execute_result"
    }
   ],
   "source": [
    "'''\n",
    "\n",
    "Given an array of integers citations where citations[i] is the number of citations a researcher received for their ith \n",
    "paper, return the researcher's h-index.\n",
    "\n",
    "According to the definition of h-index on Wikipedia: The h-index is defined as the maximum value of h such that the given \n",
    "researcher has published at least h papers that have each been cited at least h times.\n",
    "\n",
    "'''"
   ]
  },
  {
   "cell_type": "code",
   "execution_count": 21,
   "id": "93140281",
   "metadata": {},
   "outputs": [],
   "source": [
    "import numpy as np"
   ]
  },
  {
   "cell_type": "code",
   "execution_count": 29,
   "id": "1e57c3ff",
   "metadata": {},
   "outputs": [],
   "source": [
    "citations = [0,1,3,2,2,5,6,6,6] \n",
    "n = len(citations)"
   ]
  },
  {
   "cell_type": "code",
   "execution_count": 30,
   "id": "da0cd68c",
   "metadata": {},
   "outputs": [],
   "source": [
    "arr = [0] * n"
   ]
  },
  {
   "cell_type": "code",
   "execution_count": 31,
   "id": "08a6fb04",
   "metadata": {},
   "outputs": [
    {
     "data": {
      "text/plain": [
       "[0, 0, 0, 0, 0, 0, 0, 0, 0]"
      ]
     },
     "execution_count": 31,
     "metadata": {},
     "output_type": "execute_result"
    }
   ],
   "source": [
    "arr"
   ]
  },
  {
   "cell_type": "code",
   "execution_count": 32,
   "id": "a6dfa878",
   "metadata": {},
   "outputs": [],
   "source": [
    "for i in citations:\n",
    "    if i >= n:\n",
    "        arr[n] = arr[n] + 1\n",
    "    else:\n",
    "        arr[i] = arr[i] + 1"
   ]
  },
  {
   "cell_type": "code",
   "execution_count": 33,
   "id": "ccff5be2",
   "metadata": {},
   "outputs": [
    {
     "data": {
      "text/plain": [
       "[1, 1, 2, 1, 0, 1, 3, 0, 0]"
      ]
     },
     "execution_count": 33,
     "metadata": {},
     "output_type": "execute_result"
    }
   ],
   "source": [
    "arr"
   ]
  },
  {
   "cell_type": "code",
   "execution_count": 34,
   "id": "854d2505",
   "metadata": {},
   "outputs": [],
   "source": [
    "count = 0"
   ]
  },
  {
   "cell_type": "code",
   "execution_count": 35,
   "id": "a66586a0",
   "metadata": {},
   "outputs": [
    {
     "name": "stdout",
     "output_type": "stream",
     "text": [
      "4\n"
     ]
    }
   ],
   "source": [
    "for i in range(n-1,0,-1):\n",
    "    count = count + arr[i]\n",
    "    if count >= i:\n",
    "        print(i)\n",
    "        break"
   ]
  },
  {
   "cell_type": "code",
   "execution_count": null,
   "id": "23816851",
   "metadata": {},
   "outputs": [],
   "source": []
  }
 ],
 "metadata": {
  "kernelspec": {
   "display_name": "Python 3 (ipykernel)",
   "language": "python",
   "name": "python3"
  },
  "language_info": {
   "codemirror_mode": {
    "name": "ipython",
    "version": 3
   },
   "file_extension": ".py",
   "mimetype": "text/x-python",
   "name": "python",
   "nbconvert_exporter": "python",
   "pygments_lexer": "ipython3",
   "version": "3.11.5"
  }
 },
 "nbformat": 4,
 "nbformat_minor": 5
}
