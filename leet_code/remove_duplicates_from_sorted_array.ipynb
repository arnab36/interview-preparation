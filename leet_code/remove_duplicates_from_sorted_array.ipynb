{
 "cells": [
  {
   "cell_type": "code",
   "execution_count": 1,
   "id": "6511be80",
   "metadata": {},
   "outputs": [],
   "source": [
    "'''\n",
    "    Given an integer array nums sorted in non-decreasing order, remove the duplicates in-place such that each \n",
    "    unique element appears only once. The relative order of the elements should be kept the same. Then return \n",
    "    the number of unique elements in nums.\n",
    "\n",
    "''"
   ]
  },
  {
   "cell_type": "code",
   "execution_count": null,
   "id": "339916f8",
   "metadata": {},
   "outputs": [],
   "source": [
    "\"\"\"\n",
    ":type nums: List[int]\n",
    ":rtype: int\n",
    "\"\"\"\n",
    "\n",
    "nums = [1,1,2,2,2,2,4,5,8,9,12,12,13,15,15,15]\n",
    "\n",
    "i = 1\n",
    "while i < len(nums):\n",
    "    if nums[i] == nums[i - 1]:\n",
    "        nums.pop(i)\n",
    "    else:\n",
    "        i += 1"
   ]
  },
  {
   "cell_type": "code",
   "execution_count": 2,
   "id": "14e03414",
   "metadata": {},
   "outputs": [
    {
     "name": "stdout",
     "output_type": "stream",
     "text": [
      "[1, 2, 4, 5, 8, 9, 12, 13, 15]\n"
     ]
    }
   ],
   "source": [
    "print(nums)"
   ]
  },
  {
   "cell_type": "code",
   "execution_count": 6,
   "id": "e232215a",
   "metadata": {},
   "outputs": [],
   "source": [
    "nums1 = [1,2,3,0,0,0]\n",
    "nums2 = [2,5,6]\n",
    "\n",
    "m = len(nums1)\n",
    "n = len(nums2)\n",
    "\n",
    "if m == 0 and 1 == 1:\n",
    "    nums1[0] = nums2[0]\n",
    "elif m == 1 and n == 0:\n",
    "    pass\n",
    "else :\n",
    "    tmp = []\n",
    "    i = 0\n",
    "    j = 0\n",
    "    while i < m-1 and j < n-1:\n",
    "        if nums1[i] == 0:\n",
    "            cur = j\n",
    "            for j in range(cur,n):\n",
    "                tmp.append(nums2[j])\n",
    "            break\n",
    "        elif nums1[i] < nums2[j]:\n",
    "            tmp.append(nums1[i])\n",
    "            i += 1\n",
    "        else:\n",
    "            tmp.append(nums2[j])\n",
    "            j += 1\n",
    "\n",
    "    nums1 = []\n",
    "    for k in tmp:\n",
    "        nums1.append(k)"
   ]
  },
  {
   "cell_type": "code",
   "execution_count": 7,
   "id": "61819827",
   "metadata": {},
   "outputs": [
    {
     "name": "stdout",
     "output_type": "stream",
     "text": [
      "[1, 2, 2, 3, 5, 6]\n"
     ]
    }
   ],
   "source": [
    "print(nums1)"
   ]
  },
  {
   "cell_type": "code",
   "execution_count": 16,
   "id": "028ff638",
   "metadata": {},
   "outputs": [],
   "source": [
    "nums =[1,1,1,2,2,3]\n",
    "i = 0\n",
    "cur_freq = 0\n",
    "while i < len(nums)-1:\n",
    "    if nums[i] == nums[i+1]:\n",
    "        cur_freq += 1\n",
    "        if cur_freq > 1:\n",
    "           nums.pop(i) \n",
    "           cur_freq = cur_freq -1\n",
    "        else:\n",
    "            i = i + 1\n",
    "    else:                \n",
    "        cur_freq = 0\n",
    "        i = i + 1\n",
    "        \n",
    "#     print(\"{} Cur = {} \\t next = {} \\t Freq = {} \\t i = {}\".format(nums, nums[i], nums[i+1], cur_freq,i ))\n",
    "    \n",
    "    \n",
    "    \n"
   ]
  },
  {
   "cell_type": "code",
   "execution_count": 17,
   "id": "eab381f2",
   "metadata": {},
   "outputs": [
    {
     "name": "stdout",
     "output_type": "stream",
     "text": [
      "[1, 1, 2, 2, 3]\n"
     ]
    }
   ],
   "source": [
    "print(nums)"
   ]
  },
  {
   "cell_type": "code",
   "execution_count": null,
   "id": "2b1bcd96",
   "metadata": {},
   "outputs": [],
   "source": []
  }
 ],
 "metadata": {
  "kernelspec": {
   "display_name": "Python 3 (ipykernel)",
   "language": "python",
   "name": "python3"
  },
  "language_info": {
   "codemirror_mode": {
    "name": "ipython",
    "version": 3
   },
   "file_extension": ".py",
   "mimetype": "text/x-python",
   "name": "python",
   "nbconvert_exporter": "python",
   "pygments_lexer": "ipython3",
   "version": "3.11.5"
  }
 },
 "nbformat": 4,
 "nbformat_minor": 5
}
