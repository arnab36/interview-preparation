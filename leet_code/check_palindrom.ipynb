{
 "cells": [
  {
   "cell_type": "code",
   "execution_count": 1,
   "id": "1649895b",
   "metadata": {},
   "outputs": [],
   "source": [
    "import re"
   ]
  },
  {
   "cell_type": "code",
   "execution_count": null,
   "id": "baf152f8",
   "metadata": {},
   "outputs": [],
   "source": [
    "# By Python definition '\\W == [^a-zA-Z0-9_], which excludes all numbers, letters and _"
   ]
  },
  {
   "cell_type": "code",
   "execution_count": 32,
   "id": "c9a05a44",
   "metadata": {},
   "outputs": [],
   "source": [
    "s = \"ab_a\"\n",
    "s = s.lower()\n",
    "s = re.sub(r'\\W+', '',s)\n",
    "s = s.replace('_','')"
   ]
  },
  {
   "cell_type": "code",
   "execution_count": 33,
   "id": "5d05c7e6",
   "metadata": {},
   "outputs": [
    {
     "data": {
      "text/plain": [
       "'aba'"
      ]
     },
     "execution_count": 33,
     "metadata": {},
     "output_type": "execute_result"
    }
   ],
   "source": [
    "s"
   ]
  },
  {
   "cell_type": "code",
   "execution_count": 34,
   "id": "2115aca7",
   "metadata": {},
   "outputs": [],
   "source": [
    "l = len(s)"
   ]
  },
  {
   "cell_type": "code",
   "execution_count": null,
   "id": "a583250c",
   "metadata": {},
   "outputs": [],
   "source": []
  },
  {
   "cell_type": "code",
   "execution_count": 35,
   "id": "88ab1e8d",
   "metadata": {},
   "outputs": [],
   "source": [
    "def check_palindrom(s,l):\n",
    "    left = 0\n",
    "    right = l-1\n",
    "    if l == 0 or l == 1:\n",
    "        return True\n",
    "    while left < right:\n",
    "        if s[left] != s[right]:\n",
    "            return False\n",
    "        left+=1\n",
    "        right -= 1\n",
    "    return True"
   ]
  },
  {
   "cell_type": "code",
   "execution_count": 36,
   "id": "c76354f2",
   "metadata": {},
   "outputs": [
    {
     "data": {
      "text/plain": [
       "True"
      ]
     },
     "execution_count": 36,
     "metadata": {},
     "output_type": "execute_result"
    }
   ],
   "source": [
    "check_palindrom(s,l)"
   ]
  },
  {
   "cell_type": "code",
   "execution_count": null,
   "id": "d7dd8356",
   "metadata": {},
   "outputs": [],
   "source": []
  }
 ],
 "metadata": {
  "kernelspec": {
   "display_name": "Python 3 (ipykernel)",
   "language": "python",
   "name": "python3"
  },
  "language_info": {
   "codemirror_mode": {
    "name": "ipython",
    "version": 3
   },
   "file_extension": ".py",
   "mimetype": "text/x-python",
   "name": "python",
   "nbconvert_exporter": "python",
   "pygments_lexer": "ipython3",
   "version": "3.11.5"
  }
 },
 "nbformat": 4,
 "nbformat_minor": 5
}
