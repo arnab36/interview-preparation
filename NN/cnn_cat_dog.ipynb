{
 "cells": [
  {
   "cell_type": "code",
   "execution_count": 1,
   "id": "adb4cf10",
   "metadata": {},
   "outputs": [],
   "source": [
    "import numpy as np\n",
    "import tensorflow as tf\n",
    "from keras.preprocessing.image import ImageDataGenerator\n",
    "# from keras.preprocessing import image\n",
    "import keras.utils as image\n"
   ]
  },
  {
   "cell_type": "code",
   "execution_count": 2,
   "id": "825b1b89",
   "metadata": {},
   "outputs": [],
   "source": [
    "path = 'C:/Users/ArnabBiswas/Documents/Data/Kaggle Dataset/cnn-data/Cat-Dog/'\n",
    "\n",
    "modelName = \"savedModels/model-cnn-cat-dog-2.h5\""
   ]
  },
  {
   "cell_type": "code",
   "execution_count": 3,
   "id": "66979e3d",
   "metadata": {},
   "outputs": [],
   "source": [
    "def prepare_data():\n",
    "    #As each pixel takes value from 0 to 255, we normalize by dividing all of them by 255\n",
    "    train_datagen = ImageDataGenerator(rescale=1./255, shear_range=0.2, zoom_range=0.2, \n",
    "                                       horizontal_flip=True)\n",
    "    \n",
    "    training_set = train_datagen.flow_from_directory(path+'training_set', target_size=(64,64), batch_size=32,\n",
    "                                                    class_mode='binary')    \n",
    "    \n",
    "    \n",
    "    test_datagen = ImageDataGenerator(rescale=1./255, shear_range=0.2, zoom_range=0.2, \n",
    "                                       horizontal_flip=True)    \n",
    "    \n",
    "    test_set = test_datagen.flow_from_directory(path+'test_set', target_size=(64,64), batch_size=32,\n",
    "                                                    class_mode='binary')\n",
    "    \n",
    "    #Encode the result\n",
    "    print(training_set.class_indices)\n",
    "    \n",
    "    return training_set, test_set"
   ]
  },
  {
   "cell_type": "code",
   "execution_count": 4,
   "id": "b21ed906",
   "metadata": {},
   "outputs": [
    {
     "name": "stdout",
     "output_type": "stream",
     "text": [
      "Found 8000 images belonging to 2 classes.\n",
      "Found 2000 images belonging to 2 classes.\n",
      "{'cats': 0, 'dogs': 1}\n"
     ]
    }
   ],
   "source": [
    "training_set, test_set = prepare_data()"
   ]
  },
  {
   "cell_type": "code",
   "execution_count": 5,
   "id": "c226c499",
   "metadata": {},
   "outputs": [],
   "source": [
    "def train_cnn_model(training_set, validation_set):\n",
    "    \n",
    "    #Initializing the CNN\n",
    "    cnn = tf.keras.models.Sequential()\n",
    "    \n",
    "    #Convolution\n",
    "    cnn.add(tf.keras.layers.Conv2D(filters=32, activation='relu', kernel_size=3,\n",
    "                                   input_shape=[64,64,3]))\n",
    "    #pooling\n",
    "    cnn.add(tf.keras.layers.MaxPool2D(pool_size=2, strides=2))\n",
    "    \n",
    "    \n",
    "    #Adding a second convolution layer\n",
    "    cnn.add(tf.keras.layers.Conv2D(filters=32, activation='relu', kernel_size=3))\n",
    "    #pooling\n",
    "    cnn.add(tf.keras.layers.MaxPool2D(pool_size=2, strides=2))\n",
    "    \n",
    "    #Flattening \n",
    "    cnn.add(tf.keras.layers.Flatten())\n",
    "    \n",
    "    # Add a fully connected layer\n",
    "    cnn.add(tf.keras.layers.Dense(units=128, activation='relu'))\n",
    "    \n",
    "    #Output layer\n",
    "    cnn.add(tf.keras.layers.Dense(units=1, activation='sigmoid'))\n",
    "    \n",
    "    \n",
    "    #Compiling the CNN\n",
    "    cnn.compile(optimizer='adam',  loss='binary_crossentropy', metrics=['accuracy'])\n",
    "    \n",
    "    #Training the CNN\n",
    "    cnn.fit(x= training_set, validation_data=validation_set, epochs=25)\n",
    "\n",
    "    cnn.save(modelName)"
   ]
  },
  {
   "cell_type": "code",
   "execution_count": 6,
   "id": "aab5f9be",
   "metadata": {},
   "outputs": [
    {
     "name": "stdout",
     "output_type": "stream",
     "text": [
      "Epoch 1/25\n",
      "250/250 [==============================] - 187s 744ms/step - loss: 0.6731 - accuracy: 0.5756 - val_loss: 0.6241 - val_accuracy: 0.6420\n",
      "Epoch 2/25\n",
      "250/250 [==============================] - 49s 195ms/step - loss: 0.5999 - accuracy: 0.6762 - val_loss: 0.5885 - val_accuracy: 0.6900\n",
      "Epoch 3/25\n",
      "250/250 [==============================] - 48s 191ms/step - loss: 0.5629 - accuracy: 0.7085 - val_loss: 0.5972 - val_accuracy: 0.6680\n",
      "Epoch 4/25\n",
      "250/250 [==============================] - 48s 190ms/step - loss: 0.5360 - accuracy: 0.7274 - val_loss: 0.5638 - val_accuracy: 0.7060\n",
      "Epoch 5/25\n",
      "250/250 [==============================] - 47s 189ms/step - loss: 0.5043 - accuracy: 0.7546 - val_loss: 0.5133 - val_accuracy: 0.7485\n",
      "Epoch 6/25\n",
      "250/250 [==============================] - 47s 188ms/step - loss: 0.4979 - accuracy: 0.7569 - val_loss: 0.4877 - val_accuracy: 0.7690\n",
      "Epoch 7/25\n",
      "250/250 [==============================] - 48s 193ms/step - loss: 0.4843 - accuracy: 0.7696 - val_loss: 0.4763 - val_accuracy: 0.7760\n",
      "Epoch 8/25\n",
      "250/250 [==============================] - 48s 191ms/step - loss: 0.4639 - accuracy: 0.7778 - val_loss: 0.4799 - val_accuracy: 0.7670\n",
      "Epoch 9/25\n",
      "250/250 [==============================] - 48s 193ms/step - loss: 0.4543 - accuracy: 0.7885 - val_loss: 0.4821 - val_accuracy: 0.7615\n",
      "Epoch 10/25\n",
      "250/250 [==============================] - 48s 191ms/step - loss: 0.4397 - accuracy: 0.7960 - val_loss: 0.4850 - val_accuracy: 0.7760\n",
      "Epoch 11/25\n",
      "250/250 [==============================] - 48s 192ms/step - loss: 0.4255 - accuracy: 0.8024 - val_loss: 0.4666 - val_accuracy: 0.7800\n",
      "Epoch 12/25\n",
      "250/250 [==============================] - 48s 191ms/step - loss: 0.4175 - accuracy: 0.8083 - val_loss: 0.4738 - val_accuracy: 0.7795\n",
      "Epoch 13/25\n",
      "250/250 [==============================] - 49s 194ms/step - loss: 0.4089 - accuracy: 0.8129 - val_loss: 0.4866 - val_accuracy: 0.7660\n",
      "Epoch 14/25\n",
      "250/250 [==============================] - 48s 192ms/step - loss: 0.3907 - accuracy: 0.8213 - val_loss: 0.4755 - val_accuracy: 0.7930\n",
      "Epoch 15/25\n",
      "250/250 [==============================] - 48s 192ms/step - loss: 0.3924 - accuracy: 0.8190 - val_loss: 0.4389 - val_accuracy: 0.8000\n",
      "Epoch 16/25\n",
      "250/250 [==============================] - 48s 193ms/step - loss: 0.3693 - accuracy: 0.8319 - val_loss: 0.4397 - val_accuracy: 0.8020\n",
      "Epoch 17/25\n",
      "250/250 [==============================] - 48s 191ms/step - loss: 0.3671 - accuracy: 0.8385 - val_loss: 0.4376 - val_accuracy: 0.7965\n",
      "Epoch 18/25\n",
      "250/250 [==============================] - 48s 191ms/step - loss: 0.3531 - accuracy: 0.8424 - val_loss: 0.4352 - val_accuracy: 0.7980\n",
      "Epoch 19/25\n",
      "250/250 [==============================] - 48s 192ms/step - loss: 0.3376 - accuracy: 0.8466 - val_loss: 0.4471 - val_accuracy: 0.8005\n",
      "Epoch 20/25\n",
      "250/250 [==============================] - 48s 192ms/step - loss: 0.3325 - accuracy: 0.8550 - val_loss: 0.4513 - val_accuracy: 0.8015\n",
      "Epoch 21/25\n",
      "250/250 [==============================] - 48s 192ms/step - loss: 0.3137 - accuracy: 0.8624 - val_loss: 0.5073 - val_accuracy: 0.7930\n",
      "Epoch 22/25\n",
      "250/250 [==============================] - 48s 192ms/step - loss: 0.3108 - accuracy: 0.8630 - val_loss: 0.4532 - val_accuracy: 0.8005\n",
      "Epoch 23/25\n",
      "250/250 [==============================] - 48s 192ms/step - loss: 0.3003 - accuracy: 0.8705 - val_loss: 0.4826 - val_accuracy: 0.7955\n",
      "Epoch 24/25\n",
      "250/250 [==============================] - 48s 193ms/step - loss: 0.2936 - accuracy: 0.8725 - val_loss: 0.4999 - val_accuracy: 0.7995\n",
      "Epoch 25/25\n",
      "250/250 [==============================] - 49s 196ms/step - loss: 0.2901 - accuracy: 0.8760 - val_loss: 0.4610 - val_accuracy: 0.8135\n"
     ]
    },
    {
     "name": "stderr",
     "output_type": "stream",
     "text": [
      "C:\\Users\\ArnabBiswas\\anaconda3\\envs\\mlenv\\Lib\\site-packages\\keras\\src\\engine\\training.py:3079: UserWarning: You are saving your model as an HDF5 file via `model.save()`. This file format is considered legacy. We recommend using instead the native Keras format, e.g. `model.save('my_model.keras')`.\n",
      "  saving_api.save_model(\n"
     ]
    }
   ],
   "source": [
    "train_cnn_model(training_set, test_set)"
   ]
  },
  {
   "cell_type": "code",
   "execution_count": 10,
   "id": "d03d7af0",
   "metadata": {},
   "outputs": [],
   "source": [
    "def load_model(modelName):\n",
    "    cnn = tf.keras.models.load_model(modelName)\n",
    "    return cnn\n",
    "\n",
    "cnn = load_model(modelName)"
   ]
  },
  {
   "cell_type": "code",
   "execution_count": 11,
   "id": "640a88c6",
   "metadata": {},
   "outputs": [],
   "source": [
    "def test_cnn_image(cnn,imgPath):    \n",
    "    \n",
    "    # Make as ingle prediction\n",
    "    test_image = image.load_img(imgPath, target_size=(64,64))\n",
    "    test_image = image.img_to_array(test_image)\n",
    "    \n",
    "    # Adding a fake/extra dimension\n",
    "    test_image = np.expand_dims(test_image, axis=0)\n",
    "    \n",
    "    # Getting prediction \n",
    "    result = cnn.predict(test_image)\n",
    "    \n",
    "    prediction= ''\n",
    "    if result[0][0] == 1:\n",
    "        prediction = 'dog'\n",
    "    else:\n",
    "        prediction = 'cat'\n",
    "        \n",
    "    print('Predicted class is = ' +prediction)"
   ]
  },
  {
   "cell_type": "code",
   "execution_count": 12,
   "id": "c13b63eb",
   "metadata": {},
   "outputs": [
    {
     "name": "stdout",
     "output_type": "stream",
     "text": [
      "1/1 [==============================] - 0s 68ms/step\n",
      "Predicted class is = dog\n"
     ]
    }
   ],
   "source": [
    "test_cnn_image(cnn, path+'single_prediction/cat_or_dog_1.jpg')"
   ]
  },
  {
   "cell_type": "code",
   "execution_count": 13,
   "id": "fdc6684d",
   "metadata": {},
   "outputs": [
    {
     "name": "stdout",
     "output_type": "stream",
     "text": [
      "1/1 [==============================] - 0s 28ms/step\n",
      "Predicted class is = cat\n",
      "1/1 [==============================] - 0s 33ms/step\n",
      "Predicted class is = cat\n",
      "1/1 [==============================] - 0s 22ms/step\n",
      "Predicted class is = cat\n",
      "1/1 [==============================] - 0s 29ms/step\n",
      "Predicted class is = cat\n",
      "1/1 [==============================] - 0s 19ms/step\n",
      "Predicted class is = cat\n",
      "1/1 [==============================] - 0s 25ms/step\n",
      "Predicted class is = cat\n",
      "1/1 [==============================] - 0s 15ms/step\n",
      "Predicted class is = cat\n",
      "1/1 [==============================] - 0s 24ms/step\n",
      "Predicted class is = cat\n",
      "1/1 [==============================] - 0s 18ms/step\n",
      "Predicted class is = cat\n",
      "1/1 [==============================] - 0s 19ms/step\n",
      "Predicted class is = cat\n",
      "1/1 [==============================] - 0s 20ms/step\n",
      "Predicted class is = cat\n",
      "1/1 [==============================] - 0s 19ms/step\n",
      "Predicted class is = cat\n",
      "1/1 [==============================] - 0s 31ms/step\n",
      "Predicted class is = cat\n"
     ]
    }
   ],
   "source": [
    "for i in range(1,14):\n",
    "    test_cnn_image(cnn, path+'single_prediction/cat.' +str(2)+'.jpg')"
   ]
  },
  {
   "cell_type": "code",
   "execution_count": null,
   "id": "daaf64ab",
   "metadata": {},
   "outputs": [],
   "source": []
  }
 ],
 "metadata": {
  "kernelspec": {
   "display_name": "Python 3 (ipykernel)",
   "language": "python",
   "name": "python3"
  },
  "language_info": {
   "codemirror_mode": {
    "name": "ipython",
    "version": 3
   },
   "file_extension": ".py",
   "mimetype": "text/x-python",
   "name": "python",
   "nbconvert_exporter": "python",
   "pygments_lexer": "ipython3",
   "version": "3.11.5"
  }
 },
 "nbformat": 4,
 "nbformat_minor": 5
}
