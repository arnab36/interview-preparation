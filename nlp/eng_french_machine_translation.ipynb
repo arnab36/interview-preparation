{
 "cells": [
  {
   "cell_type": "code",
   "execution_count": 50,
   "id": "28c70e02",
   "metadata": {},
   "outputs": [],
   "source": [
    "import string\n",
    "import re\n",
    "import numpy as np\n",
    "from numpy import array, argmax, random, take\n",
    "import pandas as pd\n",
    "from keras.models import Sequential\n",
    "from keras.layers import Dense, LSTM, Embedding, RepeatVector\n",
    "from keras.preprocessing.text import Tokenizer\n",
    "from keras.callbacks import ModelCheckpoint\n",
    "from keras.preprocessing.sequence import pad_sequences\n",
    "from keras.models import load_model\n",
    "from keras import optimizers\n",
    "import matplotlib.pyplot as plt\n",
    "import json"
   ]
  },
  {
   "cell_type": "code",
   "execution_count": 51,
   "id": "fd89696d",
   "metadata": {},
   "outputs": [],
   "source": [
    "MODEL_NAME='model_fr_en.h1.21_dec_23'\n",
    "MODEL_PATH = 'G:/ML Models/results_eng_french_translation/'\n",
    "INPUT_ABS_PATH = 'G:/ML Data/archive_eng_french_translation/en-fr.csv'\n",
    "MAX_SENT_LENGTH = 40"
   ]
  },
  {
   "cell_type": "code",
   "execution_count": 76,
   "id": "5f73ad1d",
   "metadata": {},
   "outputs": [],
   "source": [
    "# Read the input\n",
    "df = pd.read_csv(INPUT_ABS_PATH, index_col=False, nrows=100000)"
   ]
  },
  {
   "cell_type": "code",
   "execution_count": 77,
   "id": "2a652c01",
   "metadata": {},
   "outputs": [
    {
     "data": {
      "text/html": [
       "<div>\n",
       "<style scoped>\n",
       "    .dataframe tbody tr th:only-of-type {\n",
       "        vertical-align: middle;\n",
       "    }\n",
       "\n",
       "    .dataframe tbody tr th {\n",
       "        vertical-align: top;\n",
       "    }\n",
       "\n",
       "    .dataframe thead th {\n",
       "        text-align: right;\n",
       "    }\n",
       "</style>\n",
       "<table border=\"1\" class=\"dataframe\">\n",
       "  <thead>\n",
       "    <tr style=\"text-align: right;\">\n",
       "      <th></th>\n",
       "      <th>en</th>\n",
       "      <th>fr</th>\n",
       "    </tr>\n",
       "  </thead>\n",
       "  <tbody>\n",
       "    <tr>\n",
       "      <th>0</th>\n",
       "      <td>Changing Lives | Changing Society | How It Wor...</td>\n",
       "      <td>Il a transformé notre vie | Il a transformé la...</td>\n",
       "    </tr>\n",
       "    <tr>\n",
       "      <th>1</th>\n",
       "      <td>Site map</td>\n",
       "      <td>Plan du site</td>\n",
       "    </tr>\n",
       "    <tr>\n",
       "      <th>2</th>\n",
       "      <td>Feedback</td>\n",
       "      <td>Rétroaction</td>\n",
       "    </tr>\n",
       "    <tr>\n",
       "      <th>3</th>\n",
       "      <td>Credits</td>\n",
       "      <td>Crédits</td>\n",
       "    </tr>\n",
       "    <tr>\n",
       "      <th>4</th>\n",
       "      <td>Français</td>\n",
       "      <td>English</td>\n",
       "    </tr>\n",
       "  </tbody>\n",
       "</table>\n",
       "</div>"
      ],
      "text/plain": [
       "                                                  en  \\\n",
       "0  Changing Lives | Changing Society | How It Wor...   \n",
       "1                                           Site map   \n",
       "2                                           Feedback   \n",
       "3                                            Credits   \n",
       "4                                           Français   \n",
       "\n",
       "                                                  fr  \n",
       "0  Il a transformé notre vie | Il a transformé la...  \n",
       "1                                       Plan du site  \n",
       "2                                        Rétroaction  \n",
       "3                                            Crédits  \n",
       "4                                            English  "
      ]
     },
     "execution_count": 77,
     "metadata": {},
     "output_type": "execute_result"
    }
   ],
   "source": [
    "df.head()"
   ]
  },
  {
   "cell_type": "code",
   "execution_count": 78,
   "id": "01ad6ad6",
   "metadata": {},
   "outputs": [
    {
     "name": "stdout",
     "output_type": "stream",
     "text": [
      "<class 'pandas.core.frame.DataFrame'>\n",
      "RangeIndex: 100000 entries, 0 to 99999\n",
      "Data columns (total 2 columns):\n",
      " #   Column  Non-Null Count   Dtype \n",
      "---  ------  --------------   ----- \n",
      " 0   en      99998 non-null   object\n",
      " 1   fr      100000 non-null  object\n",
      "dtypes: object(2)\n",
      "memory usage: 1.5+ MB\n"
     ]
    }
   ],
   "source": [
    "df.info()"
   ]
  },
  {
   "cell_type": "code",
   "execution_count": 79,
   "id": "57f92941",
   "metadata": {},
   "outputs": [
    {
     "data": {
      "text/html": [
       "<div>\n",
       "<style scoped>\n",
       "    .dataframe tbody tr th:only-of-type {\n",
       "        vertical-align: middle;\n",
       "    }\n",
       "\n",
       "    .dataframe tbody tr th {\n",
       "        vertical-align: top;\n",
       "    }\n",
       "\n",
       "    .dataframe thead th {\n",
       "        text-align: right;\n",
       "    }\n",
       "</style>\n",
       "<table border=\"1\" class=\"dataframe\">\n",
       "  <thead>\n",
       "    <tr style=\"text-align: right;\">\n",
       "      <th></th>\n",
       "      <th>en</th>\n",
       "      <th>fr</th>\n",
       "    </tr>\n",
       "  </thead>\n",
       "  <tbody>\n",
       "    <tr>\n",
       "      <th>0</th>\n",
       "      <td>Changing Lives | Changing Society | How It Wor...</td>\n",
       "      <td>Il a transformé notre vie | Il a transformé la...</td>\n",
       "    </tr>\n",
       "    <tr>\n",
       "      <th>1</th>\n",
       "      <td>Site map</td>\n",
       "      <td>Plan du site</td>\n",
       "    </tr>\n",
       "    <tr>\n",
       "      <th>2</th>\n",
       "      <td>Feedback</td>\n",
       "      <td>Rétroaction</td>\n",
       "    </tr>\n",
       "    <tr>\n",
       "      <th>3</th>\n",
       "      <td>Credits</td>\n",
       "      <td>Crédits</td>\n",
       "    </tr>\n",
       "    <tr>\n",
       "      <th>4</th>\n",
       "      <td>Français</td>\n",
       "      <td>English</td>\n",
       "    </tr>\n",
       "    <tr>\n",
       "      <th>...</th>\n",
       "      <td>...</td>\n",
       "      <td>...</td>\n",
       "    </tr>\n",
       "    <tr>\n",
       "      <th>99995</th>\n",
       "      <td>• Karen Bron, Acting Director, Innovations, An...</td>\n",
       "      <td>◦ Karen Bron, Directrice par intérim, Directio...</td>\n",
       "    </tr>\n",
       "    <tr>\n",
       "      <th>99996</th>\n",
       "      <td>[ Previous | Table of Contents | Next ]</td>\n",
       "      <td>[ Page précédente | Table des matières | Page ...</td>\n",
       "    </tr>\n",
       "    <tr>\n",
       "      <th>99997</th>\n",
       "      <td>◦ Implementation of section 41 of the Official...</td>\n",
       "      <td>◦ Mise en œuvre de l'article 41 de la Loi sur ...</td>\n",
       "    </tr>\n",
       "    <tr>\n",
       "      <th>99998</th>\n",
       "      <td>To bring the communities together and make the...</td>\n",
       "      <td>Assurer un rapprochement des communautés et un...</td>\n",
       "    </tr>\n",
       "    <tr>\n",
       "      <th>99999</th>\n",
       "      <td>• Continue to organize and deliver a course fo...</td>\n",
       "      <td>• Continuer d'organiser et de dispenser un cou...</td>\n",
       "    </tr>\n",
       "  </tbody>\n",
       "</table>\n",
       "<p>99998 rows × 2 columns</p>\n",
       "</div>"
      ],
      "text/plain": [
       "                                                      en  \\\n",
       "0      Changing Lives | Changing Society | How It Wor...   \n",
       "1                                               Site map   \n",
       "2                                               Feedback   \n",
       "3                                                Credits   \n",
       "4                                               Français   \n",
       "...                                                  ...   \n",
       "99995  • Karen Bron, Acting Director, Innovations, An...   \n",
       "99996            [ Previous | Table of Contents | Next ]   \n",
       "99997  ◦ Implementation of section 41 of the Official...   \n",
       "99998  To bring the communities together and make the...   \n",
       "99999  • Continue to organize and deliver a course fo...   \n",
       "\n",
       "                                                      fr  \n",
       "0      Il a transformé notre vie | Il a transformé la...  \n",
       "1                                           Plan du site  \n",
       "2                                            Rétroaction  \n",
       "3                                                Crédits  \n",
       "4                                                English  \n",
       "...                                                  ...  \n",
       "99995  ◦ Karen Bron, Directrice par intérim, Directio...  \n",
       "99996  [ Page précédente | Table des matières | Page ...  \n",
       "99997  ◦ Mise en œuvre de l'article 41 de la Loi sur ...  \n",
       "99998  Assurer un rapprochement des communautés et un...  \n",
       "99999  • Continuer d'organiser et de dispenser un cou...  \n",
       "\n",
       "[99998 rows x 2 columns]"
      ]
     },
     "execution_count": 79,
     "metadata": {},
     "output_type": "execute_result"
    }
   ],
   "source": [
    "df.dropna() "
   ]
  },
  {
   "cell_type": "code",
   "execution_count": 80,
   "id": "31302b6a",
   "metadata": {},
   "outputs": [],
   "source": [
    "# Making sure there is no nan values\n",
    "df = df[df['en'].notna() & df['fr'].notna()]"
   ]
  },
  {
   "cell_type": "code",
   "execution_count": 81,
   "id": "08635ac5",
   "metadata": {},
   "outputs": [],
   "source": [
    "# The following function is only specific to the data that we have\n",
    "def create_text_pair(txt):    \n",
    "    try:\n",
    "        txt = txt.replace('!','')\n",
    "        txt = txt.replace('?','')\n",
    "        txt = txt.replace(',','')\n",
    "        txt = txt.replace('.','')\n",
    "        txt = txt.replace('।','') \n",
    "        txt = txt.replace('|','')\n",
    "        txt = txt.replace('Il','')\n",
    "    except:\n",
    "        print('Exception occurred in {}'.format(txt))\n",
    "        return ''\n",
    "    return txt  "
   ]
  },
  {
   "cell_type": "code",
   "execution_count": 82,
   "id": "3302263d",
   "metadata": {},
   "outputs": [],
   "source": [
    "# Cleaning english text\n",
    "df['en'] = df['en'].apply(lambda x: create_text_pair(x))"
   ]
  },
  {
   "cell_type": "code",
   "execution_count": 83,
   "id": "7b36d211",
   "metadata": {},
   "outputs": [],
   "source": [
    "# Cleaning french text\n",
    "df['fr'] = df['fr'].apply(lambda x: create_text_pair(x))"
   ]
  },
  {
   "cell_type": "code",
   "execution_count": 84,
   "id": "f263d84a",
   "metadata": {},
   "outputs": [
    {
     "data": {
      "image/png": "[encoded data removed]",
      "text/plain": [
       "<Figure size 640x480 with 2 Axes>"
      ]
     },
     "metadata": {},
     "output_type": "display_data"
    }
   ],
   "source": [
    "# Text to Sequence Conversion\n",
    "\n",
    "'''\n",
    "    A Seq2Seq model requires that we convert both the input and the output sentences into integer sequences of fixed length.\n",
    "    But before we do that, let’s visualise the length of the sentences. We will capture the lengths of all the sentences in \n",
    "    two separate lists for English and French, respectively.\n",
    "\n",
    "'''\n",
    "\n",
    "# empty lists\n",
    "eng_l = []\n",
    "fren_l = []\n",
    "\n",
    "set_eng = set()\n",
    "set_fren = set()\n",
    "\n",
    "# populate the lists with sentence lengths\n",
    "m = 0\n",
    "for sentence in df['en']:   \n",
    "    tmp = sentence.split(' ')\n",
    "    eng_l.append(len(tmp))\n",
    "    for j in tmp:        \n",
    "        set_eng.add(j)       \n",
    "    if len(tmp) > m:\n",
    "        m = len(tmp)\n",
    "\n",
    "for sentence in df['fr']:   \n",
    "    tmp = sentence.split(' ')\n",
    "    fren_l.append(len(tmp))\n",
    "    for j in tmp:        \n",
    "        set_fren.add(j)       \n",
    "    if len(tmp) > m:\n",
    "        m = len(tmp)\n",
    "\n",
    "length_df = pd.DataFrame({'eng':eng_l, 'french':fren_l})\n",
    "length_df.hist(bins = 30)\n",
    "plt.show()"
   ]
  },
  {
   "cell_type": "code",
   "execution_count": 85,
   "id": "cb17b102",
   "metadata": {},
   "outputs": [
    {
     "data": {
      "text/plain": [
       "1191"
      ]
     },
     "execution_count": 85,
     "metadata": {},
     "output_type": "execute_result"
    }
   ],
   "source": [
    "# Max length of englist sentence is \n",
    "max(eng_l)"
   ]
  },
  {
   "cell_type": "code",
   "execution_count": 86,
   "id": "4dc455ed",
   "metadata": {},
   "outputs": [
    {
     "data": {
      "text/plain": [
       "1265"
      ]
     },
     "execution_count": 86,
     "metadata": {},
     "output_type": "execute_result"
    }
   ],
   "source": [
    "# Max length of french sentence is \n",
    "max(fren_l)"
   ]
  },
  {
   "cell_type": "code",
   "execution_count": 87,
   "id": "21c33799",
   "metadata": {},
   "outputs": [
    {
     "name": "stdout",
     "output_type": "stream",
     "text": [
      "New Max length of english sentence is 40\n",
      "New Max length of French sentence is 40\n"
     ]
    }
   ],
   "source": [
    "# empty lists\n",
    "eng_l = []\n",
    "fren_l = []\n",
    "\n",
    "set_eng = set()\n",
    "set_fren = set()\n",
    "\n",
    "for index,row in df.iterrows():   \n",
    "    eng_words = row['en'].split(' ')\n",
    "    fren_words = row['fr'].split(' ')\n",
    "    if len(eng_words) <= MAX_SENT_LENGTH and len(fren_words) <= MAX_SENT_LENGTH:\n",
    "        eng_l.append(len(eng_words))\n",
    "        fren_l.append(len(fren_words))\n",
    "        for j in eng_words:        \n",
    "            set_eng.add(j)    \n",
    "        for j in fren_words:        \n",
    "            set_fren.add(j)    \n",
    "\n",
    "# New Max length of sentences\n",
    "print('New Max length of english sentence is {}'.format(max(eng_l)))\n",
    "print('New Max length of French sentence is {}'.format(max(fren_l)))"
   ]
  },
  {
   "cell_type": "code",
   "execution_count": 88,
   "id": "245e7b7b",
   "metadata": {},
   "outputs": [],
   "source": [
    "# function to build a tokenizer\n",
    "def tokenization(lines):\n",
    "      tokenizer = Tokenizer()\n",
    "      tokenizer.fit_on_texts(lines)\n",
    "      return tokenizer\n",
    "    \n",
    "# prepare english tokenizer\n",
    "eng_tokenizer = tokenization(set_eng)\n",
    "eng_vocab_size = len(eng_tokenizer.word_index) + 1 \n",
    "\n",
    "# prepare bengali tokenizer\n",
    "fren_tokenizer = tokenization(set_fren)\n",
    "fren_vocab_size = len(fren_tokenizer.word_index) + 1 "
   ]
  },
  {
   "cell_type": "code",
   "execution_count": 89,
   "id": "50e88eb8",
   "metadata": {},
   "outputs": [
    {
     "data": {
      "text/plain": [
       "55622"
      ]
     },
     "execution_count": 89,
     "metadata": {},
     "output_type": "execute_result"
    }
   ],
   "source": [
    "eng_vocab_size"
   ]
  },
  {
   "cell_type": "code",
   "execution_count": 90,
   "id": "35569a45",
   "metadata": {},
   "outputs": [
    {
     "data": {
      "text/plain": [
       "67746"
      ]
     },
     "execution_count": 90,
     "metadata": {},
     "output_type": "execute_result"
    }
   ],
   "source": [
    "fren_vocab_size"
   ]
  },
  {
   "cell_type": "code",
   "execution_count": 91,
   "id": "22bc26e5",
   "metadata": {},
   "outputs": [],
   "source": [
    "from sklearn.model_selection import train_test_split\n",
    "\n",
    "# split data into train and test set\n",
    "X_train, X_test, y_train, y_test = train_test_split(df['fr'], df['en'], test_size=0.2, random_state=42)"
   ]
  },
  {
   "cell_type": "code",
   "execution_count": 92,
   "id": "3feba651",
   "metadata": {},
   "outputs": [],
   "source": [
    "#The below code block contains a function to prepare the sequences. It will also perform sequence padding \n",
    "# to a maximum sentence length as mentioned above.\n",
    "\n",
    "# encode and pad sequences\n",
    "def encode_sequences(tokenizer, length, lines):\n",
    "         # integer encode sequences\n",
    "         seq = tokenizer.texts_to_sequences(lines)\n",
    "         # pad sequences with 0 values\n",
    "         seq = pad_sequences(seq, maxlen=length, padding='post')\n",
    "         return seq"
   ]
  },
  {
   "cell_type": "code",
   "execution_count": 93,
   "id": "870655de",
   "metadata": {},
   "outputs": [],
   "source": [
    "# Let us save the actual output of testing data before encoding\n",
    "test_op = y_test\n",
    "\n",
    "# encode training data\n",
    "X_train = encode_sequences(fren_tokenizer, max(fren_l), X_train)\n",
    "y_train = encode_sequences(eng_tokenizer, max(eng_l), y_train)\n",
    "\n",
    "# encode validation/test data\n",
    "X_test = encode_sequences(fren_tokenizer, max(fren_l), X_test)\n",
    "y_test = encode_sequences(eng_tokenizer, max(eng_l), y_test)"
   ]
  },
  {
   "cell_type": "code",
   "execution_count": null,
   "id": "98ac80a0",
   "metadata": {},
   "outputs": [],
   "source": [
    "# These predictions are sequences of integers. We need to convert these integers to their corresponding \n",
    "# words. Let’s define a function to do this:\n",
    "\n",
    "token_dict_english = {}\n",
    "\n",
    "def create_and_save_eng_encoding():\n",
    "    for word, index in eng_tokenizer.word_index.items():\n",
    "        token_dict_english[index] = word\n",
    "        \n",
    "    json_object = json.dumps(token_dict_english, indent=4)\n",
    "    with open(MODEL_PATH+\"token_dict_english.json\", \"w\") as outfile:\n",
    "        outfile.write(json_object)\n",
    "\n",
    "token_dict_french = {}\n",
    "def create_and_save_fren_encoding():    \n",
    "    for word, index in fren_tokenizer.word_index.items():\n",
    "        token_dict_french[index] = word\n",
    "        \n",
    "    json_object = json.dumps(token_dict_french, indent=4)\n",
    "    with open(MODEL_PATH+\"token_dict_french.json\", \"w\") as outfile:\n",
    "        outfile.write(json_object)\n",
    "\n",
    " \n",
    "create_and_save_eng_encoding()\n",
    "create_and_save_fren_encoding()"
   ]
  },
  {
   "cell_type": "code",
   "execution_count": null,
   "id": "44323eab",
   "metadata": {},
   "outputs": [],
   "source": [
    "'''\n",
    "    We’ll start off by defining our Seq2Seq model architecture:\n",
    "\n",
    "    For the encoder, we will use an embedding layer and an LSTM layer\n",
    "    For the decoder, we will use another LSTM layer followed by a dense layer\n",
    "\n",
    "'''\n",
    "\n",
    "\n",
    "# build NMT model\n",
    "def define_model(in_vocab,out_vocab, in_timesteps,out_timesteps,units):\n",
    "      model = Sequential()\n",
    "      model.add(Embedding(in_vocab, units, input_length=in_timesteps, mask_zero=True))\n",
    "      model.add(LSTM(units))\n",
    "      model.add(RepeatVector(out_timesteps))\n",
    "      model.add(LSTM(units, return_sequences=True))\n",
    "      model.add(Dense(out_vocab, activation='softmax'))\n",
    "      return model\n",
    "    \n",
    "\n",
    "'''\n",
    "    We are using the RMSprop optimizer in this model as it’s usually a good choice when working with recurrent neural \n",
    "    networks.\n",
    "\n",
    "''' \n",
    "# model compilation\n",
    "model = define_model(fren_vocab_size, eng_vocab_size,max(fren_l), max(eng_l),  512)\n",
    "rms = optimizers.RMSprop(lr=0.001)\n",
    "model.compile(optimizer=rms, loss='sparse_categorical_crossentropy')   "
   ]
  },
  {
   "cell_type": "code",
   "execution_count": null,
   "id": "08d4a900",
   "metadata": {},
   "outputs": [],
   "source": [
    "checkpoint = ModelCheckpoint(filename, monitor='val_loss', verbose=1, save_best_only=True, mode='min')\n",
    "\n",
    "# train model\n",
    "history = model.fit(X_train, y_train.reshape(y_train.shape[0], y_train.shape[1], 1),\n",
    "                    epochs=100, batch_size=512, validation_split = 0.2,callbacks=[checkpoint], \n",
    "                    verbose=1)\n",
    "\n",
    "#Let’s compare the training loss and the validation loss.\n",
    "plt.plot(history.history['loss'])\n",
    "plt.plot(history.history['val_loss'])\n",
    "plt.legend(['train','validation'])\n",
    "plt.show()"
   ]
  },
  {
   "cell_type": "code",
   "execution_count": null,
   "id": "52db4473",
   "metadata": {},
   "outputs": [],
   "source": [
    "#Finally, we can load the saved model and make predictions on the unseen data – testX.\n",
    "\n",
    "model = load_model(filename)"
   ]
  },
  {
   "cell_type": "code",
   "execution_count": 45,
   "id": "65fd9437",
   "metadata": {},
   "outputs": [],
   "source": [
    "def convert_to_words(sentence,dictionary):\n",
    "    temp = ''\n",
    "    for i in sentence:\n",
    "        if i in dictionary:\n",
    "           temp += dictionary[i]+' '\n",
    "    return temp.strip()\n"
   ]
  },
  {
   "cell_type": "code",
   "execution_count": null,
   "id": "5d979822",
   "metadata": {},
   "outputs": [],
   "source": [
    "predict_x = model.predict(X_test)\n",
    "print(predict_x.shape)"
   ]
  },
  {
   "cell_type": "code",
   "execution_count": null,
   "id": "25ae2cd2",
   "metadata": {},
   "outputs": [],
   "source": [
    "# As we get a probability distribution, we have to take the argmax in order to determine the actual \n",
    "# prediction.\n",
    "preds = []\n",
    "for i in predict_x:\n",
    "    tmp = []\n",
    "    for j in i:\n",
    "        tmp.append(np.argmax(j, axis=0))\n",
    "    preds.append(tmp)"
   ]
  },
  {
   "cell_type": "code",
   "execution_count": null,
   "id": "327f6d4e",
   "metadata": {},
   "outputs": [],
   "source": [
    "\n",
    "preds_text = []\n",
    "for i in preds:\n",
    "    preds_text.append(convert_to_words(i, token_dict_english))"
   ]
  },
  {
   "cell_type": "code",
   "execution_count": null,
   "id": "b367257e",
   "metadata": {},
   "outputs": [],
   "source": [
    "# Now let us see how we did\n",
    "pred_df = pd.DataFrame({'actual' : test_op, 'predicted' : preds_text})\n",
    "pred_df.to_csv(MODEL_PATH+'actual_vs_predicted.csv')"
   ]
  },
  {
   "cell_type": "code",
   "execution_count": null,
   "id": "d670bb97",
   "metadata": {},
   "outputs": [],
   "source": [
    "# Let us check our prediction\n",
    "pred_df"
   ]
  },
  {
   "cell_type": "code",
   "execution_count": 95,
   "id": "b2d13eb8",
   "metadata": {},
   "outputs": [
    {
     "name": "stdout",
     "output_type": "stream",
     "text": [
      "WARNING:tensorflow:6 out of the last 37 calls to <function Model.make_predict_function.<locals>.predict_function at 0x00000236D68A6840> triggered tf.function retracing. Tracing is expensive and the excessive number of tracings could be due to (1) creating @tf.function repeatedly in a loop, (2) passing tensors with different shapes, (3) passing Python objects instead of tensors. For (1), please define your @tf.function outside of the loop. For (2), @tf.function has reduce_retracing=True option that can avoid unnecessary retracing. For (3), please refer to https://www.tensorflow.org/guide/function#controlling_retracing and https://www.tensorflow.org/api_docs/python/tf/function for  more details.\n",
      "1/1 [==============================] - 2s 2s/step\n",
      "                                                  actual predicted\n",
      "33969  High saving tendencies by EU consumers has als...          \n",
      "24613  Compared to 2004 consumers spent 21 % more on ...          \n",
      "42678      If you are already registered please continue          \n",
      "9733   Philippine BSE/Meat Inspection Mission to Cana...          \n",
      "7130   Stier Group Ltd ",
      "Stier Group Building ",
      "12 Tversk...          \n",
      "1402   To understand how light is created we must fir...          \n",
      "47828  Merchandising programs focused on presenting n...          \n",
      "9695   FOOD AND HOTEL ASIA 2008 - RECRUITMENT It is n...          \n",
      "7127   Although local currency payments are generally...          \n",
      "93405          National Office for Victims Backgrounder:          \n"
     ]
    }
   ],
   "source": [
    "'''\n",
    "    In case of a failure, exception due to resource exhaustion, we can still use the saved model and the encoding dictionary to \n",
    "    do the prediction.\n",
    "'''\n",
    "X_train = None\n",
    "y_train = None\n",
    "X_test = X_test[:10]\n",
    "test_op = test_op[:10]\n",
    "df = None\n",
    "\n",
    "def load_json_file(file_abs_path):\n",
    "    try:        \n",
    "        with open(file_abs_path, 'r') as f:\n",
    "          data = json.load(f)\n",
    "        return data\n",
    "    except:\n",
    "        return {}\n",
    "    \n",
    "\n",
    "#def load_model_and_predict():\n",
    "token_dict_english = load_json_file(MODEL_PATH+'token_dict_english.json')    \n",
    "model = load_model(MODEL_PATH+MODEL_NAME)\n",
    "\n",
    "predict_x = model.predict(X_test)\n",
    "model = None\n",
    "\n",
    "preds = []\n",
    "for i in predict_x:\n",
    "    tmp = []\n",
    "    for j in i:\n",
    "        tmp.append(np.argmax(j, axis=0))\n",
    "    preds.append(tmp)    \n",
    "predict_x  = None\n",
    "\n",
    "preds_text = []\n",
    "for i in preds:\n",
    "    preds_text.append(convert_to_words(i, token_dict_english))\n",
    "\n",
    "# Now let us see how we did\n",
    "pred_df = pd.DataFrame({'actual' : test_op, 'predicted' : preds_text})\n",
    "pred_df.to_csv(MODEL_PATH+'actual_vs_predicted.csv')\n",
    "print(pred_df)\n",
    "    \n",
    "#load_model_and_predict()"
   ]
  },
  {
   "cell_type": "code",
   "execution_count": 68,
   "id": "16409f21",
   "metadata": {},
   "outputs": [
    {
     "data": {
      "text/plain": [
       "33969    High saving tendencies by EU consumers has als...\n",
       "24613    Compared to 2004 consumers spent 21 % more on ...\n",
       "42678        If you are already registered please continue\n",
       "9733     Philippine BSE/Meat Inspection Mission to Cana...\n",
       "7130     Stier Group Ltd\n",
       "Stier Group Building\n",
       "12 Tversk...\n",
       "                               ...                        \n",
       "49935    Customs authorities accept the value of the sh...\n",
       "81079    Inventory Tracking Goes High-Tech\n",
       " [ 2007-01-2...\n",
       "45554                      Brazil Country Commercial Guide\n",
       "22641    In 1993 for instance Agropur entered into a st...\n",
       "13569    Below are brief profiles of three well-known K...\n",
       "Name: en, Length: 20000, dtype: object"
      ]
     },
     "execution_count": 68,
     "metadata": {},
     "output_type": "execute_result"
    }
   ],
   "source": [
    "y_test"
   ]
  },
  {
   "cell_type": "code",
   "execution_count": 74,
   "id": "27f2df61",
   "metadata": {},
   "outputs": [
    {
     "name": "stdout",
     "output_type": "stream",
     "text": [
      "0         a transformé notre vie   a transformé la soci...\n",
      "1                                             Plan du site\n",
      "2                                              Rétroaction\n",
      "3                                                  Crédits\n",
      "4                                                  English\n",
      "                               ...                        \n",
      "99995    ◦ Karen Bron Directrice par intérim Direction ...\n",
      "99996    [ Page précédente  Table des matières  Page su...\n",
      "99997    ◦ Mise en œuvre de l'article 41 de la Loi sur ...\n",
      "99998    Assurer un rapprochement des communautés et un...\n",
      "99999    • Continuer d'organiser et de dispenser un cou...\n",
      "Name: fr, Length: 99998, dtype: object\n"
     ]
    }
   ],
   "source": [
    "X = df['fr']\n",
    "print(X)"
   ]
  },
  {
   "cell_type": "code",
   "execution_count": null,
   "id": "0a395ac2",
   "metadata": {},
   "outputs": [],
   "source": []
  }
 ],
 "metadata": {
  "kernelspec": {
   "display_name": "Python 3 (ipykernel)",
   "language": "python",
   "name": "python3"
  },
  "language_info": {
   "codemirror_mode": {
    "name": "ipython",
    "version": 3
   },
   "file_extension": ".py",
   "mimetype": "text/x-python",
   "name": "python",
   "nbconvert_exporter": "python",
   "pygments_lexer": "ipython3",
   "version": "3.11.5"
  }
 },
 "nbformat": 4,
 "nbformat_minor": 5
}
