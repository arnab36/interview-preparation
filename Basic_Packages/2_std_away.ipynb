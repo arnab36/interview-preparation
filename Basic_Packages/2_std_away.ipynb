{
 "cells": [
  {
   "cell_type": "code",
   "execution_count": 1,
   "id": "75ac0798",
   "metadata": {},
   "outputs": [],
   "source": [
    "import pandas as pd"
   ]
  },
  {
   "cell_type": "code",
   "execution_count": 2,
   "id": "92ea9c3d",
   "metadata": {},
   "outputs": [],
   "source": [
    "path = 'C:/Users/ArnabBiswas/Documents/Data/Data_Science_boot_camp/'\n",
    "df = pd.read_csv(path+'Computers.csv')"
   ]
  },
  {
   "cell_type": "code",
   "execution_count": 3,
   "id": "7282eda1",
   "metadata": {},
   "outputs": [
    {
     "data": {
      "text/html": [
       "<div>\n",
       "<style scoped>\n",
       "    .dataframe tbody tr th:only-of-type {\n",
       "        vertical-align: middle;\n",
       "    }\n",
       "\n",
       "    .dataframe tbody tr th {\n",
       "        vertical-align: top;\n",
       "    }\n",
       "\n",
       "    .dataframe thead th {\n",
       "        text-align: right;\n",
       "    }\n",
       "</style>\n",
       "<table border=\"1\" class=\"dataframe\">\n",
       "  <thead>\n",
       "    <tr style=\"text-align: right;\">\n",
       "      <th></th>\n",
       "      <th>price</th>\n",
       "      <th>speed</th>\n",
       "      <th>hd</th>\n",
       "      <th>ram</th>\n",
       "      <th>screen</th>\n",
       "      <th>cd</th>\n",
       "      <th>multi</th>\n",
       "      <th>premium</th>\n",
       "      <th>ads</th>\n",
       "      <th>trend</th>\n",
       "    </tr>\n",
       "  </thead>\n",
       "  <tbody>\n",
       "    <tr>\n",
       "      <th>0</th>\n",
       "      <td>1499</td>\n",
       "      <td>25</td>\n",
       "      <td>80</td>\n",
       "      <td>4</td>\n",
       "      <td>14</td>\n",
       "      <td>no</td>\n",
       "      <td>no</td>\n",
       "      <td>yes</td>\n",
       "      <td>94</td>\n",
       "      <td>1</td>\n",
       "    </tr>\n",
       "    <tr>\n",
       "      <th>1</th>\n",
       "      <td>1795</td>\n",
       "      <td>33</td>\n",
       "      <td>85</td>\n",
       "      <td>2</td>\n",
       "      <td>14</td>\n",
       "      <td>no</td>\n",
       "      <td>no</td>\n",
       "      <td>yes</td>\n",
       "      <td>94</td>\n",
       "      <td>1</td>\n",
       "    </tr>\n",
       "    <tr>\n",
       "      <th>2</th>\n",
       "      <td>1595</td>\n",
       "      <td>25</td>\n",
       "      <td>170</td>\n",
       "      <td>4</td>\n",
       "      <td>15</td>\n",
       "      <td>no</td>\n",
       "      <td>no</td>\n",
       "      <td>yes</td>\n",
       "      <td>94</td>\n",
       "      <td>1</td>\n",
       "    </tr>\n",
       "    <tr>\n",
       "      <th>3</th>\n",
       "      <td>1849</td>\n",
       "      <td>25</td>\n",
       "      <td>170</td>\n",
       "      <td>8</td>\n",
       "      <td>14</td>\n",
       "      <td>no</td>\n",
       "      <td>no</td>\n",
       "      <td>no</td>\n",
       "      <td>94</td>\n",
       "      <td>1</td>\n",
       "    </tr>\n",
       "    <tr>\n",
       "      <th>4</th>\n",
       "      <td>3295</td>\n",
       "      <td>33</td>\n",
       "      <td>340</td>\n",
       "      <td>16</td>\n",
       "      <td>14</td>\n",
       "      <td>no</td>\n",
       "      <td>no</td>\n",
       "      <td>yes</td>\n",
       "      <td>94</td>\n",
       "      <td>1</td>\n",
       "    </tr>\n",
       "  </tbody>\n",
       "</table>\n",
       "</div>"
      ],
      "text/plain": [
       "   price  speed   hd  ram  screen  cd multi premium  ads  trend\n",
       "0   1499     25   80    4      14  no    no     yes   94      1\n",
       "1   1795     33   85    2      14  no    no     yes   94      1\n",
       "2   1595     25  170    4      15  no    no     yes   94      1\n",
       "3   1849     25  170    8      14  no    no      no   94      1\n",
       "4   3295     33  340   16      14  no    no     yes   94      1"
      ]
     },
     "execution_count": 3,
     "metadata": {},
     "output_type": "execute_result"
    }
   ],
   "source": [
    "df.head()"
   ]
  },
  {
   "cell_type": "code",
   "execution_count": 4,
   "id": "1c6f703b",
   "metadata": {},
   "outputs": [
    {
     "name": "stdout",
     "output_type": "stream",
     "text": [
      "<class 'pandas.core.frame.DataFrame'>\n",
      "RangeIndex: 6259 entries, 0 to 6258\n",
      "Data columns (total 10 columns):\n",
      " #   Column   Non-Null Count  Dtype \n",
      "---  ------   --------------  ----- \n",
      " 0   price    6259 non-null   int64 \n",
      " 1   speed    6259 non-null   int64 \n",
      " 2   hd       6259 non-null   int64 \n",
      " 3   ram      6259 non-null   int64 \n",
      " 4   screen   6259 non-null   int64 \n",
      " 5   cd       6259 non-null   object\n",
      " 6   multi    6259 non-null   object\n",
      " 7   premium  6259 non-null   object\n",
      " 8   ads      6259 non-null   int64 \n",
      " 9   trend    6259 non-null   int64 \n",
      "dtypes: int64(7), object(3)\n",
      "memory usage: 489.1+ KB\n"
     ]
    }
   ],
   "source": [
    "df.info()"
   ]
  },
  {
   "cell_type": "code",
   "execution_count": 5,
   "id": "5cf52698",
   "metadata": {},
   "outputs": [],
   "source": [
    "group_ram = df.groupby(['ram'])"
   ]
  },
  {
   "cell_type": "code",
   "execution_count": 6,
   "id": "2f7c59b6",
   "metadata": {},
   "outputs": [],
   "source": [
    "group_hd = df.groupby(['hd'])"
   ]
  },
  {
   "cell_type": "code",
   "execution_count": 7,
   "id": "1b0bfa15",
   "metadata": {},
   "outputs": [],
   "source": [
    "group_ram_hd = df.groupby(['ram','hd'])"
   ]
  },
  {
   "cell_type": "code",
   "execution_count": 8,
   "id": "fada213d",
   "metadata": {},
   "outputs": [
    {
     "data": {
      "text/html": [
       "<div>\n",
       "<style scoped>\n",
       "    .dataframe tbody tr th:only-of-type {\n",
       "        vertical-align: middle;\n",
       "    }\n",
       "\n",
       "    .dataframe tbody tr th {\n",
       "        vertical-align: top;\n",
       "    }\n",
       "\n",
       "    .dataframe thead th {\n",
       "        text-align: right;\n",
       "    }\n",
       "</style>\n",
       "<table border=\"1\" class=\"dataframe\">\n",
       "  <thead>\n",
       "    <tr style=\"text-align: right;\">\n",
       "      <th></th>\n",
       "      <th>price</th>\n",
       "      <th>speed</th>\n",
       "      <th>hd</th>\n",
       "      <th>screen</th>\n",
       "      <th>cd</th>\n",
       "      <th>multi</th>\n",
       "      <th>premium</th>\n",
       "      <th>ads</th>\n",
       "      <th>trend</th>\n",
       "    </tr>\n",
       "    <tr>\n",
       "      <th>ram</th>\n",
       "      <th></th>\n",
       "      <th></th>\n",
       "      <th></th>\n",
       "      <th></th>\n",
       "      <th></th>\n",
       "      <th></th>\n",
       "      <th></th>\n",
       "      <th></th>\n",
       "      <th></th>\n",
       "    </tr>\n",
       "  </thead>\n",
       "  <tbody>\n",
       "    <tr>\n",
       "      <th>2</th>\n",
       "      <td>394</td>\n",
       "      <td>394</td>\n",
       "      <td>394</td>\n",
       "      <td>394</td>\n",
       "      <td>394</td>\n",
       "      <td>394</td>\n",
       "      <td>394</td>\n",
       "      <td>394</td>\n",
       "      <td>394</td>\n",
       "    </tr>\n",
       "    <tr>\n",
       "      <th>4</th>\n",
       "      <td>2236</td>\n",
       "      <td>2236</td>\n",
       "      <td>2236</td>\n",
       "      <td>2236</td>\n",
       "      <td>2236</td>\n",
       "      <td>2236</td>\n",
       "      <td>2236</td>\n",
       "      <td>2236</td>\n",
       "      <td>2236</td>\n",
       "    </tr>\n",
       "    <tr>\n",
       "      <th>8</th>\n",
       "      <td>2320</td>\n",
       "      <td>2320</td>\n",
       "      <td>2320</td>\n",
       "      <td>2320</td>\n",
       "      <td>2320</td>\n",
       "      <td>2320</td>\n",
       "      <td>2320</td>\n",
       "      <td>2320</td>\n",
       "      <td>2320</td>\n",
       "    </tr>\n",
       "    <tr>\n",
       "      <th>16</th>\n",
       "      <td>996</td>\n",
       "      <td>996</td>\n",
       "      <td>996</td>\n",
       "      <td>996</td>\n",
       "      <td>996</td>\n",
       "      <td>996</td>\n",
       "      <td>996</td>\n",
       "      <td>996</td>\n",
       "      <td>996</td>\n",
       "    </tr>\n",
       "    <tr>\n",
       "      <th>24</th>\n",
       "      <td>297</td>\n",
       "      <td>297</td>\n",
       "      <td>297</td>\n",
       "      <td>297</td>\n",
       "      <td>297</td>\n",
       "      <td>297</td>\n",
       "      <td>297</td>\n",
       "      <td>297</td>\n",
       "      <td>297</td>\n",
       "    </tr>\n",
       "    <tr>\n",
       "      <th>32</th>\n",
       "      <td>16</td>\n",
       "      <td>16</td>\n",
       "      <td>16</td>\n",
       "      <td>16</td>\n",
       "      <td>16</td>\n",
       "      <td>16</td>\n",
       "      <td>16</td>\n",
       "      <td>16</td>\n",
       "      <td>16</td>\n",
       "    </tr>\n",
       "  </tbody>\n",
       "</table>\n",
       "</div>"
      ],
      "text/plain": [
       "     price  speed    hd  screen    cd  multi  premium   ads  trend\n",
       "ram                                                               \n",
       "2      394    394   394     394   394    394      394   394    394\n",
       "4     2236   2236  2236    2236  2236   2236     2236  2236   2236\n",
       "8     2320   2320  2320    2320  2320   2320     2320  2320   2320\n",
       "16     996    996   996     996   996    996      996   996    996\n",
       "24     297    297   297     297   297    297      297   297    297\n",
       "32      16     16    16      16    16     16       16    16     16"
      ]
     },
     "execution_count": 8,
     "metadata": {},
     "output_type": "execute_result"
    }
   ],
   "source": [
    "group_ram.count()"
   ]
  },
  {
   "cell_type": "code",
   "execution_count": 12,
   "id": "78808973",
   "metadata": {},
   "outputs": [
    {
     "data": {
      "text/html": [
       "<div>\n",
       "<style scoped>\n",
       "    .dataframe tbody tr th:only-of-type {\n",
       "        vertical-align: middle;\n",
       "    }\n",
       "\n",
       "    .dataframe tbody tr th {\n",
       "        vertical-align: top;\n",
       "    }\n",
       "\n",
       "    .dataframe thead th {\n",
       "        text-align: right;\n",
       "    }\n",
       "</style>\n",
       "<table border=\"1\" class=\"dataframe\">\n",
       "  <thead>\n",
       "    <tr style=\"text-align: right;\">\n",
       "      <th></th>\n",
       "      <th>price</th>\n",
       "      <th>speed</th>\n",
       "      <th>hd</th>\n",
       "      <th>screen</th>\n",
       "      <th>ads</th>\n",
       "      <th>trend</th>\n",
       "    </tr>\n",
       "    <tr>\n",
       "      <th>ram</th>\n",
       "      <th></th>\n",
       "      <th></th>\n",
       "      <th></th>\n",
       "      <th></th>\n",
       "      <th></th>\n",
       "      <th></th>\n",
       "    </tr>\n",
       "  </thead>\n",
       "  <tbody>\n",
       "    <tr>\n",
       "      <th>2</th>\n",
       "      <td>671082</td>\n",
       "      <td>17267</td>\n",
       "      <td>42832</td>\n",
       "      <td>5595</td>\n",
       "      <td>100561</td>\n",
       "      <td>4383</td>\n",
       "    </tr>\n",
       "    <tr>\n",
       "      <th>4</th>\n",
       "      <td>4188178</td>\n",
       "      <td>99680</td>\n",
       "      <td>571519</td>\n",
       "      <td>32240</td>\n",
       "      <td>514391</td>\n",
       "      <td>32686</td>\n",
       "    </tr>\n",
       "    <tr>\n",
       "      <th>8</th>\n",
       "      <td>5331719</td>\n",
       "      <td>132466</td>\n",
       "      <td>1051654</td>\n",
       "      <td>34125</td>\n",
       "      <td>500207</td>\n",
       "      <td>38054</td>\n",
       "    </tr>\n",
       "    <tr>\n",
       "      <th>16</th>\n",
       "      <td>2771561</td>\n",
       "      <td>57098</td>\n",
       "      <td>609081</td>\n",
       "      <td>14773</td>\n",
       "      <td>219076</td>\n",
       "      <td>16779</td>\n",
       "    </tr>\n",
       "    <tr>\n",
       "      <th>24</th>\n",
       "      <td>871997</td>\n",
       "      <td>17830</td>\n",
       "      <td>309200</td>\n",
       "      <td>4453</td>\n",
       "      <td>49328</td>\n",
       "      <td>7326</td>\n",
       "    </tr>\n",
       "    <tr>\n",
       "      <th>32</th>\n",
       "      <td>57793</td>\n",
       "      <td>1196</td>\n",
       "      <td>23224</td>\n",
       "      <td>250</td>\n",
       "      <td>1560</td>\n",
       "      <td>459</td>\n",
       "    </tr>\n",
       "  </tbody>\n",
       "</table>\n",
       "</div>"
      ],
      "text/plain": [
       "       price   speed       hd  screen     ads  trend\n",
       "ram                                                 \n",
       "2     671082   17267    42832    5595  100561   4383\n",
       "4    4188178   99680   571519   32240  514391  32686\n",
       "8    5331719  132466  1051654   34125  500207  38054\n",
       "16   2771561   57098   609081   14773  219076  16779\n",
       "24    871997   17830   309200    4453   49328   7326\n",
       "32     57793    1196    23224     250    1560    459"
      ]
     },
     "execution_count": 12,
     "metadata": {},
     "output_type": "execute_result"
    }
   ],
   "source": [
    "group_ram.sum(numeric_only=True)"
   ]
  },
  {
   "cell_type": "code",
   "execution_count": 10,
   "id": "2a5ccc73",
   "metadata": {},
   "outputs": [
    {
     "data": {
      "text/plain": [
       "394"
      ]
     },
     "execution_count": 10,
     "metadata": {},
     "output_type": "execute_result"
    }
   ],
   "source": [
    "df[df['ram'] == 2].shape[0]"
   ]
  },
  {
   "cell_type": "code",
   "execution_count": null,
   "id": "f963672c",
   "metadata": {},
   "outputs": [],
   "source": [
    "group_ram_hd.count()"
   ]
  },
  {
   "cell_type": "code",
   "execution_count": null,
   "id": "1f62a755",
   "metadata": {},
   "outputs": [],
   "source": [
    "group_ram.mean(numeric_only=True)"
   ]
  },
  {
   "cell_type": "code",
   "execution_count": null,
   "id": "25b5835e",
   "metadata": {},
   "outputs": [],
   "source": [
    "group_screen = df.groupby(['screen'])"
   ]
  },
  {
   "cell_type": "code",
   "execution_count": null,
   "id": "f5b487ea",
   "metadata": {},
   "outputs": [],
   "source": [
    "group_screen.count()"
   ]
  },
  {
   "cell_type": "code",
   "execution_count": null,
   "id": "03c4d1ab",
   "metadata": {},
   "outputs": [],
   "source": [
    "group_ram.describe()"
   ]
  },
  {
   "cell_type": "code",
   "execution_count": null,
   "id": "eb6997c8",
   "metadata": {},
   "outputs": [],
   "source": [
    "group_ram.sum(numeric_only=True)"
   ]
  },
  {
   "cell_type": "code",
   "execution_count": null,
   "id": "15c7ecf7",
   "metadata": {},
   "outputs": [],
   "source": [
    "group_ram.std(numeric_only=True)"
   ]
  },
  {
   "cell_type": "code",
   "execution_count": null,
   "id": "465c8375",
   "metadata": {},
   "outputs": [],
   "source": [
    "df.sort_values('price')"
   ]
  },
  {
   "cell_type": "code",
   "execution_count": 13,
   "id": "b74963b5",
   "metadata": {},
   "outputs": [],
   "source": [
    "import numpy as np\n",
    "\n",
    "import random"
   ]
  },
  {
   "cell_type": "code",
   "execution_count": 14,
   "id": "3bf9e60b",
   "metadata": {},
   "outputs": [],
   "source": [
    "source = ['a','b','c']\n",
    "dest = ['a','b','c']\n",
    "row_list = []\n",
    "count = 5\n",
    "for k in range(0,20):\n",
    "    for i in source:\n",
    "        for j in dest:\n",
    "            if i != j:\n",
    "                if k < 18:\n",
    "                    row_list.append([i,j,np.random.uniform(1,10)])\n",
    "                else:\n",
    "                    row_list.append([i,j,count*1000])\n",
    "cols = ['source', 'destination', 'distance']\n",
    "df = pd.DataFrame(row_list,columns=cols)"
   ]
  },
  {
   "cell_type": "code",
   "execution_count": 15,
   "id": "b70dc17d",
   "metadata": {},
   "outputs": [
    {
     "data": {
      "text/html": [
       "<div>\n",
       "<style scoped>\n",
       "    .dataframe tbody tr th:only-of-type {\n",
       "        vertical-align: middle;\n",
       "    }\n",
       "\n",
       "    .dataframe tbody tr th {\n",
       "        vertical-align: top;\n",
       "    }\n",
       "\n",
       "    .dataframe thead th {\n",
       "        text-align: right;\n",
       "    }\n",
       "</style>\n",
       "<table border=\"1\" class=\"dataframe\">\n",
       "  <thead>\n",
       "    <tr style=\"text-align: right;\">\n",
       "      <th></th>\n",
       "      <th>source</th>\n",
       "      <th>destination</th>\n",
       "      <th>distance</th>\n",
       "    </tr>\n",
       "  </thead>\n",
       "  <tbody>\n",
       "    <tr>\n",
       "      <th>0</th>\n",
       "      <td>a</td>\n",
       "      <td>b</td>\n",
       "      <td>3.597015</td>\n",
       "    </tr>\n",
       "    <tr>\n",
       "      <th>1</th>\n",
       "      <td>a</td>\n",
       "      <td>c</td>\n",
       "      <td>5.070188</td>\n",
       "    </tr>\n",
       "    <tr>\n",
       "      <th>2</th>\n",
       "      <td>b</td>\n",
       "      <td>a</td>\n",
       "      <td>2.345403</td>\n",
       "    </tr>\n",
       "    <tr>\n",
       "      <th>3</th>\n",
       "      <td>b</td>\n",
       "      <td>c</td>\n",
       "      <td>5.272907</td>\n",
       "    </tr>\n",
       "    <tr>\n",
       "      <th>4</th>\n",
       "      <td>c</td>\n",
       "      <td>a</td>\n",
       "      <td>2.815777</td>\n",
       "    </tr>\n",
       "    <tr>\n",
       "      <th>...</th>\n",
       "      <td>...</td>\n",
       "      <td>...</td>\n",
       "      <td>...</td>\n",
       "    </tr>\n",
       "    <tr>\n",
       "      <th>115</th>\n",
       "      <td>a</td>\n",
       "      <td>c</td>\n",
       "      <td>5000.000000</td>\n",
       "    </tr>\n",
       "    <tr>\n",
       "      <th>116</th>\n",
       "      <td>b</td>\n",
       "      <td>a</td>\n",
       "      <td>5000.000000</td>\n",
       "    </tr>\n",
       "    <tr>\n",
       "      <th>117</th>\n",
       "      <td>b</td>\n",
       "      <td>c</td>\n",
       "      <td>5000.000000</td>\n",
       "    </tr>\n",
       "    <tr>\n",
       "      <th>118</th>\n",
       "      <td>c</td>\n",
       "      <td>a</td>\n",
       "      <td>5000.000000</td>\n",
       "    </tr>\n",
       "    <tr>\n",
       "      <th>119</th>\n",
       "      <td>c</td>\n",
       "      <td>b</td>\n",
       "      <td>5000.000000</td>\n",
       "    </tr>\n",
       "  </tbody>\n",
       "</table>\n",
       "<p>120 rows × 3 columns</p>\n",
       "</div>"
      ],
      "text/plain": [
       "    source destination     distance\n",
       "0        a           b     3.597015\n",
       "1        a           c     5.070188\n",
       "2        b           a     2.345403\n",
       "3        b           c     5.272907\n",
       "4        c           a     2.815777\n",
       "..     ...         ...          ...\n",
       "115      a           c  5000.000000\n",
       "116      b           a  5000.000000\n",
       "117      b           c  5000.000000\n",
       "118      c           a  5000.000000\n",
       "119      c           b  5000.000000\n",
       "\n",
       "[120 rows x 3 columns]"
      ]
     },
     "execution_count": 15,
     "metadata": {},
     "output_type": "execute_result"
    }
   ],
   "source": [
    "df"
   ]
  },
  {
   "cell_type": "code",
   "execution_count": 16,
   "id": "034d5fd7",
   "metadata": {},
   "outputs": [
    {
     "data": {
      "text/html": [
       "<div>\n",
       "<style scoped>\n",
       "    .dataframe tbody tr th:only-of-type {\n",
       "        vertical-align: middle;\n",
       "    }\n",
       "\n",
       "    .dataframe tbody tr th {\n",
       "        vertical-align: top;\n",
       "    }\n",
       "\n",
       "    .dataframe thead th {\n",
       "        text-align: right;\n",
       "    }\n",
       "</style>\n",
       "<table border=\"1\" class=\"dataframe\">\n",
       "  <thead>\n",
       "    <tr style=\"text-align: right;\">\n",
       "      <th></th>\n",
       "      <th>distance</th>\n",
       "    </tr>\n",
       "  </thead>\n",
       "  <tbody>\n",
       "    <tr>\n",
       "      <th>count</th>\n",
       "      <td>120.000000</td>\n",
       "    </tr>\n",
       "    <tr>\n",
       "      <th>mean</th>\n",
       "      <td>504.906642</td>\n",
       "    </tr>\n",
       "    <tr>\n",
       "      <th>std</th>\n",
       "      <td>1504.649154</td>\n",
       "    </tr>\n",
       "    <tr>\n",
       "      <th>min</th>\n",
       "      <td>1.073033</td>\n",
       "    </tr>\n",
       "    <tr>\n",
       "      <th>25%</th>\n",
       "      <td>3.539251</td>\n",
       "    </tr>\n",
       "    <tr>\n",
       "      <th>50%</th>\n",
       "      <td>6.095335</td>\n",
       "    </tr>\n",
       "    <tr>\n",
       "      <th>75%</th>\n",
       "      <td>8.608950</td>\n",
       "    </tr>\n",
       "    <tr>\n",
       "      <th>max</th>\n",
       "      <td>5000.000000</td>\n",
       "    </tr>\n",
       "  </tbody>\n",
       "</table>\n",
       "</div>"
      ],
      "text/plain": [
       "          distance\n",
       "count   120.000000\n",
       "mean    504.906642\n",
       "std    1504.649154\n",
       "min       1.073033\n",
       "25%       3.539251\n",
       "50%       6.095335\n",
       "75%       8.608950\n",
       "max    5000.000000"
      ]
     },
     "execution_count": 16,
     "metadata": {},
     "output_type": "execute_result"
    }
   ],
   "source": [
    "df.describe()"
   ]
  },
  {
   "cell_type": "code",
   "execution_count": 17,
   "id": "b31f96a7",
   "metadata": {},
   "outputs": [],
   "source": [
    "src_dest = df.groupby(['source','destination'])"
   ]
  },
  {
   "cell_type": "code",
   "execution_count": null,
   "id": "7c7a689b",
   "metadata": {},
   "outputs": [],
   "source": [
    "df1 = src_dest.std().reset_index()"
   ]
  },
  {
   "cell_type": "code",
   "execution_count": null,
   "id": "b3473117",
   "metadata": {},
   "outputs": [],
   "source": [
    "df1.head(10)"
   ]
  },
  {
   "cell_type": "code",
   "execution_count": null,
   "id": "97d2d93e",
   "metadata": {},
   "outputs": [],
   "source": [
    "from sklearn.preprocessing import StandardScaler\n",
    "sc = StandardScaler()"
   ]
  },
  {
   "cell_type": "code",
   "execution_count": null,
   "id": "19a52771",
   "metadata": {},
   "outputs": [],
   "source": [
    "df1['scaled'] = sc.fit_transform(np.array(df1['distance']).reshape(-1,1))"
   ]
  },
  {
   "cell_type": "code",
   "execution_count": null,
   "id": "4e845cda",
   "metadata": {},
   "outputs": [],
   "source": [
    "df1.head(20)"
   ]
  },
  {
   "cell_type": "code",
   "execution_count": null,
   "id": "e518b945",
   "metadata": {},
   "outputs": [],
   "source": [
    "for index, row in df1.iterrows():\n",
    "    if row['scaled'] > 2:\n",
    "        print(row)"
   ]
  },
  {
   "cell_type": "code",
   "execution_count": null,
   "id": "64a6cd65",
   "metadata": {},
   "outputs": [],
   "source": [
    "df1['scaled'].min()"
   ]
  },
  {
   "cell_type": "code",
   "execution_count": 22,
   "id": "166ad401",
   "metadata": {},
   "outputs": [
    {
     "name": "stdout",
     "output_type": "stream",
     "text": [
      "{'distance': {('a', 'b'): 1537.214384343926, ('a', 'c'): 1537.2547906558561, ('b', 'a'): 1537.1591068737578, ('b', 'c'): 1537.2896771055214, ('c', 'a'): 1537.107265292104, ('c', 'b'): 1537.7245517781012}}\n"
     ]
    }
   ],
   "source": [
    "src_dest_std = src_dest.std().apply(list).to_dict()\n",
    "print(src_dest_std)"
   ]
  },
  {
   "cell_type": "code",
   "execution_count": 23,
   "id": "9df04f93",
   "metadata": {},
   "outputs": [
    {
     "name": "stdout",
     "output_type": "stream",
     "text": [
      "{('a', 'b'): 1537.214384343926, ('a', 'c'): 1537.2547906558561, ('b', 'a'): 1537.1591068737578, ('b', 'c'): 1537.2896771055214, ('c', 'a'): 1537.107265292104, ('c', 'b'): 1537.7245517781012}\n"
     ]
    }
   ],
   "source": [
    "src_dest_std_dict = src_dest_std['distance']\n",
    "print(src_dest_std_dict)"
   ]
  },
  {
   "cell_type": "code",
   "execution_count": 24,
   "id": "178d4e6e",
   "metadata": {},
   "outputs": [
    {
     "name": "stdout",
     "output_type": "stream",
     "text": [
      "{('a', 'b'): 505.133737627841, ('a', 'c'): 505.01428788480223, ('b', 'a'): 505.29477013110363, ('b', 'c'): 504.9126588246718, ('c', 'a'): 505.44530759882355, ('c', 'b'): 503.63908877233973}\n"
     ]
    }
   ],
   "source": [
    "src_dest_mean = src_dest.mean().apply(list).to_dict()\n",
    "print(src_dest_mean_dict)"
   ]
  },
  {
   "cell_type": "code",
   "execution_count": 25,
   "id": "8fa07546",
   "metadata": {},
   "outputs": [
    {
     "name": "stdout",
     "output_type": "stream",
     "text": [
      "{('a', 'b'): 505.133737627841, ('a', 'c'): 505.01428788480223, ('b', 'a'): 505.29477013110363, ('b', 'c'): 504.9126588246718, ('c', 'a'): 505.44530759882355, ('c', 'b'): 503.63908877233973}\n"
     ]
    }
   ],
   "source": [
    "src_dest_mean_dict = src_dest_mean['distance']\n",
    "print(src_dest_mean_dict)"
   ]
  },
  {
   "cell_type": "code",
   "execution_count": 26,
   "id": "62c8e923",
   "metadata": {},
   "outputs": [],
   "source": [
    "def get_val(row):\n",
    "    src = row['source']\n",
    "    dest = row['destination']\n",
    "    dist = row['distance']\n",
    "    std = src_dest_std_dict[(src, dest)]\n",
    "    mean = src_dest_mean_dict[(src, dest)]\n",
    "       \n",
    "    diff = np.abs(dist-mean)\n",
    "    if diff > 2*std:  \n",
    "        print(src,dest,dist,mean,diff, std)\n",
    "        return (mean + 2*std)\n",
    "    else:\n",
    "        return dist\n",
    "  \n",
    "        "
   ]
  },
  {
   "cell_type": "code",
   "execution_count": 27,
   "id": "c7aab4e4",
   "metadata": {},
   "outputs": [
    {
     "name": "stdout",
     "output_type": "stream",
     "text": [
      "a b 5000.0 505.133737627841 4494.866262372159 1537.214384343926\n",
      "a c 5000.0 505.01428788480223 4494.985712115198 1537.2547906558561\n",
      "b a 5000.0 505.29477013110363 4494.705229868896 1537.1591068737578\n",
      "b c 5000.0 504.9126588246718 4495.087341175328 1537.2896771055214\n",
      "c a 5000.0 505.44530759882355 4494.554692401176 1537.107265292104\n",
      "c b 5000.0 503.63908877233973 4496.36091122766 1537.7245517781012\n",
      "a b 5000.0 505.133737627841 4494.866262372159 1537.214384343926\n",
      "a c 5000.0 505.01428788480223 4494.985712115198 1537.2547906558561\n",
      "b a 5000.0 505.29477013110363 4494.705229868896 1537.1591068737578\n",
      "b c 5000.0 504.9126588246718 4495.087341175328 1537.2896771055214\n",
      "c a 5000.0 505.44530759882355 4494.554692401176 1537.107265292104\n",
      "c b 5000.0 503.63908877233973 4496.36091122766 1537.7245517781012\n"
     ]
    }
   ],
   "source": [
    "df['new_col'] = df.apply(get_val, axis=1)"
   ]
  },
  {
   "cell_type": "code",
   "execution_count": 28,
   "id": "b9ca25b4",
   "metadata": {},
   "outputs": [
    {
     "data": {
      "text/html": [
       "<div>\n",
       "<style scoped>\n",
       "    .dataframe tbody tr th:only-of-type {\n",
       "        vertical-align: middle;\n",
       "    }\n",
       "\n",
       "    .dataframe tbody tr th {\n",
       "        vertical-align: top;\n",
       "    }\n",
       "\n",
       "    .dataframe thead th {\n",
       "        text-align: right;\n",
       "    }\n",
       "</style>\n",
       "<table border=\"1\" class=\"dataframe\">\n",
       "  <thead>\n",
       "    <tr style=\"text-align: right;\">\n",
       "      <th></th>\n",
       "      <th>source</th>\n",
       "      <th>destination</th>\n",
       "      <th>distance</th>\n",
       "      <th>new_col</th>\n",
       "    </tr>\n",
       "  </thead>\n",
       "  <tbody>\n",
       "    <tr>\n",
       "      <th>0</th>\n",
       "      <td>a</td>\n",
       "      <td>b</td>\n",
       "      <td>3.597015</td>\n",
       "      <td>3.597015</td>\n",
       "    </tr>\n",
       "    <tr>\n",
       "      <th>1</th>\n",
       "      <td>a</td>\n",
       "      <td>c</td>\n",
       "      <td>5.070188</td>\n",
       "      <td>5.070188</td>\n",
       "    </tr>\n",
       "    <tr>\n",
       "      <th>2</th>\n",
       "      <td>b</td>\n",
       "      <td>a</td>\n",
       "      <td>2.345403</td>\n",
       "      <td>2.345403</td>\n",
       "    </tr>\n",
       "    <tr>\n",
       "      <th>3</th>\n",
       "      <td>b</td>\n",
       "      <td>c</td>\n",
       "      <td>5.272907</td>\n",
       "      <td>5.272907</td>\n",
       "    </tr>\n",
       "    <tr>\n",
       "      <th>4</th>\n",
       "      <td>c</td>\n",
       "      <td>a</td>\n",
       "      <td>2.815777</td>\n",
       "      <td>2.815777</td>\n",
       "    </tr>\n",
       "    <tr>\n",
       "      <th>...</th>\n",
       "      <td>...</td>\n",
       "      <td>...</td>\n",
       "      <td>...</td>\n",
       "      <td>...</td>\n",
       "    </tr>\n",
       "    <tr>\n",
       "      <th>115</th>\n",
       "      <td>a</td>\n",
       "      <td>c</td>\n",
       "      <td>5000.000000</td>\n",
       "      <td>3579.523869</td>\n",
       "    </tr>\n",
       "    <tr>\n",
       "      <th>116</th>\n",
       "      <td>b</td>\n",
       "      <td>a</td>\n",
       "      <td>5000.000000</td>\n",
       "      <td>3579.612984</td>\n",
       "    </tr>\n",
       "    <tr>\n",
       "      <th>117</th>\n",
       "      <td>b</td>\n",
       "      <td>c</td>\n",
       "      <td>5000.000000</td>\n",
       "      <td>3579.492013</td>\n",
       "    </tr>\n",
       "    <tr>\n",
       "      <th>118</th>\n",
       "      <td>c</td>\n",
       "      <td>a</td>\n",
       "      <td>5000.000000</td>\n",
       "      <td>3579.659838</td>\n",
       "    </tr>\n",
       "    <tr>\n",
       "      <th>119</th>\n",
       "      <td>c</td>\n",
       "      <td>b</td>\n",
       "      <td>5000.000000</td>\n",
       "      <td>3579.088192</td>\n",
       "    </tr>\n",
       "  </tbody>\n",
       "</table>\n",
       "<p>120 rows × 4 columns</p>\n",
       "</div>"
      ],
      "text/plain": [
       "    source destination     distance      new_col\n",
       "0        a           b     3.597015     3.597015\n",
       "1        a           c     5.070188     5.070188\n",
       "2        b           a     2.345403     2.345403\n",
       "3        b           c     5.272907     5.272907\n",
       "4        c           a     2.815777     2.815777\n",
       "..     ...         ...          ...          ...\n",
       "115      a           c  5000.000000  3579.523869\n",
       "116      b           a  5000.000000  3579.612984\n",
       "117      b           c  5000.000000  3579.492013\n",
       "118      c           a  5000.000000  3579.659838\n",
       "119      c           b  5000.000000  3579.088192\n",
       "\n",
       "[120 rows x 4 columns]"
      ]
     },
     "execution_count": 28,
     "metadata": {},
     "output_type": "execute_result"
    }
   ],
   "source": [
    "df"
   ]
  },
  {
   "cell_type": "code",
   "execution_count": null,
   "id": "cde685a7",
   "metadata": {},
   "outputs": [],
   "source": [
    "from sklearn.preprocessing import StandardScaler"
   ]
  },
  {
   "cell_type": "code",
   "execution_count": null,
   "id": "d5c5e061",
   "metadata": {},
   "outputs": [],
   "source": [
    "sc =  StandardScaler()\n",
    "df['distance_standard'] = sc.fit_transform(np.array(df['distance']).reshape(-1,1))"
   ]
  },
  {
   "cell_type": "code",
   "execution_count": null,
   "id": "c9195dd8",
   "metadata": {},
   "outputs": [],
   "source": [
    "df"
   ]
  },
  {
   "cell_type": "code",
   "execution_count": null,
   "id": "5d6d2fe9",
   "metadata": {},
   "outputs": [],
   "source": []
  }
 ],
 "metadata": {
  "kernelspec": {
   "display_name": "Python 3 (ipykernel)",
   "language": "python",
   "name": "python3"
  },
  "language_info": {
   "codemirror_mode": {
    "name": "ipython",
    "version": 3
   },
   "file_extension": ".py",
   "mimetype": "text/x-python",
   "name": "python",
   "nbconvert_exporter": "python",
   "pygments_lexer": "ipython3",
   "version": "3.11.5"
  }
 },
 "nbformat": 4,
 "nbformat_minor": 5
}
