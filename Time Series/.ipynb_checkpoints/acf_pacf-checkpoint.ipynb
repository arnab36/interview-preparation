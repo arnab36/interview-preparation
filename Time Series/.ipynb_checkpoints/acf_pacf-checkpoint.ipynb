{
 "cells": [
  {
   "cell_type": "code",
   "execution_count": 2,
   "id": "1957d5a2",
   "metadata": {
    "scrolled": true
   },
   "outputs": [
    {
     "name": "stdout",
     "output_type": "stream",
     "text": [
      "Requirement already satisfied: statsmodels in c:\\users\\arnabbiswas\\anaconda3\\lib\\site-packages (0.13.5)\n",
      "Requirement already satisfied: packaging>=21.3 in c:\\users\\arnabbiswas\\appdata\\roaming\\python\\python39\\site-packages (from statsmodels) (21.3)\n",
      "Requirement already satisfied: numpy>=1.17 in c:\\users\\arnabbiswas\\anaconda3\\lib\\site-packages (from statsmodels) (1.23.5)\n",
      "Requirement already satisfied: patsy>=0.5.2 in c:\\users\\arnabbiswas\\anaconda3\\lib\\site-packages (from statsmodels) (0.5.3)\n",
      "Requirement already satisfied: pandas>=0.25 in c:\\users\\arnabbiswas\\anaconda3\\lib\\site-packages (from statsmodels) (1.4.3)\n",
      "Requirement already satisfied: scipy>=1.3 in c:\\users\\arnabbiswas\\anaconda3\\lib\\site-packages (from statsmodels) (1.10.1)\n",
      "Requirement already satisfied: pyparsing!=3.0.5,>=2.0.2 in c:\\users\\arnabbiswas\\appdata\\roaming\\python\\python39\\site-packages (from packaging>=21.3->statsmodels) (3.0.9)\n",
      "Requirement already satisfied: python-dateutil>=2.8.1 in c:\\users\\arnabbiswas\\anaconda3\\lib\\site-packages (from pandas>=0.25->statsmodels) (2.8.2)\n",
      "Requirement already satisfied: pytz>=2020.1 in c:\\users\\arnabbiswas\\anaconda3\\lib\\site-packages (from pandas>=0.25->statsmodels) (2022.7)\n",
      "Requirement already satisfied: six in c:\\users\\arnabbiswas\\appdata\\roaming\\python\\python39\\site-packages (from patsy>=0.5.2->statsmodels) (1.16.0)\n",
      "Note: you may need to restart the kernel to use updated packages.\n"
     ]
    }
   ],
   "source": [
    "pip install statsmodels"
   ]
  },
  {
   "cell_type": "code",
   "execution_count": 3,
   "id": "e7ac097b",
   "metadata": {},
   "outputs": [],
   "source": [
    "import numpy as np\n",
    "import pandas as pd\n",
    "from datetime import datetime\n",
    "%matplotlib inline\n"
   ]
  },
  {
   "cell_type": "code",
   "execution_count": 4,
   "id": "ac7e7212",
   "metadata": {},
   "outputs": [],
   "source": [
    "import statsmodels.api as sm\n",
    "from statsmodels.tsa.stattools import acovf, acf,pacf,pacf_yw, pacf_ols"
   ]
  },
  {
   "cell_type": "code",
   "execution_count": 7,
   "id": "aea61afc",
   "metadata": {},
   "outputs": [],
   "source": [
    "df1 = pd.read_csv('../../Time-series-analysis/Data/airline_passengers.csv',index_col='Month', parse_dates=True)"
   ]
  },
  {
   "cell_type": "code",
   "execution_count": 8,
   "id": "5cb1e2d6",
   "metadata": {},
   "outputs": [],
   "source": [
    "df1.index.freq = 'MS'"
   ]
  },
  {
   "cell_type": "code",
   "execution_count": null,
   "id": "7e250f19",
   "metadata": {},
   "outputs": [],
   "source": [
    "df2 = pd.read_csv('../../Time-series-analysis/Data/DailyTotalFemaleBirths.csv',index_col='Month', parse_dates=True)"
   ]
  }
 ],
 "metadata": {
  "kernelspec": {
   "display_name": "Python 3 (ipykernel)",
   "language": "python",
   "name": "python3"
  },
  "language_info": {
   "codemirror_mode": {
    "name": "ipython",
    "version": 3
   },
   "file_extension": ".py",
   "mimetype": "text/x-python",
   "name": "python",
   "nbconvert_exporter": "python",
   "pygments_lexer": "ipython3",
   "version": "3.9.12"
  }
 },
 "nbformat": 4,
 "nbformat_minor": 5
}
