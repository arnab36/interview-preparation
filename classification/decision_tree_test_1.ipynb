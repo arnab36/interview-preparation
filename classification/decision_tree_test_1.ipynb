{
 "cells": [
  {
   "cell_type": "code",
   "execution_count": 1,
   "id": "6fa0af42",
   "metadata": {},
   "outputs": [],
   "source": [
    "import pandas as pd\n",
    "from sklearn.metrics import confusion_matrix\n",
    "from sklearn.model_selection import train_test_split\n",
    "from sklearn.tree import DecisionTreeClassifier\n",
    "from sklearn.metrics import accuracy_score\n",
    "from sklearn.metrics import classification_report"
   ]
  },
  {
   "cell_type": "code",
   "execution_count": 2,
   "id": "0b82c2a9",
   "metadata": {},
   "outputs": [],
   "source": [
    "\n",
    "def change_to_numerical(colName,df):\n",
    "    a = df[colName]\n",
    "    s = set(a)\n",
    "    size =  len(s)\n",
    "    l = []\n",
    "    d = dict()\n",
    "    count = 0\n",
    "    for val in s:\n",
    "        d[val] = count\n",
    "        count += 1\n",
    "    # df[colName] = df[colName].apply(d)\n",
    "    df[colName] = df[colName].map(d)\n",
    "    return df\n"
   ]
  },
  {
   "cell_type": "code",
   "execution_count": 3,
   "id": "8efaabc0",
   "metadata": {},
   "outputs": [],
   "source": [
    "filePath = \"../../Data/Dataset/\"\n",
    "df = pd.read_csv(filePath+'car_evaluation.csv')"
   ]
  },
  {
   "cell_type": "code",
   "execution_count": 4,
   "id": "2efcdc50",
   "metadata": {},
   "outputs": [
    {
     "data": {
      "text/html": [
       "<div>\n",
       "<style scoped>\n",
       "    .dataframe tbody tr th:only-of-type {\n",
       "        vertical-align: middle;\n",
       "    }\n",
       "\n",
       "    .dataframe tbody tr th {\n",
       "        vertical-align: top;\n",
       "    }\n",
       "\n",
       "    .dataframe thead th {\n",
       "        text-align: right;\n",
       "    }\n",
       "</style>\n",
       "<table border=\"1\" class=\"dataframe\">\n",
       "  <thead>\n",
       "    <tr style=\"text-align: right;\">\n",
       "      <th></th>\n",
       "      <th>COST</th>\n",
       "      <th>MAINTENANCE</th>\n",
       "      <th>DOORS</th>\n",
       "      <th>PERSONS</th>\n",
       "      <th>LUGGAGE</th>\n",
       "      <th>SAFETY</th>\n",
       "      <th>ACCEPTABILITY</th>\n",
       "    </tr>\n",
       "  </thead>\n",
       "  <tbody>\n",
       "    <tr>\n",
       "      <th>count</th>\n",
       "      <td>1728</td>\n",
       "      <td>1728</td>\n",
       "      <td>1728</td>\n",
       "      <td>1728</td>\n",
       "      <td>1728</td>\n",
       "      <td>1728</td>\n",
       "      <td>1728</td>\n",
       "    </tr>\n",
       "    <tr>\n",
       "      <th>unique</th>\n",
       "      <td>4</td>\n",
       "      <td>4</td>\n",
       "      <td>4</td>\n",
       "      <td>3</td>\n",
       "      <td>3</td>\n",
       "      <td>3</td>\n",
       "      <td>4</td>\n",
       "    </tr>\n",
       "    <tr>\n",
       "      <th>top</th>\n",
       "      <td>vhigh</td>\n",
       "      <td>vhigh</td>\n",
       "      <td>2</td>\n",
       "      <td>2</td>\n",
       "      <td>small</td>\n",
       "      <td>low</td>\n",
       "      <td>unacc</td>\n",
       "    </tr>\n",
       "    <tr>\n",
       "      <th>freq</th>\n",
       "      <td>432</td>\n",
       "      <td>432</td>\n",
       "      <td>432</td>\n",
       "      <td>576</td>\n",
       "      <td>576</td>\n",
       "      <td>576</td>\n",
       "      <td>1210</td>\n",
       "    </tr>\n",
       "  </tbody>\n",
       "</table>\n",
       "</div>"
      ],
      "text/plain": [
       "         COST MAINTENANCE DOORS PERSONS LUGGAGE SAFETY ACCEPTABILITY\n",
       "count    1728        1728  1728    1728    1728   1728          1728\n",
       "unique      4           4     4       3       3      3             4\n",
       "top     vhigh       vhigh     2       2   small    low         unacc\n",
       "freq      432         432   432     576     576    576          1210"
      ]
     },
     "execution_count": 4,
     "metadata": {},
     "output_type": "execute_result"
    }
   ],
   "source": [
    "df.describe()"
   ]
  },
  {
   "cell_type": "code",
   "execution_count": 5,
   "id": "57038567",
   "metadata": {},
   "outputs": [
    {
     "data": {
      "text/html": [
       "<div>\n",
       "<style scoped>\n",
       "    .dataframe tbody tr th:only-of-type {\n",
       "        vertical-align: middle;\n",
       "    }\n",
       "\n",
       "    .dataframe tbody tr th {\n",
       "        vertical-align: top;\n",
       "    }\n",
       "\n",
       "    .dataframe thead th {\n",
       "        text-align: right;\n",
       "    }\n",
       "</style>\n",
       "<table border=\"1\" class=\"dataframe\">\n",
       "  <thead>\n",
       "    <tr style=\"text-align: right;\">\n",
       "      <th></th>\n",
       "      <th>COST</th>\n",
       "      <th>MAINTENANCE</th>\n",
       "      <th>DOORS</th>\n",
       "      <th>PERSONS</th>\n",
       "      <th>LUGGAGE</th>\n",
       "      <th>SAFETY</th>\n",
       "      <th>ACCEPTABILITY</th>\n",
       "    </tr>\n",
       "  </thead>\n",
       "  <tbody>\n",
       "    <tr>\n",
       "      <th>0</th>\n",
       "      <td>vhigh</td>\n",
       "      <td>vhigh</td>\n",
       "      <td>2</td>\n",
       "      <td>2</td>\n",
       "      <td>small</td>\n",
       "      <td>low</td>\n",
       "      <td>unacc</td>\n",
       "    </tr>\n",
       "    <tr>\n",
       "      <th>1</th>\n",
       "      <td>vhigh</td>\n",
       "      <td>vhigh</td>\n",
       "      <td>2</td>\n",
       "      <td>2</td>\n",
       "      <td>small</td>\n",
       "      <td>med</td>\n",
       "      <td>unacc</td>\n",
       "    </tr>\n",
       "    <tr>\n",
       "      <th>2</th>\n",
       "      <td>vhigh</td>\n",
       "      <td>vhigh</td>\n",
       "      <td>2</td>\n",
       "      <td>2</td>\n",
       "      <td>small</td>\n",
       "      <td>high</td>\n",
       "      <td>unacc</td>\n",
       "    </tr>\n",
       "    <tr>\n",
       "      <th>3</th>\n",
       "      <td>vhigh</td>\n",
       "      <td>vhigh</td>\n",
       "      <td>2</td>\n",
       "      <td>2</td>\n",
       "      <td>med</td>\n",
       "      <td>low</td>\n",
       "      <td>unacc</td>\n",
       "    </tr>\n",
       "    <tr>\n",
       "      <th>4</th>\n",
       "      <td>vhigh</td>\n",
       "      <td>vhigh</td>\n",
       "      <td>2</td>\n",
       "      <td>2</td>\n",
       "      <td>med</td>\n",
       "      <td>med</td>\n",
       "      <td>unacc</td>\n",
       "    </tr>\n",
       "  </tbody>\n",
       "</table>\n",
       "</div>"
      ],
      "text/plain": [
       "    COST MAINTENANCE DOORS PERSONS LUGGAGE SAFETY ACCEPTABILITY\n",
       "0  vhigh       vhigh     2       2   small    low         unacc\n",
       "1  vhigh       vhigh     2       2   small    med         unacc\n",
       "2  vhigh       vhigh     2       2   small   high         unacc\n",
       "3  vhigh       vhigh     2       2     med    low         unacc\n",
       "4  vhigh       vhigh     2       2     med    med         unacc"
      ]
     },
     "execution_count": 5,
     "metadata": {},
     "output_type": "execute_result"
    }
   ],
   "source": [
    "df.head()"
   ]
  },
  {
   "cell_type": "code",
   "execution_count": 6,
   "id": "0d1fc179",
   "metadata": {},
   "outputs": [
    {
     "data": {
      "text/plain": [
       "array(['unacc', 'acc', 'vgood', 'good'], dtype=object)"
      ]
     },
     "execution_count": 6,
     "metadata": {},
     "output_type": "execute_result"
    }
   ],
   "source": [
    "df['ACCEPTABILITY'].unique()"
   ]
  },
  {
   "cell_type": "code",
   "execution_count": 7,
   "id": "551441c1",
   "metadata": {},
   "outputs": [
    {
     "data": {
      "text/plain": [
       "array(['vhigh', 'high', 'med', 'low'], dtype=object)"
      ]
     },
     "execution_count": 7,
     "metadata": {},
     "output_type": "execute_result"
    }
   ],
   "source": [
    "df['COST'].unique()"
   ]
  },
  {
   "cell_type": "code",
   "execution_count": 8,
   "id": "b7cea815",
   "metadata": {},
   "outputs": [
    {
     "data": {
      "text/plain": [
       "array(['vhigh', 'high', 'med', 'low'], dtype=object)"
      ]
     },
     "execution_count": 8,
     "metadata": {},
     "output_type": "execute_result"
    }
   ],
   "source": [
    "df['MAINTENANCE'].unique()"
   ]
  },
  {
   "cell_type": "code",
   "execution_count": 9,
   "id": "bdabae88",
   "metadata": {},
   "outputs": [
    {
     "data": {
      "text/plain": [
       "array(['small', 'med', 'big'], dtype=object)"
      ]
     },
     "execution_count": 9,
     "metadata": {},
     "output_type": "execute_result"
    }
   ],
   "source": [
    "df['LUGGAGE'].unique()"
   ]
  },
  {
   "cell_type": "code",
   "execution_count": 10,
   "id": "34c8eeea",
   "metadata": {},
   "outputs": [
    {
     "data": {
      "text/plain": [
       "array(['low', 'med', 'high'], dtype=object)"
      ]
     },
     "execution_count": 10,
     "metadata": {},
     "output_type": "execute_result"
    }
   ],
   "source": [
    "df['SAFETY'].unique()"
   ]
  },
  {
   "cell_type": "markdown",
   "id": "49762153",
   "metadata": {},
   "source": [
    "Here Acceptability is the output class where as others are input. we have all 6 categorical features\n",
    "Among these as we can see that different categorical features have different categories. Cost & Maintainance can be \n",
    "categorized as vhigh to low, so we can treat them as 4,3,2,1 and Luggage and safety can have categories as 3,2,1. The reason\n",
    "we can mark them numerically is that they are relative to each other and their value ranges from high to low."
   ]
  },
  {
   "cell_type": "code",
   "execution_count": 11,
   "id": "bab931d1",
   "metadata": {},
   "outputs": [
    {
     "data": {
      "text/plain": [
       "array(['2', '3', '4', '5more'], dtype=object)"
      ]
     },
     "execution_count": 11,
     "metadata": {},
     "output_type": "execute_result"
    }
   ],
   "source": [
    "df['DOORS'].unique()"
   ]
  },
  {
   "cell_type": "code",
   "execution_count": 12,
   "id": "4313084e",
   "metadata": {},
   "outputs": [
    {
     "data": {
      "text/plain": [
       "array(['2', '4', 'more'], dtype=object)"
      ]
     },
     "execution_count": 12,
     "metadata": {},
     "output_type": "execute_result"
    }
   ],
   "source": [
    "df['PERSONS'].unique()"
   ]
  },
  {
   "cell_type": "code",
   "execution_count": 13,
   "id": "4afe239d",
   "metadata": {},
   "outputs": [
    {
     "data": {
      "text/plain": [
       "array(['vhigh', 'high', 'med', 'low'], dtype=object)"
      ]
     },
     "execution_count": 13,
     "metadata": {},
     "output_type": "execute_result"
    }
   ],
   "source": [
    "df['COST'].unique()"
   ]
  },
  {
   "cell_type": "code",
   "execution_count": 14,
   "id": "67cb7444",
   "metadata": {},
   "outputs": [],
   "source": [
    "def cat_to_numeric_1(x):\n",
    "    if x == 'vhigh':\n",
    "        return 4\n",
    "    elif x == 'high':\n",
    "        return 3\n",
    "    elif x == 'med':\n",
    "        return 2\n",
    "    elif x == 'low':\n",
    "        return 1\n",
    "    else:\n",
    "        return 0\n",
    "\n",
    "df['COST'] = df['COST'].apply(cat_to_numeric_1)\n",
    "df['MAINTENANCE'] = df['MAINTENANCE'].apply(cat_to_numeric_1)"
   ]
  },
  {
   "cell_type": "code",
   "execution_count": 15,
   "id": "d28b8a94",
   "metadata": {},
   "outputs": [],
   "source": [
    "def cat_to_numeric_2(x):\n",
    "    if x == 'big':\n",
    "        return 3\n",
    "    elif x == 'med':\n",
    "        return 2\n",
    "    elif x == 'small':\n",
    "        return 1\n",
    "    else:\n",
    "        return 0\n",
    "df['LUGGAGE'] = df['LUGGAGE'].apply(cat_to_numeric_1)"
   ]
  },
  {
   "cell_type": "code",
   "execution_count": 16,
   "id": "cef4a187",
   "metadata": {},
   "outputs": [],
   "source": [
    "def cat_to_numeric_3(x):\n",
    "    if x == 'high':\n",
    "        return 3\n",
    "    elif x == 'med':\n",
    "        return 2\n",
    "    elif x == 'low':\n",
    "        return 1\n",
    "    else:\n",
    "        return 0\n",
    "df['SAFETY'] = df['SAFETY'].apply(cat_to_numeric_1)"
   ]
  },
  {
   "cell_type": "code",
   "execution_count": 17,
   "id": "b8836350",
   "metadata": {},
   "outputs": [],
   "source": [
    "def cat_to_numeric_4(x):\n",
    "    if x== '5more' or x=='more':\n",
    "        return 6\n",
    "    else:\n",
    "        return x\n",
    "df['DOORS'] = df['DOORS'].apply(cat_to_numeric_4)\n",
    "df['PERSONS'] = df['PERSONS'].apply(cat_to_numeric_4)"
   ]
  },
  {
   "cell_type": "code",
   "execution_count": 18,
   "id": "675cb731",
   "metadata": {},
   "outputs": [],
   "source": [
    "train, test = train_test_split(df, test_size=0.2)\n",
    "\n",
    "train_x = train[train.columns[train.columns!='ACCEPTABILITY'] ]\n",
    "train_y = train[\"ACCEPTABILITY\"]\n",
    "\n",
    "test_x = test[test.columns[test.columns!='ACCEPTABILITY'] ]\n",
    "test_y = test[\"ACCEPTABILITY\"]"
   ]
  },
  {
   "cell_type": "code",
   "execution_count": 19,
   "id": "ecbbd7b6",
   "metadata": {},
   "outputs": [],
   "source": [
    "dst = DecisionTreeClassifier()"
   ]
  },
  {
   "cell_type": "code",
   "execution_count": 20,
   "id": "90411645",
   "metadata": {},
   "outputs": [
    {
     "data": {
      "text/html": [
       "<style>#sk-container-id-1 {color: black;}#sk-container-id-1 pre{padding: 0;}#sk-container-id-1 div.sk-toggleable {background-color: white;}#sk-container-id-1 label.sk-toggleable__label {cursor: pointer;display: block;width: 100%;margin-bottom: 0;padding: 0.3em;box-sizing: border-box;text-align: center;}#sk-container-id-1 label.sk-toggleable__label-arrow:before {content: \"▸\";float: left;margin-right: 0.25em;color: #696969;}#sk-container-id-1 label.sk-toggleable__label-arrow:hover:before {color: black;}#sk-container-id-1 div.sk-estimator:hover label.sk-toggleable__label-arrow:before {color: black;}#sk-container-id-1 div.sk-toggleable__content {max-height: 0;max-width: 0;overflow: hidden;text-align: left;background-color: #f0f8ff;}#sk-container-id-1 div.sk-toggleable__content pre {margin: 0.2em;color: black;border-radius: 0.25em;background-color: #f0f8ff;}#sk-container-id-1 input.sk-toggleable__control:checked~div.sk-toggleable__content {max-height: 200px;max-width: 100%;overflow: auto;}#sk-container-id-1 input.sk-toggleable__control:checked~label.sk-toggleable__label-arrow:before {content: \"▾\";}#sk-container-id-1 div.sk-estimator input.sk-toggleable__control:checked~label.sk-toggleable__label {background-color: #d4ebff;}#sk-container-id-1 div.sk-label input.sk-toggleable__control:checked~label.sk-toggleable__label {background-color: #d4ebff;}#sk-container-id-1 input.sk-hidden--visually {border: 0;clip: rect(1px 1px 1px 1px);clip: rect(1px, 1px, 1px, 1px);height: 1px;margin: -1px;overflow: hidden;padding: 0;position: absolute;width: 1px;}#sk-container-id-1 div.sk-estimator {font-family: monospace;background-color: #f0f8ff;border: 1px dotted black;border-radius: 0.25em;box-sizing: border-box;margin-bottom: 0.5em;}#sk-container-id-1 div.sk-estimator:hover {background-color: #d4ebff;}#sk-container-id-1 div.sk-parallel-item::after {content: \"\";width: 100%;border-bottom: 1px solid gray;flex-grow: 1;}#sk-container-id-1 div.sk-label:hover label.sk-toggleable__label {background-color: #d4ebff;}#sk-container-id-1 div.sk-serial::before {content: \"\";position: absolute;border-left: 1px solid gray;box-sizing: border-box;top: 0;bottom: 0;left: 50%;z-index: 0;}#sk-container-id-1 div.sk-serial {display: flex;flex-direction: column;align-items: center;background-color: white;padding-right: 0.2em;padding-left: 0.2em;position: relative;}#sk-container-id-1 div.sk-item {position: relative;z-index: 1;}#sk-container-id-1 div.sk-parallel {display: flex;align-items: stretch;justify-content: center;background-color: white;position: relative;}#sk-container-id-1 div.sk-item::before, #sk-container-id-1 div.sk-parallel-item::before {content: \"\";position: absolute;border-left: 1px solid gray;box-sizing: border-box;top: 0;bottom: 0;left: 50%;z-index: -1;}#sk-container-id-1 div.sk-parallel-item {display: flex;flex-direction: column;z-index: 1;position: relative;background-color: white;}#sk-container-id-1 div.sk-parallel-item:first-child::after {align-self: flex-end;width: 50%;}#sk-container-id-1 div.sk-parallel-item:last-child::after {align-self: flex-start;width: 50%;}#sk-container-id-1 div.sk-parallel-item:only-child::after {width: 0;}#sk-container-id-1 div.sk-dashed-wrapped {border: 1px dashed gray;margin: 0 0.4em 0.5em 0.4em;box-sizing: border-box;padding-bottom: 0.4em;background-color: white;}#sk-container-id-1 div.sk-label label {font-family: monospace;font-weight: bold;display: inline-block;line-height: 1.2em;}#sk-container-id-1 div.sk-label-container {text-align: center;}#sk-container-id-1 div.sk-container {/* jupyter's `normalize.less` sets `[hidden] { display: none; }` but bootstrap.min.css set `[hidden] { display: none !important; }` so we also need the `!important` here to be able to override the default hidden behavior on the sphinx rendered scikit-learn.org. See: https://github.com/scikit-learn/scikit-learn/issues/21755 */display: inline-block !important;position: relative;}#sk-container-id-1 div.sk-text-repr-fallback {display: none;}</style><div id=\"sk-container-id-1\" class=\"sk-top-container\"><div class=\"sk-text-repr-fallback\"><pre>DecisionTreeClassifier()</pre><b>In a Jupyter environment, please rerun this cell to show the HTML representation or trust the notebook. <br />On GitHub, the HTML representation is unable to render, please try loading this page with nbviewer.org.</b></div><div class=\"sk-container\" hidden><div class=\"sk-item\"><div class=\"sk-estimator sk-toggleable\"><input class=\"sk-toggleable__control sk-hidden--visually\" id=\"sk-estimator-id-1\" type=\"checkbox\" checked><label for=\"sk-estimator-id-1\" class=\"sk-toggleable__label sk-toggleable__label-arrow\">DecisionTreeClassifier</label><div class=\"sk-toggleable__content\"><pre>DecisionTreeClassifier()</pre></div></div></div></div></div>"
      ],
      "text/plain": [
       "DecisionTreeClassifier()"
      ]
     },
     "execution_count": 20,
     "metadata": {},
     "output_type": "execute_result"
    }
   ],
   "source": [
    "dst.fit(train_x,train_y)"
   ]
  },
  {
   "cell_type": "code",
   "execution_count": 22,
   "id": "222ec9b5",
   "metadata": {},
   "outputs": [],
   "source": [
    "y_pred = dst.predict(test_x)"
   ]
  },
  {
   "cell_type": "code",
   "execution_count": 23,
   "id": "cc32a2e8",
   "metadata": {},
   "outputs": [
    {
     "data": {
      "text/plain": [
       "0.8121387283236994"
      ]
     },
     "execution_count": 23,
     "metadata": {},
     "output_type": "execute_result"
    }
   ],
   "source": [
    "accuracy_score(test_y,y_pred)"
   ]
  },
  {
   "cell_type": "code",
   "execution_count": 26,
   "id": "d97a7cb1",
   "metadata": {},
   "outputs": [
    {
     "data": {
      "text/plain": [
       "array([[ 58,   6,  12,   6],\n",
       "       [  5,   5,   0,   6],\n",
       "       [ 18,   1, 212,   1],\n",
       "       [  5,   4,   1,   6]], dtype=int64)"
      ]
     },
     "execution_count": 26,
     "metadata": {},
     "output_type": "execute_result"
    }
   ],
   "source": [
    "confusion_matrix(test_y,y_pred)"
   ]
  },
  {
   "cell_type": "code",
   "execution_count": 25,
   "id": "29d6d1ac",
   "metadata": {},
   "outputs": [
    {
     "name": "stdout",
     "output_type": "stream",
     "text": [
      "              precision    recall  f1-score   support\n",
      "\n",
      "         acc       0.67      0.71      0.69        82\n",
      "        good       0.31      0.31      0.31        16\n",
      "       unacc       0.94      0.91      0.93       232\n",
      "       vgood       0.32      0.38      0.34        16\n",
      "\n",
      "    accuracy                           0.81       346\n",
      "   macro avg       0.56      0.58      0.57       346\n",
      "weighted avg       0.82      0.81      0.82       346\n",
      "\n"
     ]
    }
   ],
   "source": [
    "print(classification_report(test_y,y_pred))"
   ]
  },
  {
   "cell_type": "code",
   "execution_count": 27,
   "id": "074af5c3",
   "metadata": {},
   "outputs": [],
   "source": [
    "# Let us apply now different classification algorithms\n",
    "\n",
    "from sklearn.linear_model import LogisticRegression\n",
    "from sklearn.svm import SVC\n",
    "from sklearn.tree import DecisionTreeClassifier\n",
    "from sklearn.ensemble import RandomForestClassifier\n",
    "from sklearn.neural_network import MLPClassifier\n",
    "from sklearn.linear_model import SGDClassifier\n",
    "from sklearn.neighbors import KNeighborsClassifier\n",
    "from sklearn.pipeline import Pipeline\n",
    "from datetime import datetime"
   ]
  },
  {
   "cell_type": "code",
   "execution_count": 29,
   "id": "dcf159c7",
   "metadata": {},
   "outputs": [
    {
     "name": "stderr",
     "output_type": "stream",
     "text": [
      "C:\\Users\\ArnabBiswas\\anaconda3\\Lib\\site-packages\\sklearn\\linear_model\\_logistic.py:460: ConvergenceWarning: lbfgs failed to converge (status=1):\n",
      "STOP: TOTAL NO. of ITERATIONS REACHED LIMIT.\n",
      "\n",
      "Increase the number of iterations (max_iter) or scale the data as shown in:\n",
      "    https://scikit-learn.org/stable/modules/preprocessing.html\n",
      "Please also refer to the documentation for alternative solver options:\n",
      "    https://scikit-learn.org/stable/modules/linear_model.html#logistic-regression\n",
      "  n_iter_i = _check_optimize_result(\n"
     ]
    },
    {
     "name": "stdout",
     "output_type": "stream",
     "text": [
      "\n",
      " \n",
      " ======= For Logistic Regression ============\n",
      "Accuracy Score : 0.7861271676300579 \n",
      "Confusion Matrix \n",
      "\n",
      "   [[ 48   5  14   5]\n",
      " [  3   4   6   0]\n",
      " [ 31   1 209   0]\n",
      " [  0   6   3  11]]\n",
      "\n",
      " Classification Report \n",
      " \n",
      "              precision    recall  f1-score   support\n",
      "\n",
      "         acc       0.59      0.67      0.62        72\n",
      "        good       0.25      0.31      0.28        13\n",
      "       unacc       0.90      0.87      0.88       241\n",
      "       vgood       0.69      0.55      0.61        20\n",
      "\n",
      "    accuracy                           0.79       346\n",
      "   macro avg       0.61      0.60      0.60       346\n",
      "weighted avg       0.80      0.79      0.79       346\n",
      "\n",
      "Execution time of program is:  85.647 ms\n",
      "\n",
      " \n",
      " ======= For Support Vector Classifier ============\n",
      "Accuracy Score : 0.8554913294797688 \n",
      "Confusion Matrix \n",
      "\n",
      "   [[ 68   6  17   7]\n",
      " [  4   7   1   2]\n",
      " [ 10   0 214   0]\n",
      " [  0   3   0   7]]\n",
      "\n",
      " Classification Report \n",
      " \n",
      "              precision    recall  f1-score   support\n",
      "\n",
      "         acc       0.83      0.69      0.76        98\n",
      "        good       0.44      0.50      0.47        14\n",
      "       unacc       0.92      0.96      0.94       224\n",
      "       vgood       0.44      0.70      0.54        10\n",
      "\n",
      "    accuracy                           0.86       346\n",
      "   macro avg       0.66      0.71      0.67       346\n",
      "weighted avg       0.86      0.86      0.86       346\n",
      "\n",
      "Execution time of program is:  64.663 ms\n",
      "\n",
      " \n",
      " ======= For Decision Tree ============\n",
      "Accuracy Score : 0.815028901734104 \n",
      "Confusion Matrix \n",
      "\n",
      "   [[ 58   5  18   5]\n",
      " [  6   5   0   3]\n",
      " [ 13   0 213   2]\n",
      " [  5   6   1   6]]\n",
      "\n",
      " Classification Report \n",
      " \n",
      "              precision    recall  f1-score   support\n",
      "\n",
      "         acc       0.71      0.67      0.69        86\n",
      "        good       0.31      0.36      0.33        14\n",
      "       unacc       0.92      0.93      0.93       228\n",
      "       vgood       0.38      0.33      0.35        18\n",
      "\n",
      "    accuracy                           0.82       346\n",
      "   macro avg       0.58      0.57      0.58       346\n",
      "weighted avg       0.81      0.82      0.81       346\n",
      "\n",
      "Execution time of program is:  12.068000000000001 ms\n",
      "\n",
      " \n",
      " ======= For Random Forest ============\n",
      "Accuracy Score : 0.8121387283236994 \n",
      "Confusion Matrix \n",
      "\n",
      "   [[ 60   4  19   7]\n",
      " [  7   6   1   4]\n",
      " [ 12   0 211   1]\n",
      " [  3   6   1   4]]\n",
      "\n",
      " Classification Report \n",
      " \n",
      "              precision    recall  f1-score   support\n",
      "\n",
      "         acc       0.73      0.67      0.70        90\n",
      "        good       0.38      0.33      0.35        18\n",
      "       unacc       0.91      0.94      0.93       224\n",
      "       vgood       0.25      0.29      0.27        14\n",
      "\n",
      "    accuracy                           0.81       346\n",
      "   macro avg       0.57      0.56      0.56       346\n",
      "weighted avg       0.81      0.81      0.81       346\n",
      "\n",
      "Execution time of program is:  234.932 ms\n",
      "\n",
      " \n",
      " ======= For Neural Network ============\n",
      "Accuracy Score : 0.8583815028901735 \n",
      "Confusion Matrix \n",
      "\n",
      "   [[ 62   2  13   5]\n",
      " [  4   7   1   0]\n",
      " [ 16   0 217   0]\n",
      " [  0   7   1  11]]\n",
      "\n",
      " Classification Report \n",
      " \n",
      "              precision    recall  f1-score   support\n",
      "\n",
      "         acc       0.76      0.76      0.76        82\n",
      "        good       0.44      0.58      0.50        12\n",
      "       unacc       0.94      0.93      0.93       233\n",
      "       vgood       0.69      0.58      0.63        19\n",
      "\n",
      "    accuracy                           0.86       346\n",
      "   macro avg       0.70      0.71      0.70       346\n",
      "weighted avg       0.86      0.86      0.86       346\n",
      "\n",
      "Execution time of program is:  1031.846 ms\n",
      "\n",
      " \n",
      " ======= For Stochastic Gradient Descent ============\n",
      "Accuracy Score : 0.7023121387283237 \n",
      "Confusion Matrix \n",
      "\n",
      "   [[ 25   0  14   0]\n",
      " [ 10   7  16   0]\n",
      " [ 25   0 195   0]\n",
      " [ 22   9   7  16]]\n",
      "\n",
      " Classification Report \n",
      " \n",
      "              precision    recall  f1-score   support\n",
      "\n",
      "         acc       0.30      0.64      0.41        39\n",
      "        good       0.44      0.21      0.29        33\n",
      "       unacc       0.84      0.89      0.86       220\n",
      "       vgood       1.00      0.30      0.46        54\n",
      "\n",
      "    accuracy                           0.70       346\n",
      "   macro avg       0.65      0.51      0.50       346\n",
      "weighted avg       0.77      0.70      0.69       346\n",
      "\n",
      "Execution time of program is:  38.782 ms\n",
      "\n",
      " \n",
      " ======= For KNN ============\n",
      "Accuracy Score : 0.8323699421965318 \n",
      "Confusion Matrix \n",
      "\n",
      "   [[ 61   9  14   7]\n",
      " [  2   6   1   5]\n",
      " [ 17   0 217   0]\n",
      " [  2   1   0   4]]\n",
      "\n",
      " Classification Report \n",
      " \n",
      "              precision    recall  f1-score   support\n",
      "\n",
      "         acc       0.74      0.67      0.71        91\n",
      "        good       0.38      0.43      0.40        14\n",
      "       unacc       0.94      0.93      0.93       234\n",
      "       vgood       0.25      0.57      0.35         7\n",
      "\n",
      "    accuracy                           0.83       346\n",
      "   macro avg       0.58      0.65      0.60       346\n",
      "weighted avg       0.85      0.83      0.84       346\n",
      "\n",
      "Execution time of program is:  6.559 ms\n"
     ]
    },
    {
     "name": "stderr",
     "output_type": "stream",
     "text": [
      "C:\\Users\\ArnabBiswas\\anaconda3\\Lib\\site-packages\\sklearn\\neural_network\\_multilayer_perceptron.py:691: ConvergenceWarning: Stochastic Optimizer: Maximum iterations (200) reached and the optimization hasn't converged yet.\n",
      "  warnings.warn(\n"
     ]
    }
   ],
   "source": [
    "models = {'Logistic Regression':LogisticRegression(), \n",
    "         'Support Vector Classifier':SVC(),\n",
    "          'Decision Tree':DecisionTreeClassifier(),\n",
    "         'Random Forest':RandomForestClassifier(),\n",
    "          'Neural Network':MLPClassifier(),\n",
    "         'Stochastic Gradient Descent':SGDClassifier(), \n",
    "          'KNN':KNeighborsClassifier()}\n",
    "\n",
    "for model, algorithm in models.items():\n",
    "    start_time = datetime.now() \n",
    "    pipe = Pipeline([('model', algorithm)])\n",
    "    pipe.fit(train_x ,train_y)\n",
    "    end_time = datetime.now() \n",
    "    prediction = pipe.predict(test_x)\n",
    "    print(\"\\n \\n ======= For {} ============\".format(model))\n",
    "    print('Accuracy Score : {} '.format(accuracy_score(prediction,test_y)))\n",
    "    print('Confusion Matrix \\n\\n  ',confusion_matrix(prediction,test_y))\n",
    "    print('\\n Classification Report \\n ')\n",
    "    print(classification_report(prediction,test_y))\n",
    "    time_difference = (end_time - start_time).total_seconds() * 10**3\n",
    "    print(\"Execution time of program is: \", time_difference, \"ms\")"
   ]
  },
  {
   "cell_type": "code",
   "execution_count": null,
   "id": "d4e32b96",
   "metadata": {},
   "outputs": [],
   "source": []
  }
 ],
 "metadata": {
  "kernelspec": {
   "display_name": "Python 3 (ipykernel)",
   "language": "python",
   "name": "python3"
  },
  "language_info": {
   "codemirror_mode": {
    "name": "ipython",
    "version": 3
   },
   "file_extension": ".py",
   "mimetype": "text/x-python",
   "name": "python",
   "nbconvert_exporter": "python",
   "pygments_lexer": "ipython3",
   "version": "3.11.5"
  }
 },
 "nbformat": 4,
 "nbformat_minor": 5
}
