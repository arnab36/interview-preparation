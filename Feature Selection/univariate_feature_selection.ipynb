{
 "cells": [
  {
   "cell_type": "code",
   "execution_count": 1,
   "id": "5887b981",
   "metadata": {},
   "outputs": [],
   "source": [
    "import pandas as pd\n",
    "import numpy as np\n",
    "\n",
    "from sklearn.feature_selection import SelectKBest\n",
    "from sklearn.feature_selection import chi2,f_classif,mutual_info_classif"
   ]
  },
  {
   "cell_type": "code",
   "execution_count": 2,
   "id": "f627ebea",
   "metadata": {},
   "outputs": [],
   "source": [
    "path = 'C:/Users/ArnabBiswas/Documents/Data/Kaggle Dataset/classification-data/'\n",
    "filename = 'WineQT.csv'"
   ]
  },
  {
   "cell_type": "code",
   "execution_count": 3,
   "id": "57676bce",
   "metadata": {},
   "outputs": [
    {
     "name": "stdout",
     "output_type": "stream",
     "text": [
      "   fixed acidity  volatile acidity  citric acid  residual sugar  chlorides  \\\n",
      "0            7.4              0.70         0.00             1.9      0.076   \n",
      "1            7.8              0.88         0.00             2.6      0.098   \n",
      "2            7.8              0.76         0.04             2.3      0.092   \n",
      "3           11.2              0.28         0.56             1.9      0.075   \n",
      "4            7.4              0.70         0.00             1.9      0.076   \n",
      "\n",
      "   free sulfur dioxide  total sulfur dioxide  density    pH  sulphates  \\\n",
      "0                 11.0                  34.0   0.9978  3.51       0.56   \n",
      "1                 25.0                  67.0   0.9968  3.20       0.68   \n",
      "2                 15.0                  54.0   0.9970  3.26       0.65   \n",
      "3                 17.0                  60.0   0.9980  3.16       0.58   \n",
      "4                 11.0                  34.0   0.9978  3.51       0.56   \n",
      "\n",
      "   alcohol  quality  Id  \n",
      "0      9.4        5   0  \n",
      "1      9.8        5   1  \n",
      "2      9.8        5   2  \n",
      "3      9.8        6   3  \n",
      "4      9.4        5   4  \n"
     ]
    }
   ],
   "source": [
    "df = pd.read_csv(path+filename)\n",
    "print(df.head())"
   ]
  },
  {
   "cell_type": "code",
   "execution_count": 4,
   "id": "e08da291",
   "metadata": {},
   "outputs": [],
   "source": [
    "df = df.drop('Id',axis=1)\n",
    "array = df.values"
   ]
  },
  {
   "cell_type": "code",
   "execution_count": 5,
   "id": "c6a2de08",
   "metadata": {},
   "outputs": [],
   "source": [
    "X = array[:,0:11]\n",
    "y = array[:,11]"
   ]
  },
  {
   "cell_type": "code",
   "execution_count": 6,
   "id": "c405667d",
   "metadata": {},
   "outputs": [],
   "source": [
    "# test = SelectKBest(score_func=chi2, k=4)\n",
    "test = SelectKBest(score_func=mutual_info_classif, k=4)\n",
    "fit = test.fit(X, y)"
   ]
  },
  {
   "cell_type": "code",
   "execution_count": 7,
   "id": "8c21150a",
   "metadata": {},
   "outputs": [
    {
     "name": "stdout",
     "output_type": "stream",
     "text": [
      "0.04972484185463255\n",
      "0.09630962453120517\n",
      "0.08181410730730487\n",
      "0.0\n",
      "0.026379596453580234\n",
      "0.0\n",
      "0.10259967782782065\n",
      "0.06511795741741411\n",
      "0.016832204869069223\n",
      "0.1283019972348154\n",
      "0.19927796205962944\n"
     ]
    }
   ],
   "source": [
    "features = fit.transform(X)\n",
    "\n",
    "np.set_printoptions(precision=1)\n",
    "a = fit.scores_\n",
    "for i in a:\n",
    "    print(i)\n"
   ]
  },
  {
   "cell_type": "code",
   "execution_count": null,
   "id": "b6918ded",
   "metadata": {},
   "outputs": [],
   "source": []
  }
 ],
 "metadata": {
  "kernelspec": {
   "display_name": "Python 3 (ipykernel)",
   "language": "python",
   "name": "python3"
  },
  "language_info": {
   "codemirror_mode": {
    "name": "ipython",
    "version": 3
   },
   "file_extension": ".py",
   "mimetype": "text/x-python",
   "name": "python",
   "nbconvert_exporter": "python",
   "pygments_lexer": "ipython3",
   "version": "3.11.5"
  }
 },
 "nbformat": 4,
 "nbformat_minor": 5
}
