{
 "cells": [
  {
   "cell_type": "code",
   "execution_count": 16,
   "id": "2f6e270d-4649-4475-b0b6-441923144d42",
   "metadata": {},
   "outputs": [],
   "source": [
    "from itertools import cycle\n",
    "from operator import add\n",
    "import time"
   ]
  },
  {
   "cell_type": "code",
   "execution_count": 2,
   "id": "e8f11bcd-1e53-477b-bffa-13aee6723e48",
   "metadata": {},
   "outputs": [],
   "source": [
    "n = zip(cycle(['even','odd']),range(0,50))"
   ]
  },
  {
   "cell_type": "code",
   "execution_count": 10,
   "id": "2a700d3d-32e8-4137-8526-02504eb6051d",
   "metadata": {},
   "outputs": [],
   "source": [
    "add_ten = lambda a : a + 10"
   ]
  },
  {
   "cell_type": "code",
   "execution_count": 11,
   "id": "671c272a-887f-45e5-b639-fb35c0abdcd1",
   "metadata": {},
   "outputs": [
    {
     "data": {
      "text/plain": [
       "20"
      ]
     },
     "execution_count": 11,
     "metadata": {},
     "output_type": "execute_result"
    }
   ],
   "source": [
    "add_ten(10)"
   ]
  },
  {
   "cell_type": "code",
   "execution_count": 14,
   "id": "24164f02-35de-420e-9842-5c9f5b093eda",
   "metadata": {},
   "outputs": [
    {
     "ename": "SyntaxError",
     "evalue": "invalid decimal literal (738548365.py, line 1)",
     "output_type": "error",
     "traceback": [
      "\u001b[1;36m  Cell \u001b[1;32mIn[14], line 1\u001b[1;36m\u001b[0m\n\u001b[1;33m    3.add(2)\u001b[0m\n\u001b[1;37m     ^\u001b[0m\n\u001b[1;31mSyntaxError\u001b[0m\u001b[1;31m:\u001b[0m invalid decimal literal\n"
     ]
    }
   ],
   "source": [
    "3.add(2)"
   ]
  },
  {
   "cell_type": "code",
   "execution_count": 15,
   "id": "cd32c5e0-751f-4464-8452-2bbf6b3dec9a",
   "metadata": {},
   "outputs": [
    {
     "data": {
      "text/plain": [
       "5"
      ]
     },
     "execution_count": 15,
     "metadata": {},
     "output_type": "execute_result"
    }
   ],
   "source": [
    "add(3,2)"
   ]
  },
  {
   "cell_type": "code",
   "execution_count": 24,
   "id": "faa67c78-6e0b-4359-89e4-585b167fb5e8",
   "metadata": {},
   "outputs": [
    {
     "name": "stdout",
     "output_type": "stream",
     "text": [
      "Total time = 0.803180456161499\n"
     ]
    }
   ],
   "source": [
    "t1 = time.time()\n",
    "for i in range(10000000):\n",
    "    x = 3+2\n",
    "t2 = time.time()\n",
    "print('Total time = {}'.format(t2-t1))"
   ]
  },
  {
   "cell_type": "code",
   "execution_count": 25,
   "id": "adb45ec9-9839-4091-9a5f-0e2d66d60f69",
   "metadata": {},
   "outputs": [
    {
     "name": "stdout",
     "output_type": "stream",
     "text": [
      "Total time = 1.4643912315368652\n"
     ]
    }
   ],
   "source": [
    "t1 = time.time()\n",
    "for i in range(10000000):\n",
    "    x = add(3,2)\n",
    "t2 = time.time()\n",
    "print('Total time = {}'.format(t2-t1))"
   ]
  },
  {
   "cell_type": "code",
   "execution_count": null,
   "id": "7cbf5406-4c70-44ce-978b-d97497455018",
   "metadata": {},
   "outputs": [],
   "source": []
  }
 ],
 "metadata": {
  "kernelspec": {
   "display_name": "Python 3 (ipykernel)",
   "language": "python",
   "name": "python3"
  },
  "language_info": {
   "codemirror_mode": {
    "name": "ipython",
    "version": 3
   },
   "file_extension": ".py",
   "mimetype": "text/x-python",
   "name": "python",
   "nbconvert_exporter": "python",
   "pygments_lexer": "ipython3",
   "version": "3.11.4"
  }
 },
 "nbformat": 4,
 "nbformat_minor": 5
}
