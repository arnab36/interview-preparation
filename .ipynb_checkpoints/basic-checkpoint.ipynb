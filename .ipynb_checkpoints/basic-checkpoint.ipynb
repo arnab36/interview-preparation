{
 "cells": [
  {
   "cell_type": "code",
   "execution_count": 1,
   "id": "2f6e270d-4649-4475-b0b6-441923144d42",
   "metadata": {},
   "outputs": [],
   "source": [
    "from itertools import cycle\n",
    "from operator import add\n",
    "import time\n",
    "import numpy as np"
   ]
  },
  {
   "cell_type": "code",
   "execution_count": 2,
   "id": "e8f11bcd-1e53-477b-bffa-13aee6723e48",
   "metadata": {},
   "outputs": [],
   "source": [
    "n = zip(cycle(['even','odd']),range(0,50))"
   ]
  },
  {
   "cell_type": "code",
   "execution_count": 10,
   "id": "2a700d3d-32e8-4137-8526-02504eb6051d",
   "metadata": {},
   "outputs": [],
   "source": [
    "add_ten = lambda a : a + 10"
   ]
  },
  {
   "cell_type": "code",
   "execution_count": 11,
   "id": "671c272a-887f-45e5-b639-fb35c0abdcd1",
   "metadata": {},
   "outputs": [
    {
     "data": {
      "text/plain": [
       "20"
      ]
     },
     "execution_count": 11,
     "metadata": {},
     "output_type": "execute_result"
    }
   ],
   "source": [
    "add_ten(10)"
   ]
  },
  {
   "cell_type": "code",
   "execution_count": 14,
   "id": "24164f02-35de-420e-9842-5c9f5b093eda",
   "metadata": {},
   "outputs": [
    {
     "ename": "SyntaxError",
     "evalue": "invalid decimal literal (738548365.py, line 1)",
     "output_type": "error",
     "traceback": [
      "\u001b[1;36m  Cell \u001b[1;32mIn[14], line 1\u001b[1;36m\u001b[0m\n\u001b[1;33m    3.add(2)\u001b[0m\n\u001b[1;37m     ^\u001b[0m\n\u001b[1;31mSyntaxError\u001b[0m\u001b[1;31m:\u001b[0m invalid decimal literal\n"
     ]
    }
   ],
   "source": [
    "3.add(2)"
   ]
  },
  {
   "cell_type": "code",
   "execution_count": 15,
   "id": "cd32c5e0-751f-4464-8452-2bbf6b3dec9a",
   "metadata": {},
   "outputs": [
    {
     "data": {
      "text/plain": [
       "5"
      ]
     },
     "execution_count": 15,
     "metadata": {},
     "output_type": "execute_result"
    }
   ],
   "source": [
    "add(3,2)"
   ]
  },
  {
   "cell_type": "code",
   "execution_count": 24,
   "id": "faa67c78-6e0b-4359-89e4-585b167fb5e8",
   "metadata": {},
   "outputs": [
    {
     "name": "stdout",
     "output_type": "stream",
     "text": [
      "Total time = 0.803180456161499\n"
     ]
    }
   ],
   "source": [
    "t1 = time.time()\n",
    "for i in range(10000000):\n",
    "    x = 3+2\n",
    "t2 = time.time()\n",
    "print('Total time = {}'.format(t2-t1))"
   ]
  },
  {
   "cell_type": "code",
   "execution_count": 25,
   "id": "adb45ec9-9839-4091-9a5f-0e2d66d60f69",
   "metadata": {},
   "outputs": [
    {
     "name": "stdout",
     "output_type": "stream",
     "text": [
      "Total time = 1.4643912315368652\n"
     ]
    }
   ],
   "source": [
    "t1 = time.time()\n",
    "for i in range(10000000):\n",
    "    x = add(3,2)\n",
    "t2 = time.time()\n",
    "print('Total time = {}'.format(t2-t1))"
   ]
  },
  {
   "cell_type": "code",
   "execution_count": 3,
   "id": "7cbf5406-4c70-44ce-978b-d97497455018",
   "metadata": {},
   "outputs": [
    {
     "name": "stdout",
     "output_type": "stream",
     "text": [
      "[0 1 2 3 4 5 6 7 8 9]\n",
      "[ 0  2  4  6  8 10 12 14 16 18]\n"
     ]
    }
   ],
   "source": [
    "# Numpy Arrays\n",
    "\n",
    "arr = np.arange(0,10)\n",
    "print(arr)\n",
    "arr1 = np.arange(0,20,2)\n",
    "print(arr1)"
   ]
  },
  {
   "cell_type": "code",
   "execution_count": 5,
   "id": "f07c869a",
   "metadata": {},
   "outputs": [
    {
     "name": "stdout",
     "output_type": "stream",
     "text": [
      "[[0. 0. 0.]\n",
      " [0. 0. 0.]]\n"
     ]
    }
   ],
   "source": [
    "arr2 = np.zeros((2,3))\n",
    "print(arr2)"
   ]
  },
  {
   "cell_type": "code",
   "execution_count": 6,
   "id": "ce4e58bc",
   "metadata": {},
   "outputs": [
    {
     "data": {
      "text/plain": [
       "array([[1., 1.],\n",
       "       [1., 1.],\n",
       "       [1., 1.],\n",
       "       [1., 1.],\n",
       "       [1., 1.]])"
      ]
     },
     "execution_count": 6,
     "metadata": {},
     "output_type": "execute_result"
    }
   ],
   "source": [
    "np.ones((5,2))"
   ]
  },
  {
   "cell_type": "code",
   "execution_count": 8,
   "id": "bb675d2c",
   "metadata": {},
   "outputs": [
    {
     "data": {
      "text/plain": [
       "array([0.        , 0.55555556, 1.11111111, 1.66666667, 2.22222222,\n",
       "       2.77777778, 3.33333333, 3.88888889, 4.44444444, 5.        ])"
      ]
     },
     "execution_count": 8,
     "metadata": {},
     "output_type": "execute_result"
    }
   ],
   "source": [
    "np.linspace(0,5,10)"
   ]
  },
  {
   "cell_type": "code",
   "execution_count": 9,
   "id": "f26ea8da",
   "metadata": {},
   "outputs": [
    {
     "data": {
      "text/plain": [
       "array([[1., 0., 0., 0.],\n",
       "       [0., 1., 0., 0.],\n",
       "       [0., 0., 1., 0.],\n",
       "       [0., 0., 0., 1.]])"
      ]
     },
     "execution_count": 9,
     "metadata": {},
     "output_type": "execute_result"
    }
   ],
   "source": [
    "# Identity Matrix\n",
    "np.eye(4)"
   ]
  },
  {
   "cell_type": "code",
   "execution_count": 10,
   "id": "43070482",
   "metadata": {},
   "outputs": [
    {
     "data": {
      "text/plain": [
       "array([0.21966719, 0.82289279, 0.42223502, 0.70183321, 0.60554946])"
      ]
     },
     "execution_count": 10,
     "metadata": {},
     "output_type": "execute_result"
    }
   ],
   "source": [
    "# Random sample from an unifrom distribution\n",
    "np.random.rand(5)"
   ]
  },
  {
   "cell_type": "code",
   "execution_count": 11,
   "id": "aff30d49",
   "metadata": {},
   "outputs": [
    {
     "data": {
      "text/plain": [
       "array([[0.89104106, 0.42969406, 0.65148115, 0.19082011],\n",
       "       [0.99752675, 0.0980174 , 0.72739999, 0.99446052],\n",
       "       [0.82450967, 0.99537323, 0.36652631, 0.99802963]])"
      ]
     },
     "execution_count": 11,
     "metadata": {},
     "output_type": "execute_result"
    }
   ],
   "source": [
    "np.random.rand(3,4)"
   ]
  },
  {
   "cell_type": "code",
   "execution_count": 12,
   "id": "2554f82f",
   "metadata": {},
   "outputs": [
    {
     "data": {
      "text/plain": [
       "array([-0.20870277,  0.79199054,  0.57706474,  1.96006763, -0.12790931])"
      ]
     },
     "execution_count": 12,
     "metadata": {},
     "output_type": "execute_result"
    }
   ],
   "source": [
    "# Random sample from an normal distribution\n",
    "np.random.randn(5)"
   ]
  },
  {
   "cell_type": "code",
   "execution_count": 13,
   "id": "75c07825",
   "metadata": {},
   "outputs": [
    {
     "data": {
      "text/plain": [
       "array([[ 0.45255615, -2.3167314 , -0.99123931,  0.15461419],\n",
       "       [ 0.11919852, -0.31501486,  0.70964485, -1.16407117],\n",
       "       [ 0.62298101, -1.01849073, -0.76817999,  0.38562376]])"
      ]
     },
     "execution_count": 13,
     "metadata": {},
     "output_type": "execute_result"
    }
   ],
   "source": [
    "np.random.randn(3,4)"
   ]
  },
  {
   "cell_type": "code",
   "execution_count": 14,
   "id": "9feac309",
   "metadata": {},
   "outputs": [
    {
     "data": {
      "text/plain": [
       "77"
      ]
     },
     "execution_count": 14,
     "metadata": {},
     "output_type": "execute_result"
    }
   ],
   "source": [
    "np.random.randint(1,100)"
   ]
  },
  {
   "cell_type": "code",
   "execution_count": 15,
   "id": "693677ce",
   "metadata": {},
   "outputs": [
    {
     "data": {
      "text/plain": [
       "array([ 2, 41, 19, 71, 92, 63,  7,  5, 64, 52])"
      ]
     },
     "execution_count": 15,
     "metadata": {},
     "output_type": "execute_result"
    }
   ],
   "source": [
    "np.random.randint(1,100,10)"
   ]
  },
  {
   "cell_type": "code",
   "execution_count": 18,
   "id": "83b38e5c",
   "metadata": {},
   "outputs": [
    {
     "name": "stdout",
     "output_type": "stream",
     "text": [
      "[ 0  1  2  3  4  5  6  7  8  9 10]\n"
     ]
    }
   ],
   "source": [
    "# Numpy Operations\n",
    "\n",
    "arr = np.arange(0,11)\n",
    "print(arr)"
   ]
  },
  {
   "cell_type": "code",
   "execution_count": 17,
   "id": "18d745f7",
   "metadata": {},
   "outputs": [
    {
     "data": {
      "text/plain": [
       "array([ 0,  2,  4,  6,  8, 10, 12, 14, 16, 18, 20])"
      ]
     },
     "execution_count": 17,
     "metadata": {},
     "output_type": "execute_result"
    }
   ],
   "source": [
    "arr + arr"
   ]
  },
  {
   "cell_type": "code",
   "execution_count": 19,
   "id": "0164de2b",
   "metadata": {},
   "outputs": [
    {
     "data": {
      "text/plain": [
       "array([0, 0, 0, 0, 0, 0, 0, 0, 0, 0, 0])"
      ]
     },
     "execution_count": 19,
     "metadata": {},
     "output_type": "execute_result"
    }
   ],
   "source": [
    "arr - arr"
   ]
  },
  {
   "cell_type": "code",
   "execution_count": 20,
   "id": "ce47b955",
   "metadata": {},
   "outputs": [
    {
     "data": {
      "text/plain": [
       "array([  0,   1,   4,   9,  16,  25,  36,  49,  64,  81, 100])"
      ]
     },
     "execution_count": 20,
     "metadata": {},
     "output_type": "execute_result"
    }
   ],
   "source": [
    "arr * arr"
   ]
  },
  {
   "cell_type": "code",
   "execution_count": 21,
   "id": "fe98f971",
   "metadata": {},
   "outputs": [
    {
     "name": "stderr",
     "output_type": "stream",
     "text": [
      "C:\\Users\\ArnabBiswas\\AppData\\Local\\Temp\\ipykernel_9940\\3001117470.py:1: RuntimeWarning: invalid value encountered in divide\n",
      "  arr / arr\n"
     ]
    },
    {
     "data": {
      "text/plain": [
       "array([nan,  1.,  1.,  1.,  1.,  1.,  1.,  1.,  1.,  1.,  1.])"
      ]
     },
     "execution_count": 21,
     "metadata": {},
     "output_type": "execute_result"
    }
   ],
   "source": [
    "# 0/0 raises error/warning\n",
    "arr / arr"
   ]
  },
  {
   "cell_type": "code",
   "execution_count": 22,
   "id": "6d2eb772",
   "metadata": {},
   "outputs": [
    {
     "data": {
      "text/plain": [
       "array([10, 11, 12, 13, 14, 15, 16, 17, 18, 19, 20])"
      ]
     },
     "execution_count": 22,
     "metadata": {},
     "output_type": "execute_result"
    }
   ],
   "source": [
    "arr + 10"
   ]
  },
  {
   "cell_type": "code",
   "execution_count": 23,
   "id": "ba738ab6",
   "metadata": {},
   "outputs": [
    {
     "data": {
      "text/plain": [
       "array([-5, -4, -3, -2, -1,  0,  1,  2,  3,  4,  5])"
      ]
     },
     "execution_count": 23,
     "metadata": {},
     "output_type": "execute_result"
    }
   ],
   "source": [
    "arr- 5"
   ]
  },
  {
   "cell_type": "code",
   "execution_count": 26,
   "id": "3c64a555",
   "metadata": {},
   "outputs": [
    {
     "data": {
      "text/plain": [
       "array([0.        , 1.        , 1.41421356, 1.73205081, 2.        ,\n",
       "       2.23606798, 2.44948974, 2.64575131, 2.82842712, 3.        ,\n",
       "       3.16227766])"
      ]
     },
     "execution_count": 26,
     "metadata": {},
     "output_type": "execute_result"
    }
   ],
   "source": [
    "np.sqrt(arr)"
   ]
  },
  {
   "cell_type": "code",
   "execution_count": 27,
   "id": "26071716",
   "metadata": {},
   "outputs": [
    {
     "data": {
      "text/plain": [
       "array([1.00000000e+00, 2.71828183e+00, 7.38905610e+00, 2.00855369e+01,\n",
       "       5.45981500e+01, 1.48413159e+02, 4.03428793e+02, 1.09663316e+03,\n",
       "       2.98095799e+03, 8.10308393e+03, 2.20264658e+04])"
      ]
     },
     "execution_count": 27,
     "metadata": {},
     "output_type": "execute_result"
    }
   ],
   "source": [
    "np.exp(arr)"
   ]
  },
  {
   "cell_type": "code",
   "execution_count": 28,
   "id": "bead227a",
   "metadata": {},
   "outputs": [],
   "source": [
    "import math"
   ]
  },
  {
   "cell_type": "code",
   "execution_count": 34,
   "id": "f7206406",
   "metadata": {},
   "outputs": [
    {
     "data": {
      "text/plain": [
       "20.085536923187664"
      ]
     },
     "execution_count": 34,
     "metadata": {},
     "output_type": "execute_result"
    }
   ],
   "source": [
    "math.e**3"
   ]
  },
  {
   "cell_type": "code",
   "execution_count": 32,
   "id": "263ce74e",
   "metadata": {},
   "outputs": [
    {
     "data": {
      "text/plain": [
       "7.3890561"
      ]
     },
     "execution_count": 32,
     "metadata": {},
     "output_type": "execute_result"
    }
   ],
   "source": [
    "7.38905610e+00"
   ]
  },
  {
   "cell_type": "code",
   "execution_count": 33,
   "id": "e3d548e8",
   "metadata": {},
   "outputs": [
    {
     "data": {
      "text/plain": [
       "20.0855369"
      ]
     },
     "execution_count": 33,
     "metadata": {},
     "output_type": "execute_result"
    }
   ],
   "source": [
    "2.00855369e+01"
   ]
  },
  {
   "cell_type": "code",
   "execution_count": 35,
   "id": "99670ca7",
   "metadata": {},
   "outputs": [
    {
     "data": {
      "text/plain": [
       "22026.4658"
      ]
     },
     "execution_count": 35,
     "metadata": {},
     "output_type": "execute_result"
    }
   ],
   "source": [
    "2.20264658e+04"
   ]
  },
  {
   "cell_type": "code",
   "execution_count": 36,
   "id": "cc399bce",
   "metadata": {},
   "outputs": [
    {
     "data": {
      "text/plain": [
       "10"
      ]
     },
     "execution_count": 36,
     "metadata": {},
     "output_type": "execute_result"
    }
   ],
   "source": [
    "np.max(arr)"
   ]
  },
  {
   "cell_type": "code",
   "execution_count": 37,
   "id": "e4f29b00",
   "metadata": {},
   "outputs": [
    {
     "data": {
      "text/plain": [
       "0"
      ]
     },
     "execution_count": 37,
     "metadata": {},
     "output_type": "execute_result"
    }
   ],
   "source": [
    "np.min(arr)"
   ]
  },
  {
   "cell_type": "code",
   "execution_count": 39,
   "id": "e3a52a33",
   "metadata": {},
   "outputs": [
    {
     "data": {
      "text/plain": [
       "array([ 0.        ,  0.84147098,  0.90929743,  0.14112001, -0.7568025 ,\n",
       "       -0.95892427, -0.2794155 ,  0.6569866 ,  0.98935825,  0.41211849,\n",
       "       -0.54402111])"
      ]
     },
     "execution_count": 39,
     "metadata": {},
     "output_type": "execute_result"
    }
   ],
   "source": [
    "np.sin(arr)"
   ]
  },
  {
   "cell_type": "code",
   "execution_count": 40,
   "id": "a4daa1fd",
   "metadata": {},
   "outputs": [
    {
     "name": "stderr",
     "output_type": "stream",
     "text": [
      "C:\\Users\\ArnabBiswas\\AppData\\Local\\Temp\\ipykernel_9940\\3120950136.py:1: RuntimeWarning: divide by zero encountered in log\n",
      "  np.log(arr)\n"
     ]
    },
    {
     "data": {
      "text/plain": [
       "array([      -inf, 0.        , 0.69314718, 1.09861229, 1.38629436,\n",
       "       1.60943791, 1.79175947, 1.94591015, 2.07944154, 2.19722458,\n",
       "       2.30258509])"
      ]
     },
     "execution_count": 40,
     "metadata": {},
     "output_type": "execute_result"
    }
   ],
   "source": [
    "np.log(arr)"
   ]
  },
  {
   "cell_type": "code",
   "execution_count": 41,
   "id": "28bd7a44",
   "metadata": {},
   "outputs": [],
   "source": [
    "# Visiti numpy page for detailed functions"
   ]
  },
  {
   "cell_type": "code",
   "execution_count": 1,
   "id": "d6bad9c8",
   "metadata": {},
   "outputs": [
    {
     "name": "stdout",
     "output_type": "stream",
     "text": [
      "0\n",
      "1\n",
      "2\n",
      "3\n"
     ]
    }
   ],
   "source": [
    "for i in range(0,4):\n",
    "    print(i)"
   ]
  },
  {
   "cell_type": "code",
   "execution_count": 11,
   "id": "701ca090",
   "metadata": {},
   "outputs": [
    {
     "name": "stdout",
     "output_type": "stream",
     "text": [
      "6\n",
      "1 2 3 4 5 6\n"
     ]
    }
   ],
   "source": [
    "n = int(input())\n",
    "arr = map(int, input().split())"
   ]
  },
  {
   "cell_type": "code",
   "execution_count": 13,
   "id": "bec3f030",
   "metadata": {},
   "outputs": [
    {
     "name": "stdout",
     "output_type": "stream",
     "text": [
      "-100\n"
     ]
    }
   ],
   "source": [
    "m = -99\n",
    "sm = -100\n",
    "for i in arr:\n",
    "    if i > m:\n",
    "        if m > sm:\n",
    "            sm = m\n",
    "        m = i\n",
    "    elif i == m:\n",
    "        continue\n",
    "    elif i > sm:\n",
    "        sm = i\n",
    "\n",
    "print(sm)"
   ]
  },
  {
   "cell_type": "code",
   "execution_count": 14,
   "id": "216eda9f",
   "metadata": {},
   "outputs": [
    {
     "name": "stdout",
     "output_type": "stream",
     "text": [
      "['Arnab', 'Ayan', 'Biswas', 'Laltu', 'Subhadip']\n"
     ]
    }
   ],
   "source": [
    "\n",
    "def sort_words_alphabetically(words):\n",
    "    n = len(words)\n",
    "    for i in range(1, n):\n",
    "        key = words[i]\n",
    "        j = i - 1\n",
    "        while j >= 0 and words[j] > key:\n",
    "            words[j+1] = words[j]\n",
    "            j -= 1\n",
    "        words[j+1] = key\n",
    "    return words\n",
    "\n",
    "words = ['Arnab', 'Biswas', 'Ayan', 'Subhadip','Laltu']\n",
    "arr =  sort_words_alphabetically(words)\n",
    "print(arr)"
   ]
  },
  {
   "cell_type": "code",
   "execution_count": 1,
   "id": "6b52f3b6",
   "metadata": {},
   "outputs": [],
   "source": [
    "import pandas as pd"
   ]
  },
  {
   "cell_type": "code",
   "execution_count": 7,
   "id": "7d833422",
   "metadata": {},
   "outputs": [
    {
     "name": "stderr",
     "output_type": "stream",
     "text": [
      "C:\\Users\\ArnabBiswas\\AppData\\Local\\Temp\\ipykernel_1276\\1369368215.py:1: DtypeWarning: Columns (9,10) have mixed types. Specify dtype option on import or set low_memory=False.\n",
      "  df = pd.read_csv('test_data3.csv')\n"
     ]
    }
   ],
   "source": [
    "df = pd.read_csv('test_data3.csv')"
   ]
  },
  {
   "cell_type": "code",
   "execution_count": 8,
   "id": "62289d76",
   "metadata": {},
   "outputs": [
    {
     "data": {
      "text/plain": [
       "['REF_ORDERABLE',\n",
       " 'MATERIALID',\n",
       " 'DESCRIPTION',\n",
       " 'SHORTNAME',\n",
       " 'AVAILABILITYSTATUS',\n",
       " 'GADATE',\n",
       " 'SOURCESYSTEMNAME',\n",
       " 'LASTUPDATED',\n",
       " 'UNITQTY',\n",
       " 'SPLITPCT',\n",
       " 'PRODUCTOBSOLETEFLAG',\n",
       " 'PRODUCTDIVESTEDFLAG',\n",
       " 'IDINSOURCESYSTEM',\n",
       " 'SWSUBDESCRIPTION',\n",
       " 'OSCODE',\n",
       " 'ACTION']"
      ]
     },
     "execution_count": 8,
     "metadata": {},
     "output_type": "execute_result"
    }
   ],
   "source": [
    "list(df)"
   ]
  },
  {
   "cell_type": "code",
   "execution_count": 9,
   "id": "cec7e89f",
   "metadata": {},
   "outputs": [
    {
     "data": {
      "text/plain": [
       "180479"
      ]
     },
     "execution_count": 9,
     "metadata": {},
     "output_type": "execute_result"
    }
   ],
   "source": [
    "len(df)"
   ]
  },
  {
   "cell_type": "code",
   "execution_count": 14,
   "id": "ca4dedc3",
   "metadata": {},
   "outputs": [
    {
     "data": {
      "text/plain": [
       "179788"
      ]
     },
     "execution_count": 14,
     "metadata": {},
     "output_type": "execute_result"
    }
   ],
   "source": [
    "len(df['IDINSOURCESYSTEM'].unique())"
   ]
  },
  {
   "cell_type": "code",
   "execution_count": 16,
   "id": "06361fb6",
   "metadata": {},
   "outputs": [
    {
     "data": {
      "text/plain": [
       "True"
      ]
     },
     "execution_count": 16,
     "metadata": {},
     "output_type": "execute_result"
    }
   ],
   "source": [
    "df.isnull().values.any()"
   ]
  },
  {
   "cell_type": "code",
   "execution_count": 19,
   "id": "4f13777b",
   "metadata": {},
   "outputs": [
    {
     "name": "stdout",
     "output_type": "stream",
     "text": [
      "                    REF_ORDERABLE                      MATERIALID  \\\n",
      "13724      WW0058_D0074ZX                         A006LZX           \n",
      "29066      EMP006_D189ALL                         AWUQ8LL           \n",
      "29067             MONTHLY LICENSE  EMPSALYAAOVS   MONTHLY LICENSE   \n",
      "29068      EMP006_D189ALL                         AWUQ9LL           \n",
      "29069         MONTHLY LIC SUPPORT       EMPSALYAAOVS   ML SUPPORT   \n",
      "...                           ...                             ...   \n",
      "166517     EMP007_D1890LL                         AWUS5LL           \n",
      "166518   MONTHLY LIC SUBSCRIPTION    ECMBSAAOVS   ML SUBSCRIPTION   \n",
      "168021     WW0036_D003SZX                         A003BZX           \n",
      "173286     TRUP01_D1NT8LL                         AXYH0LL           \n",
      "176649     WW0036_D003UZX                         A003DZX           \n",
      "\n",
      "                                              DESCRIPTION  \\\n",
      "13724   IBM Digital Experience Managed Hosted for Fede...   \n",
      "29066                                                 NaN   \n",
      "29067                                                  Z8   \n",
      "29068                                                 NaN   \n",
      "29069                                                  Z8   \n",
      "...                                                   ...   \n",
      "166517                                                NaN   \n",
      "166518                                                 Z8   \n",
      "168021  IBM QRadar on Cloud Custom Parser Service Enga...   \n",
      "173286  TRU PINPOINT DETECT STANDARD REDEP ENGAGNT SET UP   \n",
      "176649  IBM QRadar on Cloud Optimization Service Engag...   \n",
      "\n",
      "                         SHORTNAME AVAILABILITYSTATUS  \\\n",
      "13724           IDEMHfFI PER MONTH                 Z9   \n",
      "29066                          NaN                NaN   \n",
      "29067   2014-11-14-00.00.00.000000               SDPI   \n",
      "29068                          NaN                NaN   \n",
      "29069   2014-11-14-00.00.00.000000               SDPI   \n",
      "...                            ...                ...   \n",
      "166517                         NaN                NaN   \n",
      "166518  2014-11-14-00.00.00.000000               SDPI   \n",
      "168021             IQoCCPSE SET UP                 Z9   \n",
      "173286                TRU 4 SET UP                 Z9   \n",
      "176649           IQoCOSE PER ANNUM                 Z9   \n",
      "\n",
      "                            GADATE SOURCESYSTEMNAME  \\\n",
      "13724   2017-11-07-00.00.00.000000             SDPI   \n",
      "29066                          NaN              NaN   \n",
      "29067   2016-08-24-21.05.53.223837              1.0   \n",
      "29068                          NaN              NaN   \n",
      "29069   2016-08-24-21.05.53.224439              1.0   \n",
      "...                            ...              ...   \n",
      "166517                         NaN              NaN   \n",
      "166518  2016-08-24-21.05.53.232390              1.0   \n",
      "168021  2017-07-11-00.00.00.000000             SDPI   \n",
      "173286  2016-06-28-00.00.00.000000             SDPI   \n",
      "176649  2017-07-11-00.00.00.000000             SDPI   \n",
      "\n",
      "                       LASTUPDATED  UNITQTY SPLITPCT     PRODUCTOBSOLETEFLAG  \\\n",
      "13724   2018-11-07-21.05.08.642735      1.0    100.0                       0   \n",
      "29066                          NaN      NaN      NaN                     NaN   \n",
      "29067                        100.0      1.0        N  EMP006_D189ALL_AWUQ8LL   \n",
      "29068                          NaN      NaN      NaN                     NaN   \n",
      "29069                          0.0      1.0        N  EMP006_D189ALL_AWUQ9LL   \n",
      "...                            ...      ...      ...                     ...   \n",
      "166517                         NaN      NaN      NaN                     NaN   \n",
      "166518                         0.0      1.0        N  EMP007_D1890LL_AWUS5LL   \n",
      "168021  2017-07-26-21.05.32.767733      1.0    100.0                       0   \n",
      "173286  2021-05-24-00.00.00.000000      1.0    100.0                       0   \n",
      "176649  2017-07-26-21.05.32.768751      1.0    100.0                       0   \n",
      "\n",
      "                       PRODUCTDIVESTEDFLAG        IDINSOURCESYSTEM  \\\n",
      "13724                                    N  WW0058_D0074ZX_A006LZX   \n",
      "29066                                  NaN                     NaN   \n",
      "29067       Emptoris Spend Analysis Adv VS                ALL        \n",
      "29068                                  NaN                     NaN   \n",
      "29069       Emptoris Spend Analysis Adv VS                ALL        \n",
      "...                                    ...                     ...   \n",
      "166517                                 NaN                     NaN   \n",
      "166518  Emptoris Cont Mgmt Buy Side Adv VS                ALL        \n",
      "168021                                   N  WW0036_D003SZX_A003BZX   \n",
      "173286                                   N  TRUP01_D1NT8LL_AXYH0LL   \n",
      "176649                                   N  WW0036_D003UZX_A003DZX   \n",
      "\n",
      "                                         SWSUBDESCRIPTION    OSCODE ACTION  \n",
      "13724   IBM Digital Experience Managed Hosted for Fede...       NaN      I  \n",
      "29066                                                 NaN       NaN    NaN  \n",
      "29067                                                   I       NaN    NaN  \n",
      "29068                                                 NaN       NaN    NaN  \n",
      "29069                                                   I       NaN    NaN  \n",
      "...                                                   ...       ...    ...  \n",
      "166517                                                NaN       NaN    NaN  \n",
      "166518                                                  I       NaN    NaN  \n",
      "168021  IBM QRadar on Cloud Custom Parser Service Enga...       NaN      I  \n",
      "173286                                                NaN  N/AP          I  \n",
      "176649  IBM QRadar on Cloud Optimization Service Engag...       NaN      I  \n",
      "\n",
      "[62 rows x 16 columns]\n"
     ]
    }
   ],
   "source": [
    "null_mask = df.isnull().any(axis=1)\n",
    "null_rows = df[null_mask]\n",
    "\n",
    "print(null_rows)"
   ]
  },
  {
   "cell_type": "code",
   "execution_count": 33,
   "id": "8283f397",
   "metadata": {},
   "outputs": [
    {
     "data": {
      "text/plain": [
       "0         False\n",
       "1         False\n",
       "2         False\n",
       "3         False\n",
       "4         False\n",
       "          ...  \n",
       "180474    False\n",
       "180475    False\n",
       "180476    False\n",
       "180477    False\n",
       "180478    False\n",
       "Name: ACTION, Length: 180479, dtype: bool"
      ]
     },
     "execution_count": 33,
     "metadata": {},
     "output_type": "execute_result"
    }
   ],
   "source": [
    "df['ACTION'].isnull()"
   ]
  },
  {
   "cell_type": "code",
   "execution_count": 34,
   "id": "364535ec",
   "metadata": {},
   "outputs": [
    {
     "data": {
      "text/html": [
       "<div>\n",
       "<style scoped>\n",
       "    .dataframe tbody tr th:only-of-type {\n",
       "        vertical-align: middle;\n",
       "    }\n",
       "\n",
       "    .dataframe tbody tr th {\n",
       "        vertical-align: top;\n",
       "    }\n",
       "\n",
       "    .dataframe thead th {\n",
       "        text-align: right;\n",
       "    }\n",
       "</style>\n",
       "<table border=\"1\" class=\"dataframe\">\n",
       "  <thead>\n",
       "    <tr style=\"text-align: right;\">\n",
       "      <th></th>\n",
       "      <th>REF_ORDERABLE</th>\n",
       "      <th>MATERIALID</th>\n",
       "      <th>DESCRIPTION</th>\n",
       "      <th>SHORTNAME</th>\n",
       "      <th>AVAILABILITYSTATUS</th>\n",
       "      <th>GADATE</th>\n",
       "      <th>SOURCESYSTEMNAME</th>\n",
       "      <th>LASTUPDATED</th>\n",
       "      <th>UNITQTY</th>\n",
       "      <th>SPLITPCT</th>\n",
       "      <th>PRODUCTOBSOLETEFLAG</th>\n",
       "      <th>PRODUCTDIVESTEDFLAG</th>\n",
       "      <th>IDINSOURCESYSTEM</th>\n",
       "      <th>SWSUBDESCRIPTION</th>\n",
       "      <th>OSCODE</th>\n",
       "      <th>ACTION</th>\n",
       "    </tr>\n",
       "  </thead>\n",
       "  <tbody>\n",
       "    <tr>\n",
       "      <th>13724</th>\n",
       "      <td>WW0058_D0074ZX</td>\n",
       "      <td>A006LZX</td>\n",
       "      <td>IBM Digital Experience Managed Hosted for Fede...</td>\n",
       "      <td>IDEMHfFI PER MONTH</td>\n",
       "      <td>Z9</td>\n",
       "      <td>2017-11-07-00.00.00.000000</td>\n",
       "      <td>SDPI</td>\n",
       "      <td>2018-11-07-21.05.08.642735</td>\n",
       "      <td>1.0</td>\n",
       "      <td>100.0</td>\n",
       "      <td>0</td>\n",
       "      <td>N</td>\n",
       "      <td>WW0058_D0074ZX_A006LZX</td>\n",
       "      <td>IBM Digital Experience Managed Hosted for Fede...</td>\n",
       "      <td>NaN</td>\n",
       "      <td>I</td>\n",
       "    </tr>\n",
       "    <tr>\n",
       "      <th>29066</th>\n",
       "      <td>EMP006_D189ALL</td>\n",
       "      <td>AWUQ8LL</td>\n",
       "      <td>NaN</td>\n",
       "      <td>NaN</td>\n",
       "      <td>NaN</td>\n",
       "      <td>NaN</td>\n",
       "      <td>NaN</td>\n",
       "      <td>NaN</td>\n",
       "      <td>NaN</td>\n",
       "      <td>NaN</td>\n",
       "      <td>NaN</td>\n",
       "      <td>NaN</td>\n",
       "      <td>NaN</td>\n",
       "      <td>NaN</td>\n",
       "      <td>NaN</td>\n",
       "      <td>NaN</td>\n",
       "    </tr>\n",
       "    <tr>\n",
       "      <th>29067</th>\n",
       "      <td>MONTHLY LICENSE</td>\n",
       "      <td>EMPSALYAAOVS   MONTHLY LICENSE</td>\n",
       "      <td>Z8</td>\n",
       "      <td>2014-11-14-00.00.00.000000</td>\n",
       "      <td>SDPI</td>\n",
       "      <td>2016-08-24-21.05.53.223837</td>\n",
       "      <td>1.0</td>\n",
       "      <td>100.0</td>\n",
       "      <td>1.0</td>\n",
       "      <td>N</td>\n",
       "      <td>EMP006_D189ALL_AWUQ8LL</td>\n",
       "      <td>Emptoris Spend Analysis Adv VS</td>\n",
       "      <td>ALL</td>\n",
       "      <td>I</td>\n",
       "      <td>NaN</td>\n",
       "      <td>NaN</td>\n",
       "    </tr>\n",
       "    <tr>\n",
       "      <th>29068</th>\n",
       "      <td>EMP006_D189ALL</td>\n",
       "      <td>AWUQ9LL</td>\n",
       "      <td>NaN</td>\n",
       "      <td>NaN</td>\n",
       "      <td>NaN</td>\n",
       "      <td>NaN</td>\n",
       "      <td>NaN</td>\n",
       "      <td>NaN</td>\n",
       "      <td>NaN</td>\n",
       "      <td>NaN</td>\n",
       "      <td>NaN</td>\n",
       "      <td>NaN</td>\n",
       "      <td>NaN</td>\n",
       "      <td>NaN</td>\n",
       "      <td>NaN</td>\n",
       "      <td>NaN</td>\n",
       "    </tr>\n",
       "    <tr>\n",
       "      <th>29069</th>\n",
       "      <td>MONTHLY LIC SUPPORT</td>\n",
       "      <td>EMPSALYAAOVS   ML SUPPORT</td>\n",
       "      <td>Z8</td>\n",
       "      <td>2014-11-14-00.00.00.000000</td>\n",
       "      <td>SDPI</td>\n",
       "      <td>2016-08-24-21.05.53.224439</td>\n",
       "      <td>1.0</td>\n",
       "      <td>0.0</td>\n",
       "      <td>1.0</td>\n",
       "      <td>N</td>\n",
       "      <td>EMP006_D189ALL_AWUQ9LL</td>\n",
       "      <td>Emptoris Spend Analysis Adv VS</td>\n",
       "      <td>ALL</td>\n",
       "      <td>I</td>\n",
       "      <td>NaN</td>\n",
       "      <td>NaN</td>\n",
       "    </tr>\n",
       "    <tr>\n",
       "      <th>...</th>\n",
       "      <td>...</td>\n",
       "      <td>...</td>\n",
       "      <td>...</td>\n",
       "      <td>...</td>\n",
       "      <td>...</td>\n",
       "      <td>...</td>\n",
       "      <td>...</td>\n",
       "      <td>...</td>\n",
       "      <td>...</td>\n",
       "      <td>...</td>\n",
       "      <td>...</td>\n",
       "      <td>...</td>\n",
       "      <td>...</td>\n",
       "      <td>...</td>\n",
       "      <td>...</td>\n",
       "      <td>...</td>\n",
       "    </tr>\n",
       "    <tr>\n",
       "      <th>166517</th>\n",
       "      <td>EMP007_D1890LL</td>\n",
       "      <td>AWUS5LL</td>\n",
       "      <td>NaN</td>\n",
       "      <td>NaN</td>\n",
       "      <td>NaN</td>\n",
       "      <td>NaN</td>\n",
       "      <td>NaN</td>\n",
       "      <td>NaN</td>\n",
       "      <td>NaN</td>\n",
       "      <td>NaN</td>\n",
       "      <td>NaN</td>\n",
       "      <td>NaN</td>\n",
       "      <td>NaN</td>\n",
       "      <td>NaN</td>\n",
       "      <td>NaN</td>\n",
       "      <td>NaN</td>\n",
       "    </tr>\n",
       "    <tr>\n",
       "      <th>166518</th>\n",
       "      <td>MONTHLY LIC SUBSCRIPTION</td>\n",
       "      <td>ECMBSAAOVS   ML SUBSCRIPTION</td>\n",
       "      <td>Z8</td>\n",
       "      <td>2014-11-14-00.00.00.000000</td>\n",
       "      <td>SDPI</td>\n",
       "      <td>2016-08-24-21.05.53.232390</td>\n",
       "      <td>1.0</td>\n",
       "      <td>0.0</td>\n",
       "      <td>1.0</td>\n",
       "      <td>N</td>\n",
       "      <td>EMP007_D1890LL_AWUS5LL</td>\n",
       "      <td>Emptoris Cont Mgmt Buy Side Adv VS</td>\n",
       "      <td>ALL</td>\n",
       "      <td>I</td>\n",
       "      <td>NaN</td>\n",
       "      <td>NaN</td>\n",
       "    </tr>\n",
       "    <tr>\n",
       "      <th>168021</th>\n",
       "      <td>WW0036_D003SZX</td>\n",
       "      <td>A003BZX</td>\n",
       "      <td>IBM QRadar on Cloud Custom Parser Service Enga...</td>\n",
       "      <td>IQoCCPSE SET UP</td>\n",
       "      <td>Z9</td>\n",
       "      <td>2017-07-11-00.00.00.000000</td>\n",
       "      <td>SDPI</td>\n",
       "      <td>2017-07-26-21.05.32.767733</td>\n",
       "      <td>1.0</td>\n",
       "      <td>100.0</td>\n",
       "      <td>0</td>\n",
       "      <td>N</td>\n",
       "      <td>WW0036_D003SZX_A003BZX</td>\n",
       "      <td>IBM QRadar on Cloud Custom Parser Service Enga...</td>\n",
       "      <td>NaN</td>\n",
       "      <td>I</td>\n",
       "    </tr>\n",
       "    <tr>\n",
       "      <th>173286</th>\n",
       "      <td>TRUP01_D1NT8LL</td>\n",
       "      <td>AXYH0LL</td>\n",
       "      <td>TRU PINPOINT DETECT STANDARD REDEP ENGAGNT SET UP</td>\n",
       "      <td>TRU 4 SET UP</td>\n",
       "      <td>Z9</td>\n",
       "      <td>2016-06-28-00.00.00.000000</td>\n",
       "      <td>SDPI</td>\n",
       "      <td>2021-05-24-00.00.00.000000</td>\n",
       "      <td>1.0</td>\n",
       "      <td>100.0</td>\n",
       "      <td>0</td>\n",
       "      <td>N</td>\n",
       "      <td>TRUP01_D1NT8LL_AXYH0LL</td>\n",
       "      <td>NaN</td>\n",
       "      <td>N/AP</td>\n",
       "      <td>I</td>\n",
       "    </tr>\n",
       "    <tr>\n",
       "      <th>176649</th>\n",
       "      <td>WW0036_D003UZX</td>\n",
       "      <td>A003DZX</td>\n",
       "      <td>IBM QRadar on Cloud Optimization Service Engag...</td>\n",
       "      <td>IQoCOSE PER ANNUM</td>\n",
       "      <td>Z9</td>\n",
       "      <td>2017-07-11-00.00.00.000000</td>\n",
       "      <td>SDPI</td>\n",
       "      <td>2017-07-26-21.05.32.768751</td>\n",
       "      <td>1.0</td>\n",
       "      <td>100.0</td>\n",
       "      <td>0</td>\n",
       "      <td>N</td>\n",
       "      <td>WW0036_D003UZX_A003DZX</td>\n",
       "      <td>IBM QRadar on Cloud Optimization Service Engag...</td>\n",
       "      <td>NaN</td>\n",
       "      <td>I</td>\n",
       "    </tr>\n",
       "  </tbody>\n",
       "</table>\n",
       "<p>62 rows × 16 columns</p>\n",
       "</div>"
      ],
      "text/plain": [
       "                    REF_ORDERABLE                      MATERIALID  \\\n",
       "13724      WW0058_D0074ZX                         A006LZX           \n",
       "29066      EMP006_D189ALL                         AWUQ8LL           \n",
       "29067             MONTHLY LICENSE  EMPSALYAAOVS   MONTHLY LICENSE   \n",
       "29068      EMP006_D189ALL                         AWUQ9LL           \n",
       "29069         MONTHLY LIC SUPPORT       EMPSALYAAOVS   ML SUPPORT   \n",
       "...                           ...                             ...   \n",
       "166517     EMP007_D1890LL                         AWUS5LL           \n",
       "166518   MONTHLY LIC SUBSCRIPTION    ECMBSAAOVS   ML SUBSCRIPTION   \n",
       "168021     WW0036_D003SZX                         A003BZX           \n",
       "173286     TRUP01_D1NT8LL                         AXYH0LL           \n",
       "176649     WW0036_D003UZX                         A003DZX           \n",
       "\n",
       "                                              DESCRIPTION  \\\n",
       "13724   IBM Digital Experience Managed Hosted for Fede...   \n",
       "29066                                                 NaN   \n",
       "29067                                                  Z8   \n",
       "29068                                                 NaN   \n",
       "29069                                                  Z8   \n",
       "...                                                   ...   \n",
       "166517                                                NaN   \n",
       "166518                                                 Z8   \n",
       "168021  IBM QRadar on Cloud Custom Parser Service Enga...   \n",
       "173286  TRU PINPOINT DETECT STANDARD REDEP ENGAGNT SET UP   \n",
       "176649  IBM QRadar on Cloud Optimization Service Engag...   \n",
       "\n",
       "                         SHORTNAME AVAILABILITYSTATUS  \\\n",
       "13724           IDEMHfFI PER MONTH                 Z9   \n",
       "29066                          NaN                NaN   \n",
       "29067   2014-11-14-00.00.00.000000               SDPI   \n",
       "29068                          NaN                NaN   \n",
       "29069   2014-11-14-00.00.00.000000               SDPI   \n",
       "...                            ...                ...   \n",
       "166517                         NaN                NaN   \n",
       "166518  2014-11-14-00.00.00.000000               SDPI   \n",
       "168021             IQoCCPSE SET UP                 Z9   \n",
       "173286                TRU 4 SET UP                 Z9   \n",
       "176649           IQoCOSE PER ANNUM                 Z9   \n",
       "\n",
       "                            GADATE SOURCESYSTEMNAME  \\\n",
       "13724   2017-11-07-00.00.00.000000             SDPI   \n",
       "29066                          NaN              NaN   \n",
       "29067   2016-08-24-21.05.53.223837              1.0   \n",
       "29068                          NaN              NaN   \n",
       "29069   2016-08-24-21.05.53.224439              1.0   \n",
       "...                            ...              ...   \n",
       "166517                         NaN              NaN   \n",
       "166518  2016-08-24-21.05.53.232390              1.0   \n",
       "168021  2017-07-11-00.00.00.000000             SDPI   \n",
       "173286  2016-06-28-00.00.00.000000             SDPI   \n",
       "176649  2017-07-11-00.00.00.000000             SDPI   \n",
       "\n",
       "                       LASTUPDATED  UNITQTY SPLITPCT     PRODUCTOBSOLETEFLAG  \\\n",
       "13724   2018-11-07-21.05.08.642735      1.0    100.0                       0   \n",
       "29066                          NaN      NaN      NaN                     NaN   \n",
       "29067                        100.0      1.0        N  EMP006_D189ALL_AWUQ8LL   \n",
       "29068                          NaN      NaN      NaN                     NaN   \n",
       "29069                          0.0      1.0        N  EMP006_D189ALL_AWUQ9LL   \n",
       "...                            ...      ...      ...                     ...   \n",
       "166517                         NaN      NaN      NaN                     NaN   \n",
       "166518                         0.0      1.0        N  EMP007_D1890LL_AWUS5LL   \n",
       "168021  2017-07-26-21.05.32.767733      1.0    100.0                       0   \n",
       "173286  2021-05-24-00.00.00.000000      1.0    100.0                       0   \n",
       "176649  2017-07-26-21.05.32.768751      1.0    100.0                       0   \n",
       "\n",
       "                       PRODUCTDIVESTEDFLAG        IDINSOURCESYSTEM  \\\n",
       "13724                                    N  WW0058_D0074ZX_A006LZX   \n",
       "29066                                  NaN                     NaN   \n",
       "29067       Emptoris Spend Analysis Adv VS                ALL        \n",
       "29068                                  NaN                     NaN   \n",
       "29069       Emptoris Spend Analysis Adv VS                ALL        \n",
       "...                                    ...                     ...   \n",
       "166517                                 NaN                     NaN   \n",
       "166518  Emptoris Cont Mgmt Buy Side Adv VS                ALL        \n",
       "168021                                   N  WW0036_D003SZX_A003BZX   \n",
       "173286                                   N  TRUP01_D1NT8LL_AXYH0LL   \n",
       "176649                                   N  WW0036_D003UZX_A003DZX   \n",
       "\n",
       "                                         SWSUBDESCRIPTION    OSCODE ACTION  \n",
       "13724   IBM Digital Experience Managed Hosted for Fede...       NaN      I  \n",
       "29066                                                 NaN       NaN    NaN  \n",
       "29067                                                   I       NaN    NaN  \n",
       "29068                                                 NaN       NaN    NaN  \n",
       "29069                                                   I       NaN    NaN  \n",
       "...                                                   ...       ...    ...  \n",
       "166517                                                NaN       NaN    NaN  \n",
       "166518                                                  I       NaN    NaN  \n",
       "168021  IBM QRadar on Cloud Custom Parser Service Enga...       NaN      I  \n",
       "173286                                                NaN  N/AP          I  \n",
       "176649  IBM QRadar on Cloud Optimization Service Engag...       NaN      I  \n",
       "\n",
       "[62 rows x 16 columns]"
      ]
     },
     "execution_count": 34,
     "metadata": {},
     "output_type": "execute_result"
    }
   ],
   "source": [
    "df[df.isna().any(axis=1)]"
   ]
  },
  {
   "cell_type": "code",
   "execution_count": 24,
   "id": "bf7e13df",
   "metadata": {},
   "outputs": [
    {
     "data": {
      "text/plain": [
       "REF_ORDERABLE           0\n",
       "MATERIALID              0\n",
       "DESCRIPTION            24\n",
       "SHORTNAME              24\n",
       "AVAILABILITYSTATUS     24\n",
       "GADATE                 24\n",
       "SOURCESYSTEMNAME       24\n",
       "LASTUPDATED            24\n",
       "UNITQTY                24\n",
       "SPLITPCT               24\n",
       "PRODUCTOBSOLETEFLAG    24\n",
       "PRODUCTDIVESTEDFLAG    24\n",
       "IDINSOURCESYSTEM       24\n",
       "SWSUBDESCRIPTION       29\n",
       "OSCODE                 57\n",
       "ACTION                 48\n",
       "dtype: int64"
      ]
     },
     "execution_count": 24,
     "metadata": {},
     "output_type": "execute_result"
    }
   ],
   "source": [
    "df.isnull().sum()"
   ]
  },
  {
   "cell_type": "code",
   "execution_count": 25,
   "id": "ab12eb37",
   "metadata": {},
   "outputs": [
    {
     "data": {
      "text/plain": [
       "0         False\n",
       "1         False\n",
       "2         False\n",
       "3         False\n",
       "4         False\n",
       "          ...  \n",
       "180474    False\n",
       "180475    False\n",
       "180476    False\n",
       "180477    False\n",
       "180478    False\n",
       "Name: ACTION, Length: 180479, dtype: bool"
      ]
     },
     "execution_count": 25,
     "metadata": {},
     "output_type": "execute_result"
    }
   ],
   "source": [
    "df['ACTION'].isnull()"
   ]
  },
  {
   "cell_type": "code",
   "execution_count": 36,
   "id": "ace8735e",
   "metadata": {},
   "outputs": [],
   "source": [
    "df1 = pd.read_csv('test_data3.csv')"
   ]
  },
  {
   "cell_type": "code",
   "execution_count": 38,
   "id": "50e06244",
   "metadata": {},
   "outputs": [],
   "source": [
    "df2 = pd.read_csv('test_data3_worked_18445.csv')"
   ]
  },
  {
   "cell_type": "code",
   "execution_count": 52,
   "id": "75d1ca38",
   "metadata": {},
   "outputs": [
    {
     "name": "stdout",
     "output_type": "stream",
     "text": [
      "5102 CLSTPOS_D272ILL_AZ2B0LL\n"
     ]
    }
   ],
   "source": [
    "d = {}\n",
    "for index, rows in df1.iterrows():\n",
    "    d[rows['IDINSOURCESYSTEM']] = True\n",
    "#     if(df1.iloc[index]['IDINSOURCESYSTEM'] != df2.iloc[index]['IDINSOURCESYSTEM']):\n",
    "#         print(index, df1.iloc[index]['IDINSOURCESYSTEM']) \n",
    "#         break\n",
    "for index, rows in df2.iterrows():\n",
    "    if rows['IDINSOURCESYSTEM'] not in d:\n",
    "        print(index, rows['IDINSOURCESYSTEM'])"
   ]
  },
  {
   "cell_type": "code",
   "execution_count": 43,
   "id": "388c0982",
   "metadata": {},
   "outputs": [
    {
     "data": {
      "text/plain": [
       "False"
      ]
     },
     "execution_count": 43,
     "metadata": {},
     "output_type": "execute_result"
    }
   ],
   "source": [
    "df1.equals(df2)"
   ]
  },
  {
   "cell_type": "code",
   "execution_count": null,
   "id": "6dd0e8b8",
   "metadata": {},
   "outputs": [],
   "source": []
  }
 ],
 "metadata": {
  "kernelspec": {
   "display_name": "Python 3 (ipykernel)",
   "language": "python",
   "name": "python3"
  },
  "language_info": {
   "codemirror_mode": {
    "name": "ipython",
    "version": 3
   },
   "file_extension": ".py",
   "mimetype": "text/x-python",
   "name": "python",
   "nbconvert_exporter": "python",
   "pygments_lexer": "ipython3",
   "version": "3.11.5"
  }
 },
 "nbformat": 4,
 "nbformat_minor": 5
}
