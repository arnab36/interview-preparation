{
 "cells": [
  {
   "cell_type": "code",
   "execution_count": null,
   "id": "6c1711ce",
   "metadata": {},
   "outputs": [],
   "source": [
    "import pandas as pd\n",
    "import numpy as np\n",
    "from sklearn.model_selection import train_test_split\n",
    "import os, psutil\n",
    "import gc"
   ]
  },
  {
   "cell_type": "code",
   "execution_count": null,
   "id": "2b5f47d3",
   "metadata": {},
   "outputs": [],
   "source": [
    "def print_memory_consumed():\n",
    "    process = psutil.Process()\n",
    "    print('Memory used {} MB'.format(process.memory_info().rss/(1000*1000)))"
   ]
  },
  {
   "cell_type": "code",
   "execution_count": null,
   "id": "f3c45ce8",
   "metadata": {},
   "outputs": [],
   "source": [
    "print_memory_consumed()"
   ]
  },
  {
   "cell_type": "code",
   "execution_count": null,
   "id": "75ee2ae4",
   "metadata": {},
   "outputs": [],
   "source": [
    "df = pd.read_csv('../../Data/moviedataset/ml-latest/ratings.csv')"
   ]
  },
  {
   "cell_type": "code",
   "execution_count": null,
   "id": "4ba5bcd9",
   "metadata": {},
   "outputs": [],
   "source": [
    "df.head()"
   ]
  },
  {
   "cell_type": "code",
   "execution_count": null,
   "id": "6b33212e",
   "metadata": {},
   "outputs": [],
   "source": [
    "print_memory_consumed()"
   ]
  },
  {
   "cell_type": "code",
   "execution_count": null,
   "id": "60238f00",
   "metadata": {},
   "outputs": [],
   "source": [
    "X = df.drop('timestamp', axis=1)"
   ]
  },
  {
   "cell_type": "code",
   "execution_count": null,
   "id": "9ba5e999",
   "metadata": {},
   "outputs": [],
   "source": [
    "y = df['timestamp']"
   ]
  },
  {
   "cell_type": "code",
   "execution_count": null,
   "id": "ac6c216b",
   "metadata": {},
   "outputs": [],
   "source": [
    "# split data into train and test set\n",
    "X_train, X_test, y_train, y_test = train_test_split(X, y, test_size=0.1, random_state = 12)"
   ]
  },
  {
   "cell_type": "code",
   "execution_count": null,
   "id": "c88abebe",
   "metadata": {},
   "outputs": [],
   "source": [
    "print_memory_consumed()"
   ]
  },
  {
   "cell_type": "code",
   "execution_count": null,
   "id": "26e27629",
   "metadata": {},
   "outputs": [],
   "source": [
    "a = []\n",
    "for i in range(0,100):\n",
    "    a.append(X_train)"
   ]
  },
  {
   "cell_type": "code",
   "execution_count": null,
   "id": "9e35f281",
   "metadata": {},
   "outputs": [],
   "source": [
    "print_memory_consumed()"
   ]
  },
  {
   "cell_type": "code",
   "execution_count": null,
   "id": "9e2369c0",
   "metadata": {},
   "outputs": [],
   "source": [
    "df = None"
   ]
  },
  {
   "cell_type": "code",
   "execution_count": null,
   "id": "41d4c458",
   "metadata": {},
   "outputs": [],
   "source": [
    "print_memory_consumed()"
   ]
  },
  {
   "cell_type": "code",
   "execution_count": null,
   "id": "9aa9643a",
   "metadata": {},
   "outputs": [],
   "source": [
    "X_train = None \n",
    "X_test =  None\n",
    "y_train = None\n",
    "y_test = None"
   ]
  },
  {
   "cell_type": "code",
   "execution_count": null,
   "id": "af349cc1",
   "metadata": {},
   "outputs": [],
   "source": [
    "print_memory_consumed()"
   ]
  },
  {
   "cell_type": "code",
   "execution_count": null,
   "id": "495a5811",
   "metadata": {},
   "outputs": [],
   "source": [
    "a"
   ]
  },
  {
   "cell_type": "code",
   "execution_count": null,
   "id": "7914957f",
   "metadata": {},
   "outputs": [],
   "source": [
    "print_memory_consumed()"
   ]
  },
  {
   "cell_type": "code",
   "execution_count": null,
   "id": "3823cca3",
   "metadata": {},
   "outputs": [],
   "source": [
    "a = None"
   ]
  },
  {
   "cell_type": "code",
   "execution_count": null,
   "id": "5f391f6c",
   "metadata": {},
   "outputs": [],
   "source": [
    "print_memory_consumed()"
   ]
  },
  {
   "cell_type": "code",
   "execution_count": null,
   "id": "088b1f43",
   "metadata": {},
   "outputs": [],
   "source": [
    "print_memory_consumed()"
   ]
  },
  {
   "cell_type": "code",
   "execution_count": null,
   "id": "b02dac2e",
   "metadata": {},
   "outputs": [],
   "source": [
    "del a\n",
    "del df\n",
    "del X_train\n",
    "del X_test\n",
    "del y_train\n",
    "del y_test\n",
    "gc.collect()"
   ]
  },
  {
   "cell_type": "code",
   "execution_count": null,
   "id": "a9aff90c",
   "metadata": {},
   "outputs": [],
   "source": [
    "print_memory_consumed()"
   ]
  },
  {
   "cell_type": "code",
   "execution_count": null,
   "id": "85d4c8cf",
   "metadata": {},
   "outputs": [],
   "source": [
    "# If you run this, it will not work in juyter notebook. Jupyter kernel keeps stuff in memory and it does not free up \n",
    "# the space."
   ]
  }
 ],
 "metadata": {
  "kernelspec": {
   "display_name": "Python 3 (ipykernel)",
   "language": "python",
   "name": "python3"
  },
  "language_info": {
   "codemirror_mode": {
    "name": "ipython",
    "version": 3
   },
   "file_extension": ".py",
   "mimetype": "text/x-python",
   "name": "python",
   "nbconvert_exporter": "python",
   "pygments_lexer": "ipython3",
   "version": "3.11.5"
  }
 },
 "nbformat": 4,
 "nbformat_minor": 5
}
